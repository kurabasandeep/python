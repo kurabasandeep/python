{
 "cells": [
  {
   "cell_type": "markdown",
   "id": "262cda6d-20a8-4fee-bac8-b54e4498204a",
   "metadata": {},
   "source": [
    "# Python Loops:\n",
    "#In Python, loops are used to repeat a block of code multiple times.\n",
    "#There are two main types of loops in Python: for loops and while loops.\n",
    "\n",
    "# 1. for Loops\n",
    "A for loop is used to iterate over a sequence (such as a list, tuple, dictionary, set, or string)\n",
    "and execute a block of code for each item in the sequence."
   ]
  },
  {
   "cell_type": "code",
   "execution_count": 12,
   "id": "3fea5f3c-615d-4687-9e7d-9867f86b6ab9",
   "metadata": {},
   "outputs": [
    {
     "name": "stdout",
     "output_type": "stream",
     "text": [
      "1a2b345"
     ]
    }
   ],
   "source": [
    "numbers = [1,'a', 2,'b', 3, 4, 5]\n",
    "\n",
    "for num in numbers:\n",
    "    print(num, end='')\n",
    "#print(numbers)"
   ]
  },
  {
   "cell_type": "code",
   "execution_count": null,
   "id": "2f0533ac-2104-4e12-bd52-97db928437a4",
   "metadata": {},
   "outputs": [],
   "source": []
  },
  {
   "cell_type": "code",
   "execution_count": null,
   "id": "e2b44ed7-6868-4fb8-856c-070efa73ce3c",
   "metadata": {},
   "outputs": [],
   "source": []
  },
  {
   "cell_type": "code",
   "execution_count": 13,
   "id": "c829833b-c26f-4953-b212-1967afb092ec",
   "metadata": {},
   "outputs": [
    {
     "data": {
      "text/plain": [
       "'datas'"
      ]
     },
     "execution_count": 13,
     "metadata": {},
     "output_type": "execute_result"
    }
   ],
   "source": [
    "\"datas\""
   ]
  },
  {
   "cell_type": "code",
   "execution_count": null,
   "id": "e088734e-fcf7-493a-be40-d07a015693d6",
   "metadata": {},
   "outputs": [],
   "source": []
  },
  {
   "cell_type": "code",
   "execution_count": null,
   "id": "a209ab13-ed62-4ccf-a798-73b1d80ff8e1",
   "metadata": {},
   "outputs": [],
   "source": []
  },
  {
   "cell_type": "code",
   "execution_count": null,
   "id": "bd550eae-6d1d-457e-a855-90b57ddd6c93",
   "metadata": {},
   "outputs": [],
   "source": []
  },
  {
   "cell_type": "code",
   "execution_count": 14,
   "id": "2bc086a9-1fe3-4a62-af2f-879f9c30c0cd",
   "metadata": {},
   "outputs": [
    {
     "name": "stdout",
     "output_type": "stream",
     "text": [
      "d*,a*,t*,a*,s*,"
     ]
    }
   ],
   "source": [
    "for i in \"datas\":\n",
    "  print(i+\"*\", end=\",\")"
   ]
  },
  {
   "cell_type": "code",
   "execution_count": null,
   "id": "cadb026e-0901-4e42-bd06-3c1533a88218",
   "metadata": {},
   "outputs": [],
   "source": []
  },
  {
   "cell_type": "code",
   "execution_count": null,
   "id": "cc62cd50-ce18-427d-b533-8d55cdac43ff",
   "metadata": {},
   "outputs": [],
   "source": []
  },
  {
   "cell_type": "code",
   "execution_count": 15,
   "id": "205c9cd3-f65a-4496-9a95-d3a928b8d512",
   "metadata": {},
   "outputs": [
    {
     "name": "stdout",
     "output_type": "stream",
     "text": [
      "2\n",
      "0\n"
     ]
    }
   ],
   "source": [
    "for i in \"20\":\n",
    "  print(i)"
   ]
  },
  {
   "cell_type": "code",
   "execution_count": null,
   "id": "9401daef-f19a-4eff-80f0-19644f868966",
   "metadata": {},
   "outputs": [],
   "source": []
  },
  {
   "cell_type": "code",
   "execution_count": null,
   "id": "e10b6c3d-82a0-4039-95a4-c19d50af46b8",
   "metadata": {},
   "outputs": [],
   "source": []
  },
  {
   "cell_type": "code",
   "execution_count": 16,
   "id": "948d0088-a240-405b-8c12-a60845dc9158",
   "metadata": {},
   "outputs": [
    {
     "name": "stdout",
     "output_type": "stream",
     "text": [
      "10,20,30,40,50,"
     ]
    }
   ],
   "source": [
    "for i in [1,2,3,4,5]:\n",
    "  print(i*10,end =',')  #\\n- new line"
   ]
  },
  {
   "cell_type": "code",
   "execution_count": null,
   "id": "f61bc7dd-0477-4d8c-ae85-fcc2f12098a7",
   "metadata": {},
   "outputs": [],
   "source": []
  },
  {
   "cell_type": "code",
   "execution_count": null,
   "id": "fbb84b67-3040-4610-a099-6c781a7b7a28",
   "metadata": {},
   "outputs": [],
   "source": []
  },
  {
   "cell_type": "code",
   "execution_count": null,
   "id": "31122823-2f81-4493-8d2e-b8a740311b12",
   "metadata": {},
   "outputs": [],
   "source": []
  },
  {
   "cell_type": "code",
   "execution_count": 17,
   "id": "ef925772-f7ec-4201-bdbc-d418a318be77",
   "metadata": {},
   "outputs": [
    {
     "name": "stdout",
     "output_type": "stream",
     "text": [
      "11\t12\t13\t14\t15\t"
     ]
    }
   ],
   "source": [
    "for i in [1,2,3,4,5]:\n",
    "\n",
    "  print(i+10,end ='\\t')   #t - backslash tab"
   ]
  },
  {
   "cell_type": "code",
   "execution_count": null,
   "id": "c5dc2ee5-f26c-449c-a0b0-86cdb9bb3141",
   "metadata": {},
   "outputs": [],
   "source": []
  },
  {
   "cell_type": "code",
   "execution_count": null,
   "id": "cd018edc-a964-4fb8-96ab-b4116bf09996",
   "metadata": {},
   "outputs": [],
   "source": []
  },
  {
   "cell_type": "code",
   "execution_count": null,
   "id": "1e0b7aa8-da49-480b-95ee-496eb22d49dd",
   "metadata": {},
   "outputs": [],
   "source": []
  },
  {
   "cell_type": "code",
   "execution_count": 18,
   "id": "b2c5017b-8a1d-47b8-a1d1-c9684744d5fa",
   "metadata": {},
   "outputs": [
    {
     "name": "stdout",
     "output_type": "stream",
     "text": [
      "11,12,13,14,15,"
     ]
    }
   ],
   "source": [
    "for i in [1,2,3,4,5]:\n",
    "  print(i+10,end =',')"
   ]
  },
  {
   "cell_type": "code",
   "execution_count": null,
   "id": "e9f857b2-c6f2-4de9-b0bb-6e3405c037c7",
   "metadata": {},
   "outputs": [],
   "source": []
  },
  {
   "cell_type": "code",
   "execution_count": null,
   "id": "26970743-0839-4449-b808-becedb2c2aab",
   "metadata": {},
   "outputs": [],
   "source": []
  },
  {
   "cell_type": "code",
   "execution_count": null,
   "id": "9bd8505b-c2bf-4646-b41e-67d7f1feae48",
   "metadata": {},
   "outputs": [],
   "source": []
  },
  {
   "cell_type": "code",
   "execution_count": 19,
   "id": "e3d5c17f-b74c-4655-995c-0621498322a3",
   "metadata": {},
   "outputs": [
    {
     "name": "stdout",
     "output_type": "stream",
     "text": [
      "*****\n",
      "****\n",
      "***\n",
      "**\n",
      "*\n"
     ]
    }
   ],
   "source": [
    "for i in [5,4,3,2,1]:\n",
    "  print(i*\"*\")   #Pattern Programming,"
   ]
  },
  {
   "cell_type": "code",
   "execution_count": null,
   "id": "7126ae83-f3d8-4dcc-9782-a0fbcf223b7b",
   "metadata": {},
   "outputs": [],
   "source": []
  },
  {
   "cell_type": "code",
   "execution_count": null,
   "id": "80777f4f-1789-4e77-b85e-07865a081b04",
   "metadata": {},
   "outputs": [],
   "source": []
  },
  {
   "cell_type": "code",
   "execution_count": null,
   "id": "f899e970-3f43-4762-97e8-fe77ec347fa8",
   "metadata": {},
   "outputs": [],
   "source": []
  },
  {
   "cell_type": "code",
   "execution_count": 20,
   "id": "5c612c92-73ef-4256-b0bb-f707831a073e",
   "metadata": {},
   "outputs": [
    {
     "name": "stdout",
     "output_type": "stream",
     "text": [
      "    *    \n",
      "   ***   \n",
      "  *****  \n",
      " ******* \n",
      "*********\n",
      " ******* \n",
      "  *****  \n",
      "   ***   \n",
      "    *    \n"
     ]
    }
   ],
   "source": [
    "n = 5  # Number of rows for the upper half\n",
    "\n",
    "# Upper part of the diamond\n",
    "for i in range(1, n + 1):\n",
    "    print((\"*\" * (2 * i - 1)).center(2 * n - 1))\n",
    "\n",
    "# Lower part of the diamond\n",
    "for j in range(n - 1, 0, -1):  #range(4,0,-1) --> 4,3,2,1\n",
    "    print((\"*\" * (2 * j - 1)).center(2 * n - 1))"
   ]
  },
  {
   "cell_type": "code",
   "execution_count": null,
   "id": "86d44fe6-ecfd-426a-94f5-e104bf1a37b7",
   "metadata": {},
   "outputs": [],
   "source": []
  },
  {
   "cell_type": "code",
   "execution_count": null,
   "id": "e0f8caa7-a21b-4fd8-b1c0-48815530d2b8",
   "metadata": {},
   "outputs": [],
   "source": []
  },
  {
   "cell_type": "code",
   "execution_count": null,
   "id": "6897be88-2d06-43f3-b39c-4b979eb15cd5",
   "metadata": {},
   "outputs": [],
   "source": []
  },
  {
   "cell_type": "code",
   "execution_count": 21,
   "id": "3ce76f34-e339-44e3-b35e-f727c572d96e",
   "metadata": {},
   "outputs": [
    {
     "name": "stdout",
     "output_type": "stream",
     "text": [
      "    *    \n",
      "   ***   \n",
      "  *****  \n",
      " ******* \n",
      "*********\n"
     ]
    }
   ],
   "source": [
    "n = 5  # Number of rows for the upper half\n",
    "\n",
    "# Upper part of the diamond\n",
    "for i in range(1,6):  #1,2,3,4,5\n",
    "    print((\"*\" *(2 * i - 1)).center(2 * n - 1))"
   ]
  },
  {
   "cell_type": "code",
   "execution_count": null,
   "id": "9bd87734-cbb4-4911-8774-4649d13cbd33",
   "metadata": {},
   "outputs": [],
   "source": []
  },
  {
   "cell_type": "code",
   "execution_count": null,
   "id": "2114e5f7-ee90-4b90-be4a-e7514ed78e0a",
   "metadata": {},
   "outputs": [],
   "source": []
  },
  {
   "cell_type": "code",
   "execution_count": null,
   "id": "ac9b984f-83b3-4866-9a2e-cebb74262cb8",
   "metadata": {},
   "outputs": [],
   "source": []
  },
  {
   "cell_type": "code",
   "execution_count": 23,
   "id": "218eb00b-301d-495f-89a7-d4c32b744b73",
   "metadata": {},
   "outputs": [
    {
     "name": "stdout",
     "output_type": "stream",
     "text": [
      "3\n",
      "33\n",
      "333\n",
      "3333\n",
      "33333\n"
     ]
    }
   ],
   "source": [
    "for i in [1,2,3,4,5]:\n",
    "  print(i*\"3\")"
   ]
  },
  {
   "cell_type": "code",
   "execution_count": null,
   "id": "345f932d-0787-4dfd-8bec-ecb597b44683",
   "metadata": {},
   "outputs": [],
   "source": []
  },
  {
   "cell_type": "code",
   "execution_count": null,
   "id": "dc656fc7-71e7-40f9-a2b8-4b313692a688",
   "metadata": {},
   "outputs": [],
   "source": []
  },
  {
   "cell_type": "code",
   "execution_count": null,
   "id": "3edf2162-98c5-4957-aa1e-7f0b84e0d52c",
   "metadata": {},
   "outputs": [],
   "source": []
  },
  {
   "cell_type": "code",
   "execution_count": 24,
   "id": "13c0b61e-b584-4047-8a2f-9beea0b9d781",
   "metadata": {},
   "outputs": [
    {
     "name": "stdout",
     "output_type": "stream",
     "text": [
      "1,2,3,4,5,6,7,8,9,10,11,12,13,14,15,16,17,18,19,20,21,22,23,24,25,26,27,28,29,30,31,32,33,34,35,36,37,38,39,40,41,42,43,44,45,46,47,48,49,50,51,52,53,54,55,56,57,58,59,60,61,62,63,64,65,66,67,68,69,70,71,72,73,74,75,76,77,78,79,80,81,82,83,84,85,86,87,88,89,90,91,92,93,94,95,96,97,98,99,100,"
     ]
    }
   ],
   "source": [
    "for i in range(1,101):  #0,1,2,3,4,5,6,7,8,9\n",
    "  print(i,end=',')"
   ]
  },
  {
   "cell_type": "code",
   "execution_count": null,
   "id": "dae7a65c-b8b7-4ed9-a836-12c313692afb",
   "metadata": {},
   "outputs": [],
   "source": []
  },
  {
   "cell_type": "code",
   "execution_count": null,
   "id": "b3c5f4be-90d5-4ff5-a8c0-f120663e3848",
   "metadata": {},
   "outputs": [],
   "source": []
  },
  {
   "cell_type": "code",
   "execution_count": null,
   "id": "3d1ede78-ca91-4be9-9ad9-9b93805cdc67",
   "metadata": {},
   "outputs": [],
   "source": []
  },
  {
   "cell_type": "code",
   "execution_count": 25,
   "id": "ca3f5a14-b97e-4244-964a-82328e004d0b",
   "metadata": {},
   "outputs": [
    {
     "name": "stdout",
     "output_type": "stream",
     "text": [
      "0 3 6 9 "
     ]
    }
   ],
   "source": [
    "for i in range(0,10,3):  #step size\n",
    "  print(i,end=' ')"
   ]
  },
  {
   "cell_type": "code",
   "execution_count": null,
   "id": "f6f73492-121a-46b4-95dd-efadb66aadab",
   "metadata": {},
   "outputs": [],
   "source": []
  },
  {
   "cell_type": "code",
   "execution_count": null,
   "id": "06731144-4490-4258-9b2b-782a71371450",
   "metadata": {},
   "outputs": [],
   "source": []
  },
  {
   "cell_type": "code",
   "execution_count": null,
   "id": "5aa0c3c3-09f7-4260-881b-68401beca03f",
   "metadata": {},
   "outputs": [],
   "source": []
  },
  {
   "cell_type": "code",
   "execution_count": 26,
   "id": "925a44ca-4081-4260-a7d3-3fb28e7e8f2d",
   "metadata": {},
   "outputs": [
    {
     "name": "stdout",
     "output_type": "stream",
     "text": [
      "10,9,8,7,6,5,4,3,2,1,"
     ]
    }
   ],
   "source": [
    "for i in range(10,0,-1):  #step size\n",
    "  print(i,end=',')"
   ]
  },
  {
   "cell_type": "code",
   "execution_count": null,
   "id": "f7f76885-559c-4613-95e3-d6eeb5613d06",
   "metadata": {},
   "outputs": [],
   "source": []
  },
  {
   "cell_type": "code",
   "execution_count": null,
   "id": "4a5b7efc-26d3-47f6-aba8-c83017297778",
   "metadata": {},
   "outputs": [],
   "source": []
  },
  {
   "cell_type": "code",
   "execution_count": null,
   "id": "655d8877-e1af-4967-a9b9-aa931d202ca1",
   "metadata": {},
   "outputs": [],
   "source": []
  },
  {
   "cell_type": "code",
   "execution_count": 27,
   "id": "3de19d40-389e-4763-8124-567f7f4ca125",
   "metadata": {},
   "outputs": [
    {
     "name": "stdout",
     "output_type": "stream",
     "text": [
      "0,0 is even number\n",
      "1,1 is odd number\n",
      "2,2 is even number\n",
      "3,3 is odd number\n",
      "4,4 is even number\n",
      "5,5 is odd number\n",
      "6,6 is even number\n",
      "7,7 is odd number\n",
      "8,8 is even number\n",
      "9,9 is odd number\n"
     ]
    }
   ],
   "source": [
    "#print even numbers:\n",
    "\n",
    "for i in range(0,10):\n",
    "  print(i,end=',') #0,1,2,3,4,5,.....9\n",
    "  if i%2==0:\n",
    "    print(i,\"is even number\")\n",
    "  else:\n",
    "    print(i,\"is odd number\")"
   ]
  },
  {
   "cell_type": "code",
   "execution_count": null,
   "id": "3492620c-4b15-4054-80c6-9e29d3ed4b9c",
   "metadata": {},
   "outputs": [],
   "source": []
  },
  {
   "cell_type": "code",
   "execution_count": null,
   "id": "1a72750e-0b9c-4c4e-a596-2d5ecd9406aa",
   "metadata": {},
   "outputs": [],
   "source": []
  },
  {
   "cell_type": "code",
   "execution_count": null,
   "id": "28ece906-2142-41d0-83ff-38e89cfa5bfe",
   "metadata": {},
   "outputs": [],
   "source": []
  },
  {
   "cell_type": "code",
   "execution_count": 28,
   "id": "cd4c5090-5a76-4be3-a695-5fc0be63810d",
   "metadata": {},
   "outputs": [
    {
     "name": "stdout",
     "output_type": "stream",
     "text": [
      "12345"
     ]
    }
   ],
   "source": [
    "for i in \"DATA12345\":  #print only DATA\n",
    "  if i.isalpha()==False:\n",
    "    print(i,end='')"
   ]
  },
  {
   "cell_type": "code",
   "execution_count": null,
   "id": "dd2df98b-4011-49a6-a019-6924b69ccd95",
   "metadata": {},
   "outputs": [],
   "source": []
  },
  {
   "cell_type": "code",
   "execution_count": null,
   "id": "66013f59-343a-4652-ad42-78a811c1855e",
   "metadata": {},
   "outputs": [],
   "source": []
  },
  {
   "cell_type": "code",
   "execution_count": null,
   "id": "a0cf59c4-b4b6-4aa7-a5e4-3d9c13a72a4a",
   "metadata": {},
   "outputs": [],
   "source": []
  },
  {
   "cell_type": "code",
   "execution_count": 29,
   "id": "38b5ca4e-e7da-4cdb-ba6b-f26a08dce31d",
   "metadata": {},
   "outputs": [
    {
     "name": "stdout",
     "output_type": "stream",
     "text": [
      "D,A,T,A,"
     ]
    }
   ],
   "source": [
    "for i in \"DATA12345\":\n",
    "  if i.isalpha():\n",
    "    print(i,end=',')"
   ]
  },
  {
   "cell_type": "code",
   "execution_count": null,
   "id": "3432d474-3273-4eb1-ab40-ee5d1fb89e8d",
   "metadata": {},
   "outputs": [],
   "source": []
  },
  {
   "cell_type": "code",
   "execution_count": null,
   "id": "45e795b8-032a-440c-bdda-778099d55aff",
   "metadata": {},
   "outputs": [],
   "source": []
  },
  {
   "cell_type": "code",
   "execution_count": null,
   "id": "3f5c662b-bb20-41ab-b538-931772a656b9",
   "metadata": {},
   "outputs": [],
   "source": []
  },
  {
   "cell_type": "code",
   "execution_count": 30,
   "id": "90c18ecd-a495-4dc8-ba9f-775edbd49038",
   "metadata": {},
   "outputs": [
    {
     "name": "stdout",
     "output_type": "stream",
     "text": [
      "! @ % * $ # $ , , , , & * @ @ $ # ^ ^ # & $ & $ "
     ]
    }
   ],
   "source": [
    "data =\"!@%*$#$,1,2,2,&*@@$#^^#&$&$\"\n",
    "for i in data:\n",
    "  if i.isalnum()==False:\n",
    "    print(i,end=\" \")"
   ]
  },
  {
   "cell_type": "code",
   "execution_count": null,
   "id": "252deb06-e0b2-4fd8-af96-e55a3a7d787f",
   "metadata": {},
   "outputs": [],
   "source": []
  },
  {
   "cell_type": "code",
   "execution_count": null,
   "id": "ba3fac28-3742-4431-bfde-21ed0c621650",
   "metadata": {},
   "outputs": [],
   "source": []
  },
  {
   "cell_type": "code",
   "execution_count": null,
   "id": "f466d76a-2b30-4236-88fa-64dbc51d4a0c",
   "metadata": {},
   "outputs": [],
   "source": []
  },
  {
   "cell_type": "code",
   "execution_count": 31,
   "id": "35bba607-ead4-4dee-b254-d4fe6ea776f0",
   "metadata": {},
   "outputs": [
    {
     "name": "stdout",
     "output_type": "stream",
     "text": [
      "1 26 !\n",
      "2 25 @\n",
      "3 24 %\n",
      "4 23 *\n",
      "5 22 $\n",
      "6 21 #\n",
      "7 20 $\n",
      "8 19 ,\n",
      "9 18 1\n",
      "10 17 ,\n",
      "11 16 2\n",
      "12 15 ,\n",
      "13 14 2\n",
      "14 13 ,\n",
      "15 12 &\n",
      "16 11 *\n",
      "17 10 @\n",
      "18 9 @\n",
      "19 8 $\n",
      "20 7 #\n",
      "21 6 ^\n",
      "22 5 ^\n",
      "23 4 #\n",
      "24 3 &\n",
      "25 2 $\n",
      "26 1 &\n",
      "27 0 $\n"
     ]
    }
   ],
   "source": [
    "x=0\n",
    "y=len(data)\n",
    "for i in data:\n",
    "  x = x+1\n",
    "  y=y-1\n",
    "  print(x,y,i)"
   ]
  },
  {
   "cell_type": "code",
   "execution_count": null,
   "id": "9abd9fe0-910f-46b0-962a-fbe8a6910c7e",
   "metadata": {},
   "outputs": [],
   "source": []
  },
  {
   "cell_type": "code",
   "execution_count": null,
   "id": "0df31590-2168-43f4-a9ab-4923d28d827e",
   "metadata": {},
   "outputs": [],
   "source": []
  },
  {
   "cell_type": "code",
   "execution_count": null,
   "id": "d8ed9039-fd5a-4f53-9751-53c5fb80b991",
   "metadata": {},
   "outputs": [],
   "source": []
  },
  {
   "cell_type": "code",
   "execution_count": 32,
   "id": "6429bd0a-2d24-4426-ad69-86ebc8762227",
   "metadata": {},
   "outputs": [
    {
     "data": {
      "text/plain": [
       "['data', 'engineering']"
      ]
     },
     "execution_count": 32,
     "metadata": {},
     "output_type": "execute_result"
    }
   ],
   "source": [
    "#COUNT NUMBER OF CAPITAL LETTERS\n",
    "a= \"data engineering\"\n",
    "a.split()"
   ]
  },
  {
   "cell_type": "code",
   "execution_count": null,
   "id": "2266be21-a3aa-43d8-a7d2-e0cc79d80cba",
   "metadata": {},
   "outputs": [],
   "source": []
  },
  {
   "cell_type": "code",
   "execution_count": null,
   "id": "a309615c-c75b-4a9c-a7c7-6fc4f190fca3",
   "metadata": {},
   "outputs": [],
   "source": []
  },
  {
   "cell_type": "code",
   "execution_count": null,
   "id": "f60a0d6f-1c43-4382-9746-a57f79e8d935",
   "metadata": {},
   "outputs": [],
   "source": []
  },
  {
   "cell_type": "code",
   "execution_count": 33,
   "id": "8e051d09-94cf-4a56-abd3-72eecbff2d53",
   "metadata": {},
   "outputs": [
    {
     "name": "stdout",
     "output_type": "stream",
     "text": [
      "The,Sun,emits,10²⁶,watts,of,Life,depends,on,its,light,Water,of,supports,marine,life,weather,Tech,evolves,rapid,IoT,5G,reshape,how,we,learn,"
     ]
    }
   ],
   "source": [
    "text =''' The Sun emits ~3.8 × 10²⁶ watts of energy! Life depends on its light & heat.\n",
    "Water (~71% of Earth) supports ecosystems, marine life & weather cycles.\n",
    "Tech evolves @ rapid speed—AI, IoT & 5G reshape how we work, learn & connect!'''\n",
    "\n",
    "text.split()\n",
    "\n",
    "for i in text.split():\n",
    "  if i.isalnum()==True:\n",
    "    print(i,end=',')"
   ]
  },
  {
   "cell_type": "code",
   "execution_count": null,
   "id": "fb57df9c-d707-43ce-b297-51af22d41297",
   "metadata": {},
   "outputs": [],
   "source": []
  },
  {
   "cell_type": "code",
   "execution_count": null,
   "id": "67bc9b8c-ac52-45e0-844c-2ba253eb2ab4",
   "metadata": {},
   "outputs": [],
   "source": []
  },
  {
   "cell_type": "code",
   "execution_count": null,
   "id": "344ea3ef-f637-4a8f-aba4-7e7a9bdb6065",
   "metadata": {},
   "outputs": [],
   "source": []
  },
  {
   "cell_type": "code",
   "execution_count": 34,
   "id": "90767263-b8a4-4c6a-afd5-25a70c6cb1c2",
   "metadata": {},
   "outputs": [
    {
     "name": "stdout",
     "output_type": "stream",
     "text": [
      "~3.8,×,energy!,&,heat.,(~71%,Earth),ecosystems,,&,cycles.,@,speed—AI,,&,work,,&,connect!,"
     ]
    }
   ],
   "source": [
    "for i in text.split():\n",
    "  if i.isalnum()==False:\n",
    "    print(i,end=',')"
   ]
  },
  {
   "cell_type": "code",
   "execution_count": null,
   "id": "e68e0db1-8435-4340-9bba-26de37d5174b",
   "metadata": {},
   "outputs": [],
   "source": []
  },
  {
   "cell_type": "code",
   "execution_count": null,
   "id": "42255fdf-f9b4-41ad-90e2-86fad9241284",
   "metadata": {},
   "outputs": [],
   "source": []
  },
  {
   "cell_type": "code",
   "execution_count": null,
   "id": "33b617b7-3d39-46cd-bce1-4d4daba40a99",
   "metadata": {},
   "outputs": [],
   "source": []
  },
  {
   "cell_type": "code",
   "execution_count": 35,
   "id": "677640e4-cc99-4403-a6e2-9715cf090b5e",
   "metadata": {},
   "outputs": [],
   "source": [
    "#Find How many capital letters\n",
    "x=0\n",
    "for i in text:\n",
    "  if i.isupper():\n",
    "    x=x+1"
   ]
  },
  {
   "cell_type": "code",
   "execution_count": null,
   "id": "9c6882ca-fc20-4e9a-a7c9-d43250ac8d53",
   "metadata": {},
   "outputs": [],
   "source": []
  },
  {
   "cell_type": "code",
   "execution_count": null,
   "id": "7f68d3a4-c86c-464b-b8c8-7feb5e0f2ca1",
   "metadata": {},
   "outputs": [],
   "source": []
  },
  {
   "cell_type": "code",
   "execution_count": null,
   "id": "3c7c1505-4cdb-4050-abe3-af7b20cc0702",
   "metadata": {},
   "outputs": [],
   "source": []
  },
  {
   "cell_type": "code",
   "execution_count": 36,
   "id": "f308d13d-bc47-4bb7-9646-bbd6498428f1",
   "metadata": {},
   "outputs": [
    {
     "data": {
      "text/plain": [
       "11"
      ]
     },
     "execution_count": 36,
     "metadata": {},
     "output_type": "execute_result"
    }
   ],
   "source": [
    "x"
   ]
  },
  {
   "cell_type": "code",
   "execution_count": 37,
   "id": "83510c05-a931-4a10-aab3-a94de4aafdb5",
   "metadata": {},
   "outputs": [
    {
     "name": "stdout",
     "output_type": "stream",
     "text": [
      "T,S,L,W,E,T,A,I,I,T,G,"
     ]
    }
   ],
   "source": [
    "#Find Capital Letters:\n",
    "x=0\n",
    "for i in text:\n",
    "  if i.isupper():\n",
    "    x=x+1\n",
    "    print(i,end=',')"
   ]
  },
  {
   "cell_type": "code",
   "execution_count": null,
   "id": "99bea353-e3ca-4d57-ada1-a2497b177c07",
   "metadata": {},
   "outputs": [],
   "source": []
  },
  {
   "cell_type": "code",
   "execution_count": null,
   "id": "5276886d-851e-45ae-8e32-ddbd78818949",
   "metadata": {},
   "outputs": [],
   "source": []
  },
  {
   "cell_type": "code",
   "execution_count": null,
   "id": "64fe8ee5-1491-4706-a3ff-f2b6e96d1965",
   "metadata": {},
   "outputs": [],
   "source": []
  },
  {
   "cell_type": "code",
   "execution_count": 38,
   "id": "764929b6-9a88-49c5-83d3-93afbd6893e2",
   "metadata": {},
   "outputs": [
    {
     "name": "stdout",
     "output_type": "stream",
     "text": [
      "0 9\n",
      "1 8\n",
      "2 7\n",
      "3 6\n",
      "4 5\n",
      "5 4\n",
      "6 3\n",
      "7 2\n",
      "8 1\n",
      "9 0\n"
     ]
    }
   ],
   "source": [
    "for i in range(0,10):\n",
    "  print(i,9-i)"
   ]
  },
  {
   "cell_type": "code",
   "execution_count": null,
   "id": "0bb26af1-4a8b-41ed-b4ef-91eaa49902c0",
   "metadata": {},
   "outputs": [],
   "source": []
  },
  {
   "cell_type": "code",
   "execution_count": null,
   "id": "3173bcc5-2e77-4b99-bae3-cb33d1e5fc01",
   "metadata": {},
   "outputs": [],
   "source": []
  },
  {
   "cell_type": "code",
   "execution_count": null,
   "id": "e21cebb9-5a5f-45c6-8930-66609f2bff9c",
   "metadata": {},
   "outputs": [],
   "source": []
  },
  {
   "cell_type": "code",
   "execution_count": 39,
   "id": "b852f9b0-c5a3-4a42-902c-c419f83895b2",
   "metadata": {},
   "outputs": [
    {
     "name": "stdout",
     "output_type": "stream",
     "text": [
      "0 9\n",
      "1 9\n",
      "2 9\n",
      "3 9\n",
      "4 9\n",
      "5 9\n",
      "6 9\n",
      "7 9\n",
      "8 9\n",
      "9 9\n"
     ]
    }
   ],
   "source": [
    "# 9 is lenght of range\n",
    "for i in range(0,10):\n",
    "  print(i,len(range(0,10))-1)"
   ]
  },
  {
   "cell_type": "code",
   "execution_count": null,
   "id": "a0c2bb45-4c13-4c9b-aaa3-ae6d452d1609",
   "metadata": {},
   "outputs": [],
   "source": []
  },
  {
   "cell_type": "code",
   "execution_count": null,
   "id": "2d6b4cb9-34ab-4f3d-b550-fa6670c910be",
   "metadata": {},
   "outputs": [],
   "source": []
  },
  {
   "cell_type": "code",
   "execution_count": null,
   "id": "81d32123-5e0c-4838-a519-d6d62a16939d",
   "metadata": {},
   "outputs": [],
   "source": []
  },
  {
   "cell_type": "code",
   "execution_count": 40,
   "id": "bb2ca690-11e8-43df-a731-21fc00be239a",
   "metadata": {},
   "outputs": [
    {
     "name": "stdout",
     "output_type": "stream",
     "text": [
      "*\n",
      "**\n",
      "***\n",
      "****\n",
      "*****\n"
     ]
    }
   ],
   "source": [
    "for i in range(1,6):\n",
    "  print(i*\"*\")"
   ]
  },
  {
   "cell_type": "code",
   "execution_count": null,
   "id": "e94c073b-c6cb-4aa3-88e2-0215183f3069",
   "metadata": {},
   "outputs": [],
   "source": []
  },
  {
   "cell_type": "code",
   "execution_count": null,
   "id": "eeb6db2c-da5f-4ad9-9eac-5d4e16bd0970",
   "metadata": {},
   "outputs": [],
   "source": []
  },
  {
   "cell_type": "code",
   "execution_count": null,
   "id": "d9355558-fffd-4f3a-a0a5-6b78a0daf41e",
   "metadata": {},
   "outputs": [],
   "source": []
  },
  {
   "cell_type": "code",
   "execution_count": 41,
   "id": "cc3051eb-8e80-4e1f-9030-02d426197f93",
   "metadata": {},
   "outputs": [
    {
     "name": "stdout",
     "output_type": "stream",
     "text": [
      "*****\n",
      "****\n",
      "***\n",
      "**\n",
      "*\n"
     ]
    }
   ],
   "source": [
    "#print in reverse order\n",
    "for i in range(1,6):\n",
    "  print((6-i)*\"*\")"
   ]
  },
  {
   "cell_type": "code",
   "execution_count": null,
   "id": "971b3fd7-d778-4cb6-bf92-4bfea3925f0f",
   "metadata": {},
   "outputs": [],
   "source": []
  },
  {
   "cell_type": "code",
   "execution_count": null,
   "id": "e827e78a-6093-4b64-88ee-76b6361cd5f4",
   "metadata": {},
   "outputs": [],
   "source": []
  },
  {
   "cell_type": "code",
   "execution_count": null,
   "id": "dabf88cf-4454-4546-9eed-131f572af6c5",
   "metadata": {},
   "outputs": [],
   "source": []
  },
  {
   "cell_type": "code",
   "execution_count": 45,
   "id": "8d8009a0-e5d4-4c92-b43f-80fe0beaa92a",
   "metadata": {},
   "outputs": [
    {
     "name": "stdout",
     "output_type": "stream",
     "text": [
      "*\n",
      "**\n",
      "***\n",
      "****\n",
      "*****\n",
      "*****\n",
      "****\n",
      "***\n",
      "**\n",
      "*\n"
     ]
    }
   ],
   "source": [
    "for i in range(1,6):\n",
    "  print(i*\"*\")\n",
    "  if i==5:\n",
    "    for j in range(5,0,-1):  #Reverse order\n",
    "       print(j*\"*\")"
   ]
  },
  {
   "cell_type": "code",
   "execution_count": null,
   "id": "66d0d1bf-c7df-4249-8a63-25f1838b8a8b",
   "metadata": {},
   "outputs": [],
   "source": []
  },
  {
   "cell_type": "code",
   "execution_count": null,
   "id": "c5d38763-142c-4996-9c70-a309b9545004",
   "metadata": {},
   "outputs": [],
   "source": []
  },
  {
   "cell_type": "code",
   "execution_count": null,
   "id": "fa47e9e0-3209-4b69-a7be-e18db75acc72",
   "metadata": {},
   "outputs": [],
   "source": []
  },
  {
   "cell_type": "code",
   "execution_count": 46,
   "id": "17fe7d0b-c1cd-4ff0-baf1-a9ee3c57a2ee",
   "metadata": {},
   "outputs": [
    {
     "data": {
      "text/plain": [
       "'1213145155'"
      ]
     },
     "execution_count": 46,
     "metadata": {},
     "output_type": "execute_result"
    }
   ],
   "source": [
    "\"1213145155\"\n",
    "\n",
    "#ADD ABOVE STRING"
   ]
  },
  {
   "cell_type": "code",
   "execution_count": null,
   "id": "60c36e1c-2117-4fce-8bc4-27cecb2ce9a6",
   "metadata": {},
   "outputs": [],
   "source": []
  },
  {
   "cell_type": "code",
   "execution_count": null,
   "id": "63e37dcc-07a4-45f6-968f-8a83b1d41228",
   "metadata": {},
   "outputs": [],
   "source": []
  },
  {
   "cell_type": "code",
   "execution_count": null,
   "id": "2bdb3cf7-9cbd-44fb-a3f6-cbcfe12df4a7",
   "metadata": {},
   "outputs": [],
   "source": []
  },
  {
   "cell_type": "code",
   "execution_count": null,
   "id": "a9846dd5-37ea-4485-81aa-06b8ea17d048",
   "metadata": {},
   "outputs": [],
   "source": []
  },
  {
   "cell_type": "code",
   "execution_count": null,
   "id": "50923e65-3c1f-485f-a1bc-9d0be6e14aee",
   "metadata": {},
   "outputs": [],
   "source": []
  },
  {
   "cell_type": "markdown",
   "id": "2f93d4c3-3b79-492b-8323-592f46cc4355",
   "metadata": {},
   "source": [
    "# 2. while Loops\n",
    "A while loop repeats a block of code as long as a specified condition is true."
   ]
  },
  {
   "cell_type": "code",
   "execution_count": 48,
   "id": "bc9f4d73-9052-4e0d-81a4-45d7341bd1ac",
   "metadata": {},
   "outputs": [
    {
     "name": "stdout",
     "output_type": "stream",
     "text": [
      "15\n",
      "17\n",
      "19\n",
      "21\n",
      "23\n",
      "25\n",
      "27\n",
      "29\n"
     ]
    }
   ],
   "source": [
    "count = 15\n",
    "\n",
    "while count <= 30:  #condition\n",
    "    print(count)\n",
    "    count += 2   # 1,2,3,4,5"
   ]
  },
  {
   "cell_type": "code",
   "execution_count": null,
   "id": "fc7533dc-1837-488f-8f4d-5e52a1d22b43",
   "metadata": {},
   "outputs": [],
   "source": []
  },
  {
   "cell_type": "code",
   "execution_count": null,
   "id": "e740b80b-9659-46d2-880b-ee6a707c853c",
   "metadata": {},
   "outputs": [],
   "source": []
  },
  {
   "cell_type": "code",
   "execution_count": null,
   "id": "87ce8f04-2552-4031-9146-8ec309a1083f",
   "metadata": {},
   "outputs": [],
   "source": []
  },
  {
   "cell_type": "code",
   "execution_count": 49,
   "id": "1e39b2f5-8e31-4bd4-bc87-64c8086d2bd6",
   "metadata": {},
   "outputs": [
    {
     "name": "stdout",
     "output_type": "stream",
     "text": [
      "0\n",
      "2\n",
      "4\n",
      "6\n",
      "8\n",
      "10\n",
      "12\n",
      "14\n",
      "16\n",
      "18\n",
      "20\n",
      "22\n",
      "24\n",
      "26\n",
      "28\n",
      "30\n",
      "32\n",
      "34\n",
      "36\n",
      "38\n",
      "40\n",
      "42\n",
      "44\n",
      "46\n",
      "48\n",
      "50\n",
      "52\n",
      "54\n",
      "56\n",
      "58\n",
      "60\n",
      "62\n",
      "64\n",
      "66\n",
      "68\n",
      "70\n",
      "72\n",
      "74\n",
      "76\n",
      "78\n",
      "80\n",
      "82\n",
      "84\n",
      "86\n",
      "88\n",
      "90\n",
      "92\n",
      "94\n",
      "96\n",
      "98\n",
      "100\n"
     ]
    }
   ],
   "source": [
    "count = 0\n",
    "\n",
    "while count <= 100:  #condition\n",
    "    print(count)\n",
    "    count +=2"
   ]
  },
  {
   "cell_type": "code",
   "execution_count": null,
   "id": "e740a090-9b17-4514-9f94-c137dcb11d9d",
   "metadata": {},
   "outputs": [],
   "source": []
  },
  {
   "cell_type": "code",
   "execution_count": null,
   "id": "3cd3a5f9-2992-41b8-94d0-ac0d6153bc65",
   "metadata": {},
   "outputs": [],
   "source": []
  },
  {
   "cell_type": "code",
   "execution_count": null,
   "id": "b57ac2c2-9939-4760-bc90-4c29187c1e2d",
   "metadata": {},
   "outputs": [],
   "source": []
  },
  {
   "cell_type": "code",
   "execution_count": 50,
   "id": "c65de428-e1a3-416c-85db-8d92f57ede44",
   "metadata": {},
   "outputs": [
    {
     "name": "stdout",
     "output_type": "stream",
     "text": [
      "Interation 1 2\n",
      "Interation 2 3\n",
      "Interation 3 4\n"
     ]
    }
   ],
   "source": [
    "x=2\n",
    "counter=1\n",
    "\n",
    "while x<5:\n",
    "  print(\"Interation\", counter,x)\n",
    "  counter=counter+1\n",
    "  x=x+1\n",
    "\n",
    "  #1,2,3\n",
    "  #"
   ]
  },
  {
   "cell_type": "code",
   "execution_count": null,
   "id": "9a3215e4-6897-462b-8b48-7c00e71c2ca0",
   "metadata": {},
   "outputs": [],
   "source": []
  },
  {
   "cell_type": "code",
   "execution_count": null,
   "id": "647b9afa-5f0f-4d8d-b8ca-aae89f7afef0",
   "metadata": {},
   "outputs": [],
   "source": []
  },
  {
   "cell_type": "code",
   "execution_count": null,
   "id": "f6220e29-3418-45b8-a11e-abaf1f3075e2",
   "metadata": {},
   "outputs": [],
   "source": []
  },
  {
   "cell_type": "code",
   "execution_count": 51,
   "id": "6dde0b90-3057-41b1-bb8e-93c286b310cd",
   "metadata": {},
   "outputs": [
    {
     "name": "stdout",
     "output_type": "stream",
     "text": [
      "    *\n",
      "   **\n",
      "  ***\n",
      " ****\n",
      "*****\n"
     ]
    }
   ],
   "source": [
    "x = 1\n",
    "while x<6:\n",
    "  print((5-x)*\" \"+x*\"*\")\n",
    "  x+=1"
   ]
  },
  {
   "cell_type": "code",
   "execution_count": null,
   "id": "d3c2eb3c-7ea9-4260-856e-351f9286d066",
   "metadata": {},
   "outputs": [],
   "source": []
  },
  {
   "cell_type": "code",
   "execution_count": null,
   "id": "5ed9d744-f0db-4303-8271-10923db98a3e",
   "metadata": {},
   "outputs": [],
   "source": []
  },
  {
   "cell_type": "code",
   "execution_count": null,
   "id": "8790b3f2-06fe-4f51-9843-782e6ee43ded",
   "metadata": {},
   "outputs": [],
   "source": []
  },
  {
   "cell_type": "code",
   "execution_count": 52,
   "id": "564ba7e0-9298-43c9-b585-e952044a0b1e",
   "metadata": {},
   "outputs": [
    {
     "name": "stdout",
     "output_type": "stream",
     "text": [
      "*****\n",
      "****\n",
      "***\n",
      "**\n",
      "*\n"
     ]
    }
   ],
   "source": [
    "x = 1\n",
    "while x<6:\n",
    "  print((6-x)*\"*\")\n",
    "  x+=1"
   ]
  },
  {
   "cell_type": "code",
   "execution_count": null,
   "id": "02d09a8e-e9c8-46a4-a008-2599f5131aee",
   "metadata": {},
   "outputs": [],
   "source": []
  },
  {
   "cell_type": "code",
   "execution_count": null,
   "id": "c07cba2c-3018-4106-839f-14e1dffff600",
   "metadata": {},
   "outputs": [],
   "source": []
  },
  {
   "cell_type": "code",
   "execution_count": null,
   "id": "d7b66a65-dec6-47d0-a16c-1bb8d4f07a00",
   "metadata": {},
   "outputs": [],
   "source": []
  },
  {
   "cell_type": "code",
   "execution_count": 53,
   "id": "83f7f9ff-0797-485b-a2f5-0cca27a7d54b",
   "metadata": {},
   "outputs": [
    {
     "name": "stdout",
     "output_type": "stream",
     "text": [
      "1 is odd number\n",
      "2 is even number\n",
      "3 is odd number\n",
      "4 is even number\n",
      "5 is odd number\n",
      "6 is even number\n",
      "7 is odd number\n",
      "8 is even number\n",
      "9 is odd number\n",
      "10 is even number\n"
     ]
    }
   ],
   "source": [
    "a = 1\n",
    "\n",
    "while a<=10:\n",
    "  if(a%2==0):\n",
    "      print(a ,\"is even number\")\n",
    "  else:\n",
    "      print(a ,\"is odd number\")\n",
    "  a+=1"
   ]
  },
  {
   "cell_type": "code",
   "execution_count": null,
   "id": "1084aedb-e649-4ab0-a1f1-a4c3ad392c6d",
   "metadata": {},
   "outputs": [],
   "source": []
  },
  {
   "cell_type": "code",
   "execution_count": null,
   "id": "0c14598a-dae2-49bd-8aff-2fa776b44fb0",
   "metadata": {},
   "outputs": [],
   "source": []
  },
  {
   "cell_type": "code",
   "execution_count": null,
   "id": "b4512494-eb9b-4c1f-89a0-8606b0e35000",
   "metadata": {},
   "outputs": [],
   "source": []
  },
  {
   "cell_type": "markdown",
   "id": "04b67f60-2de1-47db-a09b-e4154d276347",
   "metadata": {},
   "source": [
    "# Loop Control Statements\n",
    "\n",
    "1. break\n",
    "The break statement is used to exit the loop prematurely, regardless of the loop's condition."
   ]
  },
  {
   "cell_type": "code",
   "execution_count": 54,
   "id": "f50c58c7-7cd8-4ba1-890f-602fa726a7d5",
   "metadata": {},
   "outputs": [
    {
     "name": "stdout",
     "output_type": "stream",
     "text": [
      "10\n"
     ]
    }
   ],
   "source": [
    "for i in range(1,100):  #range(10)= (1 to 99)  # 0(1),..............10(9)\n",
    "    if i == 10:\n",
    "      print(i)\n",
    "      break\n",
    "    #print(number)"
   ]
  },
  {
   "cell_type": "code",
   "execution_count": null,
   "id": "7055daba-ffd7-4bf5-953e-4146054f2de8",
   "metadata": {},
   "outputs": [],
   "source": []
  },
  {
   "cell_type": "code",
   "execution_count": null,
   "id": "2d4699b2-e206-4384-b267-05d7157c3528",
   "metadata": {},
   "outputs": [],
   "source": []
  },
  {
   "cell_type": "code",
   "execution_count": null,
   "id": "78461501-b21b-449a-803f-d078ab41407e",
   "metadata": {},
   "outputs": [],
   "source": []
  },
  {
   "cell_type": "code",
   "execution_count": 55,
   "id": "7284eb1a-b549-4505-848b-8245b2f9ddc1",
   "metadata": {},
   "outputs": [
    {
     "name": "stdout",
     "output_type": "stream",
     "text": [
      "1\n",
      "2\n",
      "3\n",
      "4\n",
      "5\n",
      "6\n",
      "7\n",
      "8\n",
      "9\n"
     ]
    }
   ],
   "source": [
    "for number in range(1,100):\n",
    "    if number == 10:\n",
    "      break\n",
    "    print(number)"
   ]
  },
  {
   "cell_type": "code",
   "execution_count": null,
   "id": "7f4827cc-556c-4109-9971-ab6745198b2d",
   "metadata": {},
   "outputs": [],
   "source": []
  },
  {
   "cell_type": "code",
   "execution_count": null,
   "id": "a807b0e0-4998-47bd-af9b-74f038e36e26",
   "metadata": {},
   "outputs": [],
   "source": []
  },
  {
   "cell_type": "code",
   "execution_count": null,
   "id": "25007e59-069c-4a13-aae5-dfa380a980f8",
   "metadata": {},
   "outputs": [],
   "source": []
  },
  {
   "cell_type": "code",
   "execution_count": 56,
   "id": "148fc9f0-45f5-4a5b-a56e-384b0d468cea",
   "metadata": {},
   "outputs": [
    {
     "name": "stdout",
     "output_type": "stream",
     "text": [
      "1\n",
      "2\n",
      "3\n",
      "4\n",
      "5\n",
      "6\n",
      "7\n",
      "8\n",
      "9\n",
      "10\n"
     ]
    }
   ],
   "source": [
    "for number in range(1,100):\n",
    "    print(number)\n",
    "    if number == 10:\n",
    "      break"
   ]
  },
  {
   "cell_type": "code",
   "execution_count": null,
   "id": "c10f0a1c-a498-4413-b381-ca7c2d8c6112",
   "metadata": {},
   "outputs": [],
   "source": []
  },
  {
   "cell_type": "code",
   "execution_count": null,
   "id": "c33ae687-95b0-46c2-85bc-03da549a5e9e",
   "metadata": {},
   "outputs": [],
   "source": []
  },
  {
   "cell_type": "code",
   "execution_count": null,
   "id": "b574c09c-cab9-47f2-bac7-9877398271a2",
   "metadata": {},
   "outputs": [],
   "source": []
  },
  {
   "cell_type": "code",
   "execution_count": 57,
   "id": "8aa3ae61-9c4a-4b96-873d-2395879cac4c",
   "metadata": {},
   "outputs": [
    {
     "name": "stdout",
     "output_type": "stream",
     "text": [
      "0,1,2,3,4,6,7,8,9,"
     ]
    }
   ],
   "source": [
    "for i in range(0,10): #0123456789\n",
    "  if i==5:\n",
    "    continue\n",
    "  print(i, end=\",\")"
   ]
  },
  {
   "cell_type": "code",
   "execution_count": null,
   "id": "9bd917e1-bf9a-478f-b296-cc8fb862c896",
   "metadata": {},
   "outputs": [],
   "source": []
  },
  {
   "cell_type": "code",
   "execution_count": null,
   "id": "49162984-d2d1-4705-993b-5b31c12acbde",
   "metadata": {},
   "outputs": [],
   "source": []
  },
  {
   "cell_type": "code",
   "execution_count": null,
   "id": "5cd7fedd-e145-4eff-9556-1d292f4cb1a4",
   "metadata": {},
   "outputs": [],
   "source": []
  },
  {
   "cell_type": "code",
   "execution_count": 58,
   "id": "fff7d830-628f-4a9e-ad5d-1b632b90ca42",
   "metadata": {},
   "outputs": [
    {
     "name": "stdout",
     "output_type": "stream",
     "text": [
      "0\t2\t4\t6\t8\t1\n",
      "3\n",
      "5\n",
      "7\n",
      "9\n"
     ]
    }
   ],
   "source": [
    "#2. continue\n",
    "#The continue statement skips the rest of the code inside the loop for the current iteration\n",
    "#and moves to the next iteration\n",
    "\n",
    "for number in range(10):  #range(0-9)\n",
    "    if number % 2 ==1:   # 0 %2 ==00,2%2==0,4%2==00, 6%2==00, 8%2==00\n",
    "        continue\n",
    "    print(number,end=\"\\t\")\n",
    "\n",
    "\n",
    "for number in range(10):\n",
    "    if number % 2 == 0:\n",
    "        continue\n",
    "    print(number)"
   ]
  },
  {
   "cell_type": "code",
   "execution_count": null,
   "id": "8bd0c4b1-ef36-423e-bfc5-af628d9ba3f2",
   "metadata": {},
   "outputs": [],
   "source": []
  },
  {
   "cell_type": "code",
   "execution_count": null,
   "id": "edf3322c-9b2e-4546-8a59-895d1bfafe11",
   "metadata": {},
   "outputs": [],
   "source": []
  },
  {
   "cell_type": "code",
   "execution_count": null,
   "id": "0e822996-b4dd-4410-94c1-407bd85b4aa3",
   "metadata": {},
   "outputs": [],
   "source": []
  },
  {
   "cell_type": "code",
   "execution_count": 59,
   "id": "81bcd065-b246-49c7-a5ff-c471ad9880fd",
   "metadata": {},
   "outputs": [
    {
     "name": "stdout",
     "output_type": "stream",
     "text": [
      "0,1,2,3,4,5,"
     ]
    }
   ],
   "source": [
    "for i in range(0,10):  #0123456789\n",
    "  if i>5:\n",
    "    continue\n",
    "    print(i,end=',')\n",
    "  else:\n",
    "    print(i,end=',')\n",
    "\n"
   ]
  },
  {
   "cell_type": "code",
   "execution_count": null,
   "id": "4644ba29-e0ad-4de6-879a-780ef5e6df69",
   "metadata": {},
   "outputs": [],
   "source": []
  },
  {
   "cell_type": "code",
   "execution_count": null,
   "id": "231437fc-643e-401c-9675-1b9d86713cba",
   "metadata": {},
   "outputs": [],
   "source": []
  },
  {
   "cell_type": "code",
   "execution_count": null,
   "id": "78739906-df0e-49d8-905a-eab4be7c963e",
   "metadata": {},
   "outputs": [],
   "source": []
  },
  {
   "cell_type": "code",
   "execution_count": 60,
   "id": "2d9814e7-4acb-49b3-95d3-6a45bfc46f95",
   "metadata": {},
   "outputs": [
    {
     "name": "stdout",
     "output_type": "stream",
     "text": [
      "1\n",
      "0 2\n",
      "0 1 3\n",
      "0 1 2 4\n",
      "0 1 2 3 5\n",
      "0 1 2 3 4 "
     ]
    }
   ],
   "source": [
    "#Nested For Loops:\n",
    "for i in range(1,6):\n",
    "  print(i)\n",
    "  for j in range(i):\n",
    "    print(j,end=\" \")"
   ]
  },
  {
   "cell_type": "code",
   "execution_count": null,
   "id": "6a61c5db-c97e-47f7-816c-a5cd8a946860",
   "metadata": {},
   "outputs": [],
   "source": []
  },
  {
   "cell_type": "code",
   "execution_count": null,
   "id": "a83f29b9-8c5b-4a00-8fb0-209e756e9b8a",
   "metadata": {},
   "outputs": [],
   "source": []
  },
  {
   "cell_type": "code",
   "execution_count": null,
   "id": "077f3b7d-e40c-4227-919e-e715cadcf0a4",
   "metadata": {},
   "outputs": [],
   "source": []
  },
  {
   "cell_type": "code",
   "execution_count": 61,
   "id": "8d4eaa74-93f6-4c01-8714-62a32da72b24",
   "metadata": {},
   "outputs": [
    {
     "name": "stdout",
     "output_type": "stream",
     "text": [
      "1 1\n",
      "1 2\n",
      "1 4\n",
      "1 5\n",
      "2 1\n",
      "2 2\n",
      "2 4\n",
      "2 5\n",
      "3 1\n",
      "3 2\n",
      "3 4\n",
      "3 5\n",
      "4 1\n",
      "4 2\n",
      "4 4\n",
      "4 5\n",
      "5 1\n",
      "5 2\n",
      "5 4\n",
      "5 5\n"
     ]
    }
   ],
   "source": [
    "for i in range(1,6):\n",
    "  for j in range(1,6):\n",
    "    if j==3:\n",
    "      continue\n",
    "    print(i,j)\n",
    "\n",
    "    "
   ]
  },
  {
   "cell_type": "code",
   "execution_count": null,
   "id": "75d78e56-2094-4298-8435-893fb69f1473",
   "metadata": {},
   "outputs": [],
   "source": []
  },
  {
   "cell_type": "code",
   "execution_count": null,
   "id": "8efb05ce-fe33-459a-ad80-05c9d28a2b8c",
   "metadata": {},
   "outputs": [],
   "source": []
  },
  {
   "cell_type": "code",
   "execution_count": null,
   "id": "9eccb053-aeef-4136-a51a-a736b84a5dd4",
   "metadata": {},
   "outputs": [],
   "source": []
  },
  {
   "cell_type": "code",
   "execution_count": 62,
   "id": "ef664739-628b-45b7-8248-f2b16dcd3048",
   "metadata": {},
   "outputs": [
    {
     "name": "stdout",
     "output_type": "stream",
     "text": [
      "1 1\n",
      "1 2\n",
      "1 3\n",
      "2 1\n",
      "2 2\n",
      "2 3\n",
      "3 1\n",
      "3 2\n",
      "3 3\n",
      "4 1\n",
      "4 2\n",
      "4 3\n",
      "5 1\n",
      "5 2\n",
      "5 3\n"
     ]
    }
   ],
   "source": [
    "for i in range(1,6):\n",
    "  for j in range(1,6):\n",
    "    print(i,j)\n",
    "    if j==3:\n",
    "      break\n",
    "\n",
    "      #11,12,13,21,22,23"
   ]
  },
  {
   "cell_type": "code",
   "execution_count": null,
   "id": "e097cec5-e4b5-494c-8cea-494c16644afb",
   "metadata": {},
   "outputs": [],
   "source": []
  },
  {
   "cell_type": "code",
   "execution_count": null,
   "id": "510caa7d-5db5-4637-add3-e56e5e881bb0",
   "metadata": {},
   "outputs": [],
   "source": []
  },
  {
   "cell_type": "code",
   "execution_count": null,
   "id": "fbf25c1b-181a-48a7-8c68-466171df84de",
   "metadata": {},
   "outputs": [],
   "source": []
  },
  {
   "cell_type": "code",
   "execution_count": 63,
   "id": "62892a06-f5d3-41e5-9c35-470f677d216c",
   "metadata": {},
   "outputs": [
    {
     "name": "stdout",
     "output_type": "stream",
     "text": [
      "1 1\n",
      "1 2\n",
      "1 3\n",
      "1 4\n",
      "1 5\n",
      "2 1\n",
      "2 2\n",
      "2 3\n",
      "2 4\n",
      "2 5\n",
      "4 1\n",
      "4 2\n",
      "4 3\n",
      "4 4\n",
      "4 5\n",
      "5 1\n",
      "5 2\n",
      "5 3\n",
      "5 4\n",
      "5 5\n"
     ]
    }
   ],
   "source": [
    "for i in range(1,6):\n",
    "  for j in range(1,6):\n",
    "    if i==3:\n",
    "      continue\n",
    "    print(i,j)"
   ]
  },
  {
   "cell_type": "code",
   "execution_count": null,
   "id": "263e9d44-54bb-471f-970e-817cf4543ca6",
   "metadata": {},
   "outputs": [],
   "source": []
  },
  {
   "cell_type": "code",
   "execution_count": null,
   "id": "9bba6838-fcc6-4e91-9552-d6efa81e45cc",
   "metadata": {},
   "outputs": [],
   "source": []
  },
  {
   "cell_type": "code",
   "execution_count": null,
   "id": "0d03ffaa-2180-40d1-b840-bd8921d7f27d",
   "metadata": {},
   "outputs": [],
   "source": []
  },
  {
   "cell_type": "code",
   "execution_count": 64,
   "id": "d34f206c-8ea8-495e-a2b1-4afe4afb6a27",
   "metadata": {},
   "outputs": [
    {
     "name": "stdout",
     "output_type": "stream",
     "text": [
      "    *\n",
      "   **\n",
      "  ***\n",
      " ****\n",
      "*****\n"
     ]
    }
   ],
   "source": [
    "for i in range(1,6):\n",
    "  print((5-i)*\" \"+i*\"*\")"
   ]
  },
  {
   "cell_type": "code",
   "execution_count": null,
   "id": "a741b6e3-645b-46d2-aac6-e6da8e92d03d",
   "metadata": {},
   "outputs": [],
   "source": []
  },
  {
   "cell_type": "code",
   "execution_count": null,
   "id": "26351551-eca8-48f2-9e5f-c2750bfd8cb4",
   "metadata": {},
   "outputs": [],
   "source": []
  },
  {
   "cell_type": "code",
   "execution_count": null,
   "id": "d641e72a-ce0b-42b9-928a-e96a75e80fd7",
   "metadata": {},
   "outputs": [],
   "source": []
  },
  {
   "cell_type": "code",
   "execution_count": 65,
   "id": "b105a177-f55c-40a4-8e5d-9f93369df643",
   "metadata": {},
   "outputs": [
    {
     "name": "stdout",
     "output_type": "stream",
     "text": [
      "0\n",
      "1\n",
      "2\n",
      "3\n",
      "4\n",
      "Loop finished without break\n"
     ]
    }
   ],
   "source": [
    "#3. else\n",
    "#An else block can be added to a loop, which is executed when the loop completes normally\n",
    "#(i.e., without encountering a break statement).\n",
    "\n",
    "for number in range(5):  #\n",
    "    print(number)\n",
    "else:\n",
    "    print(\"Loop finished without break\")"
   ]
  },
  {
   "cell_type": "code",
   "execution_count": null,
   "id": "976fff70-a6c7-4fc7-99dd-89c8455a1cf0",
   "metadata": {},
   "outputs": [],
   "source": []
  },
  {
   "cell_type": "code",
   "execution_count": null,
   "id": "a04f1158-bfd7-4210-942f-20678752c34b",
   "metadata": {},
   "outputs": [],
   "source": []
  },
  {
   "cell_type": "code",
   "execution_count": null,
   "id": "33344c47-8805-43ba-917c-bc954f1ed129",
   "metadata": {},
   "outputs": [],
   "source": []
  },
  {
   "cell_type": "code",
   "execution_count": 66,
   "id": "af6e59fd-2096-4d18-9474-c282552412f2",
   "metadata": {},
   "outputs": [
    {
     "name": "stdout",
     "output_type": "stream",
     "text": [
      "1 \n",
      "2 2 \n",
      "3 3 3 \n",
      "4 4 4 4 \n",
      "5 5 5 5 5 \n",
      "1 \n",
      "2 2 \n",
      "3 3 3 \n",
      "4 4 4 4 \n",
      "5 5 5 5 5 \n"
     ]
    }
   ],
   "source": [
    "# Pattern Printing\n",
    "for i in range(1, 6):#1,2,3,4,5\n",
    "    for j in range(i):\n",
    "        print(i, end=' ')\n",
    "    print()\n",
    "\n",
    "\n",
    "for i in range(1,6):   #1,2,3,4\n",
    "  for j in range(1, i+1): #1 ,1,2,1,2,3,1,2,3,4\n",
    "    print(i,end=' ') #1\n",
    "  print()"
   ]
  },
  {
   "cell_type": "code",
   "execution_count": null,
   "id": "00689a93-ed05-4945-84bf-7875deaf5e30",
   "metadata": {},
   "outputs": [],
   "source": []
  },
  {
   "cell_type": "code",
   "execution_count": null,
   "id": "03494dda-e764-4f86-8fe3-711cf83910ea",
   "metadata": {},
   "outputs": [],
   "source": []
  },
  {
   "cell_type": "code",
   "execution_count": null,
   "id": "d0991dd9-9ea0-473d-90d4-0f2a74735418",
   "metadata": {},
   "outputs": [],
   "source": []
  },
  {
   "cell_type": "code",
   "execution_count": 67,
   "id": "3e3e9583-500b-4af0-89b4-8012e6599078",
   "metadata": {},
   "outputs": [
    {
     "name": "stdout",
     "output_type": "stream",
     "text": [
      "      1  \n",
      "     2 2  \n",
      "    3 3 3  \n",
      "   4 4 4 4  \n"
     ]
    }
   ],
   "source": [
    "for i in range(1,5):  #1,2,3,4\n",
    "  print(\" \"*(6-i), end =\" \")\n",
    "  for j in range(i):   # 1,22,333,4444,555\n",
    "    print(i,end=' ')\n",
    "  print(\" \")\n",
    "\n",
    "  #         1\n",
    "  #        2 2\n",
    "  #       3 3 3\n",
    "  #      4 4 4 4"
   ]
  },
  {
   "cell_type": "code",
   "execution_count": null,
   "id": "d9e7b771-53e1-4bfc-bcd3-e5ed38735ebd",
   "metadata": {},
   "outputs": [],
   "source": []
  },
  {
   "cell_type": "code",
   "execution_count": null,
   "id": "0a1f4bd9-3404-4b75-baf7-4ac9c95ea1a1",
   "metadata": {},
   "outputs": [],
   "source": []
  },
  {
   "cell_type": "code",
   "execution_count": null,
   "id": "42f2a901-1bcd-4253-b0ac-698a9727dd79",
   "metadata": {},
   "outputs": [],
   "source": []
  },
  {
   "cell_type": "code",
   "execution_count": 68,
   "id": "494c8150-7c49-4af8-a6f3-1b6f75a1f00c",
   "metadata": {},
   "outputs": [
    {
     "name": "stdout",
     "output_type": "stream",
     "text": [
      "1 \n",
      "1 2 \n",
      "1 2 3 \n",
      "1 2 3 4 \n"
     ]
    }
   ],
   "source": [
    "for i in range(1,5):\n",
    "  for j in range(1,i+1):\n",
    "    print(j,end=\" \")\n",
    "  print()\n",
    "\n",
    "#1\n",
    "#1 2\n",
    "#1 2 3\n",
    "#1 2 3 4"
   ]
  },
  {
   "cell_type": "code",
   "execution_count": null,
   "id": "aaedabe1-8475-4df8-9556-09b22dfc6ddc",
   "metadata": {},
   "outputs": [],
   "source": []
  },
  {
   "cell_type": "code",
   "execution_count": null,
   "id": "222fdd9a-d66b-4028-ae87-0da0b8598824",
   "metadata": {},
   "outputs": [],
   "source": []
  },
  {
   "cell_type": "code",
   "execution_count": null,
   "id": "d11cec2f-78c9-44da-930e-028fbabf84c4",
   "metadata": {},
   "outputs": [],
   "source": []
  },
  {
   "cell_type": "code",
   "execution_count": 69,
   "id": "1c8e4c7a-d560-40c0-8a9c-77280a54f75f",
   "metadata": {},
   "outputs": [
    {
     "name": "stdout",
     "output_type": "stream",
     "text": [
      "    * \n",
      "   * * \n",
      "  * * * \n",
      " * * * * \n",
      "* * * * * \n",
      "* * * * * \n",
      " * * * * \n",
      "  * * * \n",
      "   * * \n",
      "    * \n"
     ]
    }
   ],
   "source": [
    "#Butterfly star pattern\n",
    "for i in range(1,6):\n",
    "  print(\" \"*(5-i)+i*\"* \")\n",
    "for i in range(5,0,-1):\n",
    "  print(\" \"*(5-i)+i*\"* \")"
   ]
  },
  {
   "cell_type": "code",
   "execution_count": null,
   "id": "58512bd6-a34e-4f96-b518-3ffea2ef72aa",
   "metadata": {},
   "outputs": [],
   "source": []
  },
  {
   "cell_type": "code",
   "execution_count": null,
   "id": "a67222e6-efae-435a-bad7-1de3865c01e5",
   "metadata": {},
   "outputs": [],
   "source": []
  },
  {
   "cell_type": "code",
   "execution_count": null,
   "id": "c1b42a48-d394-4725-ba60-7d04a13a159c",
   "metadata": {},
   "outputs": [],
   "source": []
  },
  {
   "cell_type": "code",
   "execution_count": 70,
   "id": "7b67fe08-d20c-49a4-b78d-a375dc1fcf01",
   "metadata": {},
   "outputs": [
    {
     "name": "stdout",
     "output_type": "stream",
     "text": [
      "* \n",
      "* * \n",
      "* * * \n",
      "* * * * \n",
      "* * * * * \n",
      "* * * * \n",
      "* * * \n",
      "* * \n",
      "* \n"
     ]
    }
   ],
   "source": [
    "for i in range(1,6):\n",
    "  print(i*\"* \")\n",
    "for j in range(4,0,-1):\n",
    "  print(j*\"* \")"
   ]
  },
  {
   "cell_type": "code",
   "execution_count": null,
   "id": "3145d0ae-fe4f-4129-9a11-bb7578f5e6dc",
   "metadata": {},
   "outputs": [],
   "source": []
  },
  {
   "cell_type": "code",
   "execution_count": null,
   "id": "a7f9b7f5-1ae0-4263-81f4-34101e9a1da1",
   "metadata": {},
   "outputs": [],
   "source": []
  },
  {
   "cell_type": "code",
   "execution_count": null,
   "id": "9ffc8a59-6ff0-4336-ac39-4d01a62ba1a2",
   "metadata": {},
   "outputs": [],
   "source": []
  },
  {
   "cell_type": "markdown",
   "id": "6fd1032e-3cc2-466c-aa6c-83bb87df304d",
   "metadata": {},
   "source": [
    "# Combining for Loop and if Statements\n",
    "You can combine for loops with if statements to execute code conditionally within the loop."
   ]
  },
  {
   "cell_type": "code",
   "execution_count": 71,
   "id": "e449492a-d6dc-4e97-aa55-61359cad1a11",
   "metadata": {},
   "outputs": [
    {
     "name": "stdout",
     "output_type": "stream",
     "text": [
      "1 is odd\n",
      "2 is even\n",
      "3 is odd\n",
      "4 is even\n",
      "5 is odd\n",
      "6 is even\n",
      "7 is odd\n",
      "8 is even\n",
      "9 is odd\n",
      "10 is even\n"
     ]
    }
   ],
   "source": [
    "#Example: Filtering Even Numbers\n",
    "\n",
    "numbers = (1, 2, 3, 4, 5, 6, 7, 8, 9, 10)\n",
    "\n",
    "for number in numbers:\n",
    "    if number % 2 == 0:\n",
    "        print(number,\"is even\")\n",
    "    else:\n",
    "        print(f\"{number} is odd\")\n",
    "# 1 is odd\n",
    "#Filter Even Numbers using While Loop."
   ]
  },
  {
   "cell_type": "code",
   "execution_count": null,
   "id": "4f432b9e-5534-464e-9ec9-b7222e041070",
   "metadata": {},
   "outputs": [],
   "source": []
  },
  {
   "cell_type": "code",
   "execution_count": null,
   "id": "1113db21-824b-4fcd-a964-6ee26daa968c",
   "metadata": {},
   "outputs": [],
   "source": []
  },
  {
   "cell_type": "code",
   "execution_count": null,
   "id": "aace2fdf-33d2-4696-bc16-3b73a849d644",
   "metadata": {},
   "outputs": [],
   "source": []
  },
  {
   "cell_type": "markdown",
   "id": "9dee38f2-e221-40cb-bb66-bfcffd0b32ee",
   "metadata": {},
   "source": [
    "# Nested Loops\n",
    "Loops can be nested inside other loops to handle more complex scenarios."
   ]
  },
  {
   "cell_type": "markdown",
   "id": "7d852041-a5f5-47ff-8afc-68e066ffb8c1",
   "metadata": {},
   "source": [
    "# Summary\n",
    "for Loop: Used to iterate over a sequence.\n",
    "while Loop: Repeats a block of code as long as a condition is true.\n",
    "Loop Control Statements:\n",
    "break: Exits the loop prematurely.\n",
    "continue: Skips to the next iteration.\n",
    "else: Executes after the loop completes normally."
   ]
  },
  {
   "cell_type": "code",
   "execution_count": null,
   "id": "e8088769-cf5e-4171-8c5d-5b936c0059c2",
   "metadata": {},
   "outputs": [],
   "source": []
  },
  {
   "cell_type": "code",
   "execution_count": null,
   "id": "578907b7-8649-466a-aec0-b916530a02eb",
   "metadata": {},
   "outputs": [],
   "source": []
  }
 ],
 "metadata": {
  "kernelspec": {
   "display_name": "Python 3 (ipykernel)",
   "language": "python",
   "name": "python3"
  },
  "language_info": {
   "codemirror_mode": {
    "name": "ipython",
    "version": 3
   },
   "file_extension": ".py",
   "mimetype": "text/x-python",
   "name": "python",
   "nbconvert_exporter": "python",
   "pygments_lexer": "ipython3",
   "version": "3.12.7"
  }
 },
 "nbformat": 4,
 "nbformat_minor": 5
}
