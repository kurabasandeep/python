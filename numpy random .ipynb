{
 "cells": [
  {
   "cell_type": "code",
   "execution_count": 3,
   "id": "38b911d4-fb26-45da-9b1a-1f50792cf987",
   "metadata": {},
   "outputs": [],
   "source": [
    "import numpy as np"
   ]
  },
  {
   "cell_type": "code",
   "execution_count": 15,
   "id": "e380e530-efdc-48ea-83e8-4c6b69e65747",
   "metadata": {},
   "outputs": [
    {
     "name": "stdout",
     "output_type": "stream",
     "text": [
      "multiflication:\n",
      "* [[ 7 16 27]\n",
      " [40 55 72]]\n"
     ]
    }
   ],
   "source": [
    "\n",
    "array1=np.array([[1,2,3],\n",
    "                 [4,5,6]])\n",
    "array2=np.array([[7,8,9],\n",
    "                 [10,11,12],\n",
    "                 ])\n",
    "\n",
    "\n",
    "sum_array=array1*array2\n",
    "print(\"multiflication:\\n*\",sum_array)"
   ]
  },
  {
   "cell_type": "code",
   "execution_count": 27,
   "id": "39323bcf-0a6b-4879-8c7e-ad5a07842a1e",
   "metadata": {},
   "outputs": [],
   "source": [
    "#matrix multiflication\n",
    "\n",
    "#m8n,n*k\n",
    "\n",
    "x1=np.random.randint(0,5,(2,2))\n",
    "\n",
    "x2=np.random.randint(0,5,(2,2))\n",
    "\n"
   ]
  },
  {
   "cell_type": "code",
   "execution_count": 28,
   "id": "6304278e-d7a8-4bdc-8344-3484cde9e091",
   "metadata": {},
   "outputs": [
    {
     "data": {
      "text/plain": [
       "array([[4, 1],\n",
       "       [4, 1]])"
      ]
     },
     "execution_count": 28,
     "metadata": {},
     "output_type": "execute_result"
    }
   ],
   "source": [
    "x1"
   ]
  },
  {
   "cell_type": "code",
   "execution_count": 29,
   "id": "5c3da8e9-4c6b-47bb-8ae2-789553abf627",
   "metadata": {},
   "outputs": [
    {
     "data": {
      "text/plain": [
       "array([[4, 2],\n",
       "       [1, 3]])"
      ]
     },
     "execution_count": 29,
     "metadata": {},
     "output_type": "execute_result"
    }
   ],
   "source": [
    "x2"
   ]
  },
  {
   "cell_type": "code",
   "execution_count": null,
   "id": "799522f9-e3c0-4851-aa0c-2ee07a5292b4",
   "metadata": {},
   "outputs": [],
   "source": [
    "np.dot(x1,x2)"
   ]
  },
  {
   "cell_type": "code",
   "execution_count": null,
   "id": "d5f5c2c6-a4da-49ea-bd06-3081869a394b",
   "metadata": {},
   "outputs": [],
   "source": []
  }
 ],
 "metadata": {
  "kernelspec": {
   "display_name": "Python 3 (ipykernel)",
   "language": "python",
   "name": "python3"
  },
  "language_info": {
   "codemirror_mode": {
    "name": "ipython",
    "version": 3
   },
   "file_extension": ".py",
   "mimetype": "text/x-python",
   "name": "python",
   "nbconvert_exporter": "python",
   "pygments_lexer": "ipython3",
   "version": "3.12.7"
  }
 },
 "nbformat": 4,
 "nbformat_minor": 5
}
