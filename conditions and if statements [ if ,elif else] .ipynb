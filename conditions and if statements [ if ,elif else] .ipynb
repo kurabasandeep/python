{
 "cells": [
  {
   "cell_type": "markdown",
   "id": "8ff624db-7b97-4ef9-aff6-a09b399ee5d4",
   "metadata": {},
   "source": [
    "\n",
    "#   Python Conditions and If statements\n",
    "The if...else statements in Python are used for decision-making.\n",
    "They allow your program to execute certain blocks of code based on certain conditions.\n",
    "Let's explore the different forms of if...else statements with detailed explanations and examples."
   ]
  },
  {
   "cell_type": "code",
   "execution_count": null,
   "id": "b8fa57cd-8fa6-4608-b3c4-1c2f53040e1a",
   "metadata": {},
   "outputs": [],
   "source": []
  },
  {
   "cell_type": "code",
   "execution_count": 1,
   "id": "5199f29d-14f3-4798-bf3f-40b06e24d714",
   "metadata": {},
   "outputs": [],
   "source": [
    "#Basic if Statement\n",
    "#The basic if statement executes a block of code if a specified condition is true.\n",
    "\n",
    "Tomato = 15\n",
    "if Tomato <=10:\n",
    "    print(\"Bring 1kg of tomatoes\")\n",
    "\n",
    "#Indentation\n",
    "#Python relies on indentation (whitespace at the beginning of a line) to define scope in the code.\n",
    "#Other programming languages often use curly-brackets for this purpose.{}"
   ]
  },
  {
   "cell_type": "code",
   "execution_count": 2,
   "id": "8ac883b0-212f-4cce-98dd-9b804ea96e6f",
   "metadata": {},
   "outputs": [
    {
     "name": "stdout",
     "output_type": "stream",
     "text": [
      "Bring 1kg of tomatoes\n"
     ]
    }
   ],
   "source": [
    "Tomato = 15\n",
    "if Tomato <=20:\n",
    "    print(\"Bring 1kg of tomatoes\")"
   ]
  },
  {
   "cell_type": "markdown",
   "id": "f096701d-b7fa-49e1-9afd-e1747ffa4ce7",
   "metadata": {},
   "source": [
    "# Key Points About Indentation in Python\n",
    "1. Consistency:\n",
    "Indentation must be consistent within a block of code.\n",
    "The standard practice is to use 4 spaces per indentation level.\n",
    "Mixing tabs and spaces or varying the number of spaces can lead to syntax errors.\n",
    "\n",
    "2.Code Blocks:\n",
    "Indentation is used to define the body of loops (for, while), conditional statements (if, elif, else),\n",
    "functions (def), classes (class), and other structures.\n",
    "\n",
    "3.Syntax Requirements:\n",
    "Python requires a colon (:) at the end of the line introducing a block of code (e.g., after if statements, for loops, function definitions).\n",
    "The subsequent lines that are indented form the block of code that belongs to the construct."
   ]
  },
  {
   "cell_type": "code",
   "execution_count": 3,
   "id": "982e26b4-7057-4056-a28f-748546dcf133",
   "metadata": {},
   "outputs": [
    {
     "name": "stdout",
     "output_type": "stream",
     "text": [
      "b is greater than a\n"
     ]
    }
   ],
   "source": [
    "a = 33\n",
    "b = 200\n",
    "if b > a:      # : declaration\n",
    "    print(\"b is greater than a\")"
   ]
  },
  {
   "cell_type": "code",
   "execution_count": 4,
   "id": "b2239a59-711b-4c66-bbd9-d1397e080ace",
   "metadata": {},
   "outputs": [
    {
     "name": "stdout",
     "output_type": "stream",
     "text": [
      "Data Science\n"
     ]
    }
   ],
   "source": [
    "x=9\n",
    "if x<10:\n",
    "  print(\"Data Science\")"
   ]
  },
  {
   "cell_type": "code",
   "execution_count": 5,
   "id": "08869434-348f-48f1-90ed-9b762c3d8390",
   "metadata": {},
   "outputs": [
    {
     "name": "stdout",
     "output_type": "stream",
     "text": [
      "Data Science\n"
     ]
    }
   ],
   "source": [
    "if True:\n",
    "  print(\"Data Science\")"
   ]
  },
  {
   "cell_type": "code",
   "execution_count": 6,
   "id": "66107c4a-c6c0-440e-bc6a-979cfff04d4c",
   "metadata": {},
   "outputs": [],
   "source": [
    "if 0:\n",
    "  print(\"Data Science\")"
   ]
  },
  {
   "cell_type": "code",
   "execution_count": 7,
   "id": "2f2a8f48-7cba-4881-89b7-29ffa197c504",
   "metadata": {},
   "outputs": [
    {
     "name": "stdout",
     "output_type": "stream",
     "text": [
      "Data Science\n"
     ]
    }
   ],
   "source": [
    "if 1:\n",
    "  print(\"Data Science\")"
   ]
  },
  {
   "cell_type": "code",
   "execution_count": 8,
   "id": "d61399e6-02af-420b-a347-74b6cac4d087",
   "metadata": {},
   "outputs": [
    {
     "name": "stdout",
     "output_type": "stream",
     "text": [
      "Data Science\n"
     ]
    }
   ],
   "source": [
    "x=9\n",
    "if x%2==1:\n",
    "  print(\"Data Science\")"
   ]
  },
  {
   "cell_type": "code",
   "execution_count": 9,
   "id": "dabeda3d-b3a9-47dc-aec0-44b67bbcc7a4",
   "metadata": {},
   "outputs": [
    {
     "name": "stdout",
     "output_type": "stream",
     "text": [
      "Data Science\n"
     ]
    }
   ],
   "source": [
    "x=13\n",
    "if x//2==6:\n",
    "  print(\"Data Science\")"
   ]
  },
  {
   "cell_type": "code",
   "execution_count": 10,
   "id": "fbeeb879-a46c-43fa-8d02-1e7020d4ffd5",
   "metadata": {},
   "outputs": [
    {
     "name": "stdin",
     "output_type": "stream",
     "text": [
      " 10\n"
     ]
    }
   ],
   "source": [
    "x=int(input())\n",
    "if (not(x%2==0) and (x<10)):\n",
    "  print(\"Data Science\")"
   ]
  },
  {
   "cell_type": "code",
   "execution_count": 11,
   "id": "e2e44e81-9500-45a3-8882-dc58d241b8b1",
   "metadata": {},
   "outputs": [
    {
     "name": "stdin",
     "output_type": "stream",
     "text": [
      " 20\n"
     ]
    },
    {
     "name": "stdout",
     "output_type": "stream",
     "text": [
      "Y is not less than 10\n"
     ]
    }
   ],
   "source": [
    "y=int(input())\n",
    "if not(y<10):\n",
    "  print(\"Y is not less than 10\")"
   ]
  },
  {
   "cell_type": "markdown",
   "id": "f43ae96d-aa62-461b-9508-410b86a93505",
   "metadata": {},
   "source": [
    "# if...else Statement\n",
    "The if...else statement provides an alternative block of code to execute if the condition is false."
   ]
  },
  {
   "cell_type": "code",
   "execution_count": 12,
   "id": "4bdb785f-b7ed-46e5-9ae3-e37a48cbd797",
   "metadata": {},
   "outputs": [
    {
     "name": "stdout",
     "output_type": "stream",
     "text": [
      "X is maller than 5\n"
     ]
    }
   ],
   "source": [
    "x = 3\n",
    "if x >5:\n",
    "  print(\"X is gretaer than 5\")\n",
    "else:\n",
    "  print(\"X is maller than 5\")"
   ]
  },
  {
   "cell_type": "code",
   "execution_count": 13,
   "id": "a3cc98d8-9368-49a2-99a7-afd8087559f1",
   "metadata": {},
   "outputs": [
    {
     "name": "stdin",
     "output_type": "stream",
     "text": [
      "Tomatoes Cost Per Kg:\n",
      " 30\n"
     ]
    },
    {
     "name": "stdout",
     "output_type": "stream",
     "text": [
      "Bring 5 Kg of tomatoes\n"
     ]
    }
   ],
   "source": [
    "Tomato =int(input(\"Tomatoes Cost Per Kg:\\n\"))\n",
    "if Tomato <40:\n",
    "    print(\"Bring 5 Kg of tomatoes\")\n",
    "elif Tomato <= 50:\n",
    "    print(\"Bring 2 kgs of tomatoes \")\n",
    "\n",
    "else:\n",
    "    print(\"Bring 1/2 Kg of tomatoes\")"
   ]
  },
  {
   "cell_type": "code",
   "execution_count": 14,
   "id": "10bacb86-f65b-4462-b563-47fc5174810c",
   "metadata": {},
   "outputs": [
    {
     "name": "stdout",
     "output_type": "stream",
     "text": [
      "Data\n"
     ]
    }
   ],
   "source": [
    "x = \" Data Science\"\n",
    "if \"dxt\" not in x:\n",
    "  print(\"Data\")\n",
    "else:\n",
    "  print(\"Science\")"
   ]
  },
  {
   "cell_type": "code",
   "execution_count": 15,
   "id": "586d1232-a0e8-49d0-a190-de914005dbee",
   "metadata": {},
   "outputs": [
    {
     "name": "stdin",
     "output_type": "stream",
     "text": [
      " 10\n"
     ]
    },
    {
     "name": "stdout",
     "output_type": "stream",
     "text": [
      "You are not allowed\n"
     ]
    }
   ],
   "source": [
    "age=int(input())\n",
    "has_permission=True\n",
    "if age>=18:\n",
    "  if has_permission:\n",
    "    print(\"Allowed\")\n",
    "  else:\n",
    "    print(\"Not Allowed\")\n",
    "else:\n",
    "  if age>=13:\n",
    "    print(\"Allowed with Guardian\")\n",
    "  else:\n",
    "    print(\"You are not allowed\")"
   ]
  },
  {
   "cell_type": "code",
   "execution_count": 16,
   "id": "c221f406-bc36-44de-a194-cb81ed86a340",
   "metadata": {},
   "outputs": [
    {
     "name": "stdin",
     "output_type": "stream",
     "text": [
      " 20\n"
     ]
    },
    {
     "name": "stdout",
     "output_type": "stream",
     "text": [
      "Fail\n"
     ]
    }
   ],
   "source": [
    "marks=int(input())\n",
    "if marks<35:\n",
    "  print(\"Fail\")\n",
    "elif marks>=35 and marks<50:\n",
    "  print(\"Grade C\")\n",
    "elif marks>=50 and marks<75:\n",
    "  print(\"Grade B\")\n",
    "elif marks>=75 and marks<90:\n",
    "  print(\"Grade A\")\n",
    "else:\n",
    "  print(\"Grade A+\")"
   ]
  },
  {
   "cell_type": "markdown",
   "id": "32b528b7-5371-46ef-835b-6712ee51da5b",
   "metadata": {},
   "source": [
    "# Elif\n",
    "The elif keyword is Python's way of saying \"if the previous conditions were not true, then try this condition\"."
   ]
  },
  {
   "cell_type": "code",
   "execution_count": 17,
   "id": "808fefc1-aa42-4c36-94ac-c2db905f23f0",
   "metadata": {},
   "outputs": [
    {
     "name": "stdin",
     "output_type": "stream",
     "text": [
      "Tomatoes Cost Per Kg:\n",
      " 50\n"
     ]
    },
    {
     "name": "stdout",
     "output_type": "stream",
     "text": [
      "1/2 Kg of tomatoes\n"
     ]
    }
   ],
   "source": [
    "Tomato =int(input(\"Tomatoes Cost Per Kg:\\n\"))\n",
    "if Tomato <30:\n",
    "    print(\"Bring 2 Kg of tomatoes\")\n",
    "elif Tomato <40:\n",
    "    print(\"Bring 1 kgs of tomatoes\")\n",
    "else:\n",
    "    print(\"1/2 Kg of tomatoes\")"
   ]
  },
  {
   "cell_type": "code",
   "execution_count": 18,
   "id": "20a5cc44-b8b0-4b55-9f7b-bf2a0ab58c30",
   "metadata": {},
   "outputs": [
    {
     "name": "stdout",
     "output_type": "stream",
     "text": [
      "a is equal to b\n"
     ]
    }
   ],
   "source": [
    "a = 33\n",
    "b = 33\n",
    "if b > a:\n",
    "    print(\"b is greater than a\")\n",
    "elif a < b:\n",
    "    print(\"a is less than b\")\n",
    "else:\n",
    "    print(\"a is equal to b\")"
   ]
  },
  {
   "cell_type": "code",
   "execution_count": 19,
   "id": "b7f66696-d6ca-42eb-8e35-e8cd27ec8957",
   "metadata": {},
   "outputs": [
    {
     "name": "stdin",
     "output_type": "stream",
     "text": [
      "Enter a value For b:\n",
      " 30\n"
     ]
    },
    {
     "name": "stdout",
     "output_type": "stream",
     "text": [
      "a is greater than to b\n"
     ]
    }
   ],
   "source": [
    "## a = int(input(\"Enter a Value For a:\\n\"))\n",
    "b = int(input(\"Enter a value For b:\\n\"))\n",
    "if b > a:\n",
    "    print(\"b is greater than a\")\n",
    "elif a == b:\n",
    "    print(\"a and b are equal\")\n",
    "else:\n",
    "    print(\"a is greater than to b\")"
   ]
  },
  {
   "cell_type": "code",
   "execution_count": null,
   "id": "0cedc2e1-3209-4981-8e77-5488c7ddcfd9",
   "metadata": {},
   "outputs": [],
   "source": []
  },
  {
   "cell_type": "markdown",
   "id": "3b15f086-bb5f-4852-9150-bd37f87a8e6b",
   "metadata": {},
   "source": [
    "\n",
    "4# if...elif...else Statement\n",
    "The if...elif...else statement allows multiple conditions to be checked sequentially."
   ]
  },
  {
   "cell_type": "code",
   "execution_count": 20,
   "id": "e9049a94-850c-435e-810b-7be6e8d35037",
   "metadata": {},
   "outputs": [
    {
     "name": "stdout",
     "output_type": "stream",
     "text": [
      "x is greater than 5\n"
     ]
    }
   ],
   "source": [
    "x = 7\n",
    "if x > 10:\n",
    "    print(\"x is greater than 10\")\n",
    "elif x > 5:\n",
    "    print(\"x is greater than 5\")\n",
    "else:\n",
    "    print(\"x is 5 or less\")"
   ]
  },
  {
   "cell_type": "code",
   "execution_count": 21,
   "id": "adb054c7-bcc8-44b5-b61d-8b4a5043a328",
   "metadata": {},
   "outputs": [
    {
     "name": "stdin",
     "output_type": "stream",
     "text": [
      " 30\n"
     ]
    },
    {
     "name": "stdout",
     "output_type": "stream",
     "text": [
      "What's your name ?\n"
     ]
    }
   ],
   "source": [
    "Name =input()\n",
    "\n",
    "if Name ==\"Rahul\":\n",
    "  print(\"Welcome Rahul\")\n",
    "elif Name == \"Sanju\":\n",
    "  print(\"Welcome Sanju\")\n",
    "else:\n",
    "  print(\"What's your name ?\")"
   ]
  },
  {
   "cell_type": "markdown",
   "id": "e9b23bea-20da-48cd-9309-ea2a1916064d",
   "metadata": {},
   "source": [
    "# Nested if Statements\n",
    "if statements can be nested inside other if statements to check multiple conditions."
   ]
  },
  {
   "cell_type": "code",
   "execution_count": 22,
   "id": "543e7b04-4319-4cd2-95a5-cb608a14dd66",
   "metadata": {},
   "outputs": [
    {
     "name": "stdin",
     "output_type": "stream",
     "text": [
      "Enter a value for x:\n",
      " 20\n"
     ]
    },
    {
     "name": "stdout",
     "output_type": "stream",
     "text": [
      "x is greater than 10\n",
      "x is not greater than 20\n"
     ]
    }
   ],
   "source": [
    "x = int(input(\"Enter a value for x:\\n\"))     #15\n",
    "if x > 10:\n",
    "    print(\"x is greater than 10\")\n",
    "    if x > 20:\n",
    "        print(\"x is also greater than 20\")\n",
    "    else:\n",
    "        print(\"x is not greater than 20\")\n",
    "else:\n",
    "    print(\"x is 10 or less\")"
   ]
  },
  {
   "cell_type": "code",
   "execution_count": 23,
   "id": "d7853f28-a363-4a54-b3b9-6a0404f43c25",
   "metadata": {},
   "outputs": [
    {
     "name": "stdin",
     "output_type": "stream",
     "text": [
      "Enter a value for x:\n",
      " 100\n"
     ]
    },
    {
     "name": "stdout",
     "output_type": "stream",
     "text": [
      "x is greater than 20\n"
     ]
    }
   ],
   "source": [
    "#Example with Multiple Conditions\n",
    "#Let's see a more complex example involving multiple conditions and\n",
    "\n",
    "#different blocks of code being executed based on the conditions.\n",
    "\n",
    "x =int(input(\"Enter a value for x:\\n\"))   #\\n = new line\n",
    "if x < 0:\n",
    "    print(\"x is negative\")\n",
    "elif x == 0:\n",
    "    print(\"x is zero\")\n",
    "elif 0 < x <= 10:     # 0 to 10\n",
    "    print(\"x is between 0 and 10\")\n",
    "elif 10 < x <= 20:     #10 to 20\n",
    "    print(\"x is between 10 and 20\")\n",
    "else:\n",
    "    print(\"x is greater than 20\")"
   ]
  },
  {
   "cell_type": "code",
   "execution_count": 24,
   "id": "5abf5524-df22-4369-9ae0-3aacf78f6516",
   "metadata": {},
   "outputs": [
    {
     "name": "stdout",
     "output_type": "stream",
     "text": [
      "Both Conditions are true\n"
     ]
    }
   ],
   "source": [
    "#Conditional Statements by using AND, OR Operaters:\n",
    "\n",
    "#E.g:Test if a is greater than b, AND if c is greater than a:\n",
    "\n",
    "a=10\n",
    "b=7\n",
    "c=12\n",
    "\n",
    "if a>b or c>a:\n",
    "    print(\"Both Conditions are true\")"
   ]
  },
  {
   "cell_type": "markdown",
   "id": "2ecc4ba8-5e52-47f5-bb1d-0a4611c7717f",
   "metadata": {},
   "source": [
    "# The 'pass' Statement\n",
    "if statements cannot be empty, but if you for some reason have an if statement with no content,\n",
    "put in the pass statement to avoid getting an error."
   ]
  },
  {
   "cell_type": "code",
   "execution_count": 25,
   "id": "198f8506-3479-43c6-a459-fb6945180d3e",
   "metadata": {},
   "outputs": [],
   "source": [
    "#Exercise:\n",
    "#Print \"I understood Conditional statements\" if a is greater than b."
   ]
  },
  {
   "cell_type": "markdown",
   "id": "32054e68-9586-45ed-8823-7c3f112ef2fb",
   "metadata": {},
   "source": [
    "# The 'pass' Statement\n",
    "if statements cannot be empty, but if you for some reason have an if statement with no content,\n",
    "put in the pass statement to avoid getting an error."
   ]
  },
  {
   "cell_type": "code",
   "execution_count": 26,
   "id": "85089cda-ec21-485b-aecf-ad88dee41015",
   "metadata": {},
   "outputs": [],
   "source": [
    "a = 33\n",
    "b = 200\n",
    "\n",
    "if b > a:\n",
    "    pass"
   ]
  },
  {
   "cell_type": "code",
   "execution_count": null,
   "id": "5b2ad39f-99fa-47e9-a380-2d40f763a16b",
   "metadata": {},
   "outputs": [],
   "source": []
  },
  {
   "cell_type": "markdown",
   "id": "e7630552-7894-4159-bf07-f31b3b7658c0",
   "metadata": {},
   "source": []
  }
 ],
 "metadata": {
  "kernelspec": {
   "display_name": "Python 3 (ipykernel)",
   "language": "python",
   "name": "python3"
  },
  "language_info": {
   "codemirror_mode": {
    "name": "ipython",
    "version": 3
   },
   "file_extension": ".py",
   "mimetype": "text/x-python",
   "name": "python",
   "nbconvert_exporter": "python",
   "pygments_lexer": "ipython3",
   "version": "3.12.7"
  }
 },
 "nbformat": 4,
 "nbformat_minor": 5
}
