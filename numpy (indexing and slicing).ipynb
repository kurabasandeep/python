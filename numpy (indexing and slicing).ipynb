{
 "cells": [
  {
   "cell_type": "code",
   "execution_count": 26,
   "id": "11d19fc4-2a14-4460-b491-db7c0e7e8527",
   "metadata": {},
   "outputs": [
    {
     "name": "stdout",
     "output_type": "stream",
     "text": [
      "[[2]]\n",
      "[[2 3]]\n",
      "[[5 6]]\n",
      "[[7 8 9]]\n"
     ]
    }
   ],
   "source": [
    "import numpy as np\n",
    "a =np.array([[1,2,3],[4,5,6],[7,8,9]])  # Array\n",
    "          #     0       1       2\n",
    "          #   0  1 2  0  1 2   0 1 2\n",
    "print(a[0:1,1:2]) #2\n",
    "print(a[ :1,1: ])  #2,3\n",
    "print(a[1:2,1: ])  #5,6\n",
    "print(a[2: ])     #7,8,9\n",
    "\n",
    "#print 4,5,6 from 1st index"
   ]
  },
  {
   "cell_type": "code",
   "execution_count": 27,
   "id": "c975fdee-57f5-470e-a3fa-5c15975d1447",
   "metadata": {},
   "outputs": [
    {
     "name": "stdout",
     "output_type": "stream",
     "text": [
      "[[2 3]\n",
      " [5 6]]\n"
     ]
    }
   ],
   "source": [
    "print(a[ :2,1: ])"
   ]
  },
  {
   "cell_type": "code",
   "execution_count": 28,
   "id": "1bdf7a89-dbe4-42c4-a65a-196bd4eb02d9",
   "metadata": {},
   "outputs": [
    {
     "name": "stdout",
     "output_type": "stream",
     "text": [
      "[[5 6]]\n"
     ]
    }
   ],
   "source": [
    "#print(a[ :2,0:2])\n",
    "print(a[1:2,1: ])"
   ]
  },
  {
   "cell_type": "code",
   "execution_count": 29,
   "id": "2064008a-b55a-4ea6-9823-5058ab46547f",
   "metadata": {},
   "outputs": [
    {
     "name": "stdout",
     "output_type": "stream",
     "text": [
      "[[2 3]\n",
      " [5 6]\n",
      " [8 9]]\n"
     ]
    }
   ],
   "source": [
    "print(a[ :3,1: ])"
   ]
  },
  {
   "cell_type": "code",
   "execution_count": 30,
   "id": "d427f5ae-771c-4d51-a6c9-36b62ca4934f",
   "metadata": {},
   "outputs": [
    {
     "name": "stdout",
     "output_type": "stream",
     "text": [
      "[[ 5 11  3 19  9]\n",
      " [16  4 12  1  9]\n",
      " [11  7  4  1  4]\n",
      " [ 7  0  2 19  8]\n",
      " [19  7  2 13 13]\n",
      " [17  6  0 11  9]]\n"
     ]
    }
   ],
   "source": [
    "import numpy as np\n",
    "\n",
    "x=np.random.randint(0,20,(6,5))\n",
    "print(x)"
   ]
  },
  {
   "cell_type": "code",
   "execution_count": 31,
   "id": "0b8bc170-0f4f-424d-8b13-8f57c299110f",
   "metadata": {},
   "outputs": [
    {
     "name": "stdout",
     "output_type": "stream",
     "text": [
      "[[ 5 11  3 19  9 16  4 12  1  9 11  7  4  1  4]\n",
      " [ 7  0  2 19  8 19  7  2 13 13 17  6  0 11  9]]\n"
     ]
    }
   ],
   "source": [
    "x.shape=(2,15)   #30=1*30, 2*15,3*10,5*6,10*3,15*2,30*1\n",
    "print(x)"
   ]
  },
  {
   "cell_type": "code",
   "execution_count": 32,
   "id": "93ebe929-10b8-4408-ac91-5d7bb1ab2fa6",
   "metadata": {},
   "outputs": [
    {
     "data": {
      "text/plain": [
       "array([ 5, 11,  3, 19,  9, 16,  4, 12,  1,  9, 11,  7,  4,  1,  4,  7,  0,\n",
       "        2, 19,  8, 19,  7,  2, 13, 13, 17,  6,  0, 11,  9])"
      ]
     },
     "execution_count": 32,
     "metadata": {},
     "output_type": "execute_result"
    }
   ],
   "source": [
    "x.ravel()   #ravel flattens the array"
   ]
  },
  {
   "cell_type": "code",
   "execution_count": 33,
   "id": "1f769dad-55d8-4fed-9d56-7a8911cfc792",
   "metadata": {},
   "outputs": [
    {
     "data": {
      "text/plain": [
       "array([[ 5, 11,  3, 19,  9, 16,  4, 12,  1,  9],\n",
       "       [11,  7,  4,  1,  4,  7,  0,  2, 19,  8],\n",
       "       [19,  7,  2, 13, 13, 17,  6,  0, 11,  9]])"
      ]
     },
     "execution_count": 33,
     "metadata": {},
     "output_type": "execute_result"
    }
   ],
   "source": [
    "x.reshape(3,10)"
   ]
  },
  {
   "cell_type": "code",
   "execution_count": 34,
   "id": "6ac25979-2dab-417e-81e1-19e259e3dccf",
   "metadata": {},
   "outputs": [
    {
     "name": "stdout",
     "output_type": "stream",
     "text": [
      "[[ 5 11  3 19  9 16  4 12  1  9 11  7  4  1  4]\n",
      " [ 7  0  2 19  8 19  7  2 13 13 17  6  0 11  9]]\n"
     ]
    }
   ],
   "source": [
    "print(x)"
   ]
  },
  {
   "cell_type": "code",
   "execution_count": 35,
   "id": "c79a3b25-c8f5-4aec-8882-cdba49651be6",
   "metadata": {},
   "outputs": [
    {
     "data": {
      "text/plain": [
       "array([[ 5, 11,  3],\n",
       "       [19,  9, 16],\n",
       "       [ 4, 12,  1],\n",
       "       [ 9, 11,  7],\n",
       "       [ 4,  1,  4],\n",
       "       [ 7,  0,  2],\n",
       "       [19,  8, 19],\n",
       "       [ 7,  2, 13],\n",
       "       [13, 17,  6],\n",
       "       [ 0, 11,  9]])"
      ]
     },
     "execution_count": 35,
     "metadata": {},
     "output_type": "execute_result"
    }
   ],
   "source": [
    "x.reshape(10,3)"
   ]
  },
  {
   "cell_type": "code",
   "execution_count": 36,
   "id": "43539503-d216-43fb-8576-e76b7a7f3f68",
   "metadata": {},
   "outputs": [
    {
     "name": "stdout",
     "output_type": "stream",
     "text": [
      "[[ 5 11  3 19  9 16  4 12  1  9 11  7  4  1  4]\n",
      " [ 7  0  2 19  8 19  7  2 13 13 17  6  0 11  9]]\n"
     ]
    }
   ],
   "source": [
    "print(x)"
   ]
  },
  {
   "cell_type": "code",
   "execution_count": null,
   "id": "e9998fb1-c5b2-4dca-94dd-bab59f984104",
   "metadata": {},
   "outputs": [],
   "source": []
  },
  {
   "cell_type": "code",
   "execution_count": 37,
   "id": "bcec33e3-0913-4214-a16c-1bb8967713c8",
   "metadata": {},
   "outputs": [
    {
     "name": "stdout",
     "output_type": "stream",
     "text": [
      "[[2 3]\n",
      " [4 3]]\n"
     ]
    }
   ],
   "source": [
    "x1 =np.array([[2,3],[4,3]])\n",
    "print(x1)"
   ]
  },
  {
   "cell_type": "code",
   "execution_count": 38,
   "id": "9f937edd-b258-47e5-8732-3247a55534a4",
   "metadata": {},
   "outputs": [
    {
     "name": "stdout",
     "output_type": "stream",
     "text": [
      "[[4 5]\n",
      " [6 7]]\n"
     ]
    }
   ],
   "source": [
    "x2= np.array([[4,5],[6,7]])\n",
    "print(x2)"
   ]
  },
  {
   "cell_type": "code",
   "execution_count": 39,
   "id": "eba980dd-2906-41c1-a6f5-3517068fa473",
   "metadata": {},
   "outputs": [
    {
     "data": {
      "text/plain": [
       "array([[2, 3],\n",
       "       [4, 3],\n",
       "       [4, 5],\n",
       "       [6, 7]])"
      ]
     },
     "execution_count": 39,
     "metadata": {},
     "output_type": "execute_result"
    }
   ],
   "source": [
    "np.vstack([x1,x2])"
   ]
  },
  {
   "cell_type": "code",
   "execution_count": 40,
   "id": "d4e9ff5f-ae1d-4d6e-9a9a-668ba3e4b426",
   "metadata": {},
   "outputs": [
    {
     "data": {
      "text/plain": [
       "array([[2, 3, 4, 5],\n",
       "       [4, 3, 6, 7]])"
      ]
     },
     "execution_count": 40,
     "metadata": {},
     "output_type": "execute_result"
    }
   ],
   "source": [
    "np.hstack([x1,x2])"
   ]
  },
  {
   "cell_type": "code",
   "execution_count": null,
   "id": "4a54a66a-31ea-40b4-b7de-e3aba4dc10d8",
   "metadata": {},
   "outputs": [],
   "source": []
  },
  {
   "cell_type": "code",
   "execution_count": 41,
   "id": "645a75a6-dc31-4e25-b35f-a28b79bffde2",
   "metadata": {},
   "outputs": [
    {
     "data": {
      "text/plain": [
       "array([[2, 3],\n",
       "       [4, 3],\n",
       "       [4, 5],\n",
       "       [6, 7]])"
      ]
     },
     "execution_count": 41,
     "metadata": {},
     "output_type": "execute_result"
    }
   ],
   "source": [
    "np.concatenate([x1,x2],axis=0)  #vstack"
   ]
  },
  {
   "cell_type": "code",
   "execution_count": 42,
   "id": "0a3243ff-d071-4584-bd12-c47cf5b9fe48",
   "metadata": {},
   "outputs": [
    {
     "data": {
      "text/plain": [
       "array([[2, 3, 4, 5],\n",
       "       [4, 3, 6, 7]])"
      ]
     },
     "execution_count": 42,
     "metadata": {},
     "output_type": "execute_result"
    }
   ],
   "source": [
    "np.concatenate([x1,x2],axis=1)   #hstack"
   ]
  },
  {
   "cell_type": "code",
   "execution_count": 43,
   "id": "68d0ab47-f038-4082-80d6-cba0180bb577",
   "metadata": {},
   "outputs": [
    {
     "data": {
      "text/plain": [
       "array([[4, 8, 4, 0, 8, 2],\n",
       "       [9, 3, 4, 7, 6, 0],\n",
       "       [1, 0, 4, 1, 5, 1],\n",
       "       [6, 8, 9, 8, 3, 2]])"
      ]
     },
     "execution_count": 43,
     "metadata": {},
     "output_type": "execute_result"
    }
   ],
   "source": [
    "x=np.random.randint(0,10,(4,6))\n",
    "x"
   ]
  },
  {
   "cell_type": "code",
   "execution_count": 44,
   "id": "7d8f4d06-f092-4a95-8012-d95da3606a57",
   "metadata": {},
   "outputs": [
    {
     "data": {
      "text/plain": [
       "[array([[4, 8, 4, 0, 8, 2],\n",
       "        [9, 3, 4, 7, 6, 0]]),\n",
       " array([[1, 0, 4, 1, 5, 1],\n",
       "        [6, 8, 9, 8, 3, 2]])]"
      ]
     },
     "execution_count": 44,
     "metadata": {},
     "output_type": "execute_result"
    }
   ],
   "source": [
    "np.split(x,2,axis=0)"
   ]
  },
  {
   "cell_type": "code",
   "execution_count": null,
   "id": "15b7a5aa-c5bf-49bf-8df1-5f584e21e70a",
   "metadata": {},
   "outputs": [],
   "source": []
  },
  {
   "cell_type": "code",
   "execution_count": null,
   "id": "c8bf75ee-e926-4493-abef-92c0f2bf67ec",
   "metadata": {},
   "outputs": [],
   "source": []
  },
  {
   "cell_type": "code",
   "execution_count": 45,
   "id": "96220595-ff22-4610-99bb-66908358abef",
   "metadata": {},
   "outputs": [
    {
     "name": "stdout",
     "output_type": "stream",
     "text": [
      "addition:\n",
      "* [[ 8 10 12]\n",
      " [14 16 18]]\n"
     ]
    }
   ],
   "source": [
    "array1=np.array([[1,2,3],       #1+7,2+8,3+9   \n",
    "                 [4,5,6]])      #4+10,5+11,6+12\n",
    "array2=np.array([[7,8,9],\n",
    "                 [10,11,12]])\n",
    "\n",
    "sum_array=array1+array2\n",
    "print(\"addition:\\n*\",sum_array)"
   ]
  },
  {
   "cell_type": "code",
   "execution_count": 46,
   "id": "cfd8a34e-f613-454c-a19b-536ca0dfd656",
   "metadata": {},
   "outputs": [
    {
     "name": "stdout",
     "output_type": "stream",
     "text": [
      "addition:\n",
      "* [[16 16 21]\n",
      " [24 25 31]]\n"
     ]
    }
   ],
   "source": [
    "array1=np.array([[1,2,3],\n",
    "                 [4,5,6]])\n",
    "array2=np.array([[7,8,9],\n",
    "                 [10,11,12]])\n",
    "array3=np.array([[8,6,9],\n",
    "                [10,9,13]])\n",
    "\n",
    "sum_array=array1+array2+array3\n",
    "print(\"addition:\\n*\",sum_array)"
   ]
  },
  {
   "cell_type": "code",
   "execution_count": 47,
   "id": "7f17a16d-7fd7-4c2b-a3e3-672714629b4e",
   "metadata": {},
   "outputs": [
    {
     "name": "stdout",
     "output_type": "stream",
     "text": [
      "[ 0 -5  5]\n"
     ]
    }
   ],
   "source": [
    "a=np.array([0,1,6])\n",
    "b=np.array([0,6,1])\n",
    "sub=a-b\n",
    "print(sub)"
   ]
  },
  {
   "cell_type": "code",
   "execution_count": 48,
   "id": "5dc2b0d8-c514-4908-8ea7-c8bfe8eab948",
   "metadata": {},
   "outputs": [
    {
     "name": "stdout",
     "output_type": "stream",
     "text": [
      "[[ 6  6]\n",
      " [11 12]\n",
      " [11  9]]\n"
     ]
    }
   ],
   "source": [
    "#numpy broadcosting\n",
    "\n",
    "a=np.array([[1,2],[6,8],[6,5]])\n",
    "b=np.array([5,4])\n",
    "print(a+b)\n"
   ]
  },
  {
   "cell_type": "code",
   "execution_count": null,
   "id": "70a65622-9905-4e94-968e-3add59363310",
   "metadata": {},
   "outputs": [],
   "source": []
  },
  {
   "cell_type": "code",
   "execution_count": null,
   "id": "19c47d70-64a6-4cfe-bcb3-290de4b73254",
   "metadata": {},
   "outputs": [],
   "source": []
  },
  {
   "cell_type": "code",
   "execution_count": null,
   "id": "4620fb32-70b0-480c-b4ff-5daa30c89728",
   "metadata": {},
   "outputs": [],
   "source": []
  },
  {
   "cell_type": "code",
   "execution_count": null,
   "id": "eb118daf-d53b-4b0a-b255-a9e6f2192bf2",
   "metadata": {},
   "outputs": [],
   "source": []
  }
 ],
 "metadata": {
  "kernelspec": {
   "display_name": "Python 3 (ipykernel)",
   "language": "python",
   "name": "python3"
  },
  "language_info": {
   "codemirror_mode": {
    "name": "ipython",
    "version": 3
   },
   "file_extension": ".py",
   "mimetype": "text/x-python",
   "name": "python",
   "nbconvert_exporter": "python",
   "pygments_lexer": "ipython3",
   "version": "3.12.7"
  }
 },
 "nbformat": 4,
 "nbformat_minor": 5
}
