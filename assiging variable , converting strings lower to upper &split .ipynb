{
 "cells": [
  {
   "cell_type": "code",
   "execution_count": 1,
   "id": "39a4e72a-d02b-40e0-8298-3965c790b10e",
   "metadata": {},
   "outputs": [],
   "source": [
    "#ssigning variables\n",
    "\n",
    "#....> single and multipul variables\n",
    "\n",
    "\n"
   ]
  },
  {
   "cell_type": "code",
   "execution_count": 17,
   "id": "4132eae7-3021-46ab-864f-735fe60cdb09",
   "metadata": {},
   "outputs": [
    {
     "name": "stdout",
     "output_type": "stream",
     "text": [
      "sandeep\n",
      "bangalore\n",
      "twenty\n"
     ]
    }
   ],
   "source": [
    "name='sandeep'\n",
    "salary=\"twenty\"\n",
    "address='bangalore'\n",
    "print(name)\n",
    "print(address)\n",
    "print(salary)"
   ]
  },
  {
   "cell_type": "code",
   "execution_count": 18,
   "id": "48cb8cfd-00e3-45a0-8488-9403ae178232",
   "metadata": {},
   "outputs": [
    {
     "name": "stdout",
     "output_type": "stream",
     "text": [
      "details:sandeep+twenty+bangalore=sandeeptwentybangalore\n",
      "sandeeptwentybangalore\n"
     ]
    }
   ],
   "source": [
    "details =name+salary+address\n",
    "print(f\"details:{name}+{salary}+{address}={details}\")\n",
    "print(details)"
   ]
  },
  {
   "cell_type": "code",
   "execution_count": 15,
   "id": "09593305-d48a-4f85-869d-a85671151464",
   "metadata": {},
   "outputs": [
    {
     "name": "stdout",
     "output_type": "stream",
     "text": [
      "sandeep\n",
      "bangalore\n",
      "20\n"
     ]
    }
   ],
   "source": [
    "name='sandeep'\n",
    "salary=20\n",
    "address='bangalore'\n",
    "print(name)\n",
    "print(address)\n",
    "print(salary)"
   ]
  },
  {
   "cell_type": "code",
   "execution_count": null,
   "id": "cd57fae2-2b99-4c19-a71d-f9e2f126a2ef",
   "metadata": {},
   "outputs": [],
   "source": []
  },
  {
   "cell_type": "code",
   "execution_count": 19,
   "id": "d8edfe74-0038-4738-9fd6-3728778e521a",
   "metadata": {},
   "outputs": [],
   "source": [
    "#multipul values\n",
    "\n",
    "x=y=z=10"
   ]
  },
  {
   "cell_type": "code",
   "execution_count": 21,
   "id": "6e3966ca-693e-4abf-8e02-b91eb861bb0d",
   "metadata": {},
   "outputs": [
    {
     "name": "stdout",
     "output_type": "stream",
     "text": [
      "10\n",
      "10\n",
      "10\n"
     ]
    }
   ],
   "source": [
    "print(x)\n",
    "print(y)\n",
    "print(z)"
   ]
  },
  {
   "cell_type": "code",
   "execution_count": 26,
   "id": "586bc83a-f86a-41c1-9b97-d7d1e4b49dc1",
   "metadata": {},
   "outputs": [
    {
     "name": "stdout",
     "output_type": "stream",
     "text": [
      "10\n",
      "11\n",
      "12\n"
     ]
    }
   ],
   "source": [
    "x,y,z=10,11,12\n",
    "print(x)\n",
    "print(y)\n",
    "print(z)"
   ]
  },
  {
   "cell_type": "code",
   "execution_count": 2,
   "id": "1e1b5786-3ae8-44b2-aa64-0c51fe607aea",
   "metadata": {},
   "outputs": [
    {
     "data": {
      "text/plain": [
       "'SANDEEP BOSS'"
      ]
     },
     "execution_count": 2,
     "metadata": {},
     "output_type": "execute_result"
    }
   ],
   "source": [
    "#converting strings \n",
    "\n",
    "name =\"sandeep boss\"\n",
    "name.upper()"
   ]
  },
  {
   "cell_type": "code",
   "execution_count": 3,
   "id": "642b12ae-80c4-44da-8751-ee0e3cc85ad3",
   "metadata": {},
   "outputs": [
    {
     "data": {
      "text/plain": [
       "'sandeep boss'"
      ]
     },
     "execution_count": 3,
     "metadata": {},
     "output_type": "execute_result"
    }
   ],
   "source": [
    "name.lower()"
   ]
  },
  {
   "cell_type": "code",
   "execution_count": 4,
   "id": "61ae67be-4e10-488d-addc-915fa393d817",
   "metadata": {},
   "outputs": [
    {
     "data": {
      "text/plain": [
       "'SANDEEP BOSS'"
      ]
     },
     "execution_count": 4,
     "metadata": {},
     "output_type": "execute_result"
    }
   ],
   "source": [
    "name.swapcase()"
   ]
  },
  {
   "cell_type": "code",
   "execution_count": 5,
   "id": "c9f40e5a-e1e6-429b-889f-460398dec863",
   "metadata": {},
   "outputs": [
    {
     "data": {
      "text/plain": [
       "'Sandeep Boss'"
      ]
     },
     "execution_count": 5,
     "metadata": {},
     "output_type": "execute_result"
    }
   ],
   "source": [
    "name.title()"
   ]
  },
  {
   "cell_type": "code",
   "execution_count": 6,
   "id": "9032b0be-ddf4-4c73-93bc-5ab5a7d14cd5",
   "metadata": {},
   "outputs": [
    {
     "data": {
      "text/plain": [
       "'Sandeep boss'"
      ]
     },
     "execution_count": 6,
     "metadata": {},
     "output_type": "execute_result"
    }
   ],
   "source": [
    "name.capitalize()"
   ]
  },
  {
   "cell_type": "code",
   "execution_count": 7,
   "id": "d44730df-3552-4e6c-981e-874d381e8e7d",
   "metadata": {},
   "outputs": [
    {
     "data": {
      "text/plain": [
       "False"
      ]
     },
     "execution_count": 7,
     "metadata": {},
     "output_type": "execute_result"
    }
   ],
   "source": [
    "name.isalpha()"
   ]
  },
  {
   "cell_type": "code",
   "execution_count": 8,
   "id": "0e67a136-a571-479b-a5c3-ecf56ad10f2e",
   "metadata": {},
   "outputs": [
    {
     "data": {
      "text/plain": [
       "False"
      ]
     },
     "execution_count": 8,
     "metadata": {},
     "output_type": "execute_result"
    }
   ],
   "source": [
    "name.isalnum()"
   ]
  },
  {
   "cell_type": "code",
   "execution_count": 13,
   "id": "ec8c5014-d25b-4f10-9fd6-f3f8fcae3272",
   "metadata": {},
   "outputs": [
    {
     "data": {
      "text/plain": [
       "['sandeep', 'boss']"
      ]
     },
     "execution_count": 13,
     "metadata": {},
     "output_type": "execute_result"
    }
   ],
   "source": [
    "c=name\n",
    "c.split()\n"
   ]
  },
  {
   "cell_type": "code",
   "execution_count": 22,
   "id": "a856fb7e-3d01-446c-a0ce-35433b6b27dd",
   "metadata": {},
   "outputs": [
    {
     "data": {
      "text/plain": [
       "['', 'andeep bo', '', '']"
      ]
     },
     "execution_count": 22,
     "metadata": {},
     "output_type": "execute_result"
    }
   ],
   "source": [
    "c.split('s')"
   ]
  },
  {
   "cell_type": "code",
   "execution_count": 40,
   "id": "c3e99886-cdd1-48da-8dd0-a1833c7ffdf3",
   "metadata": {},
   "outputs": [],
   "source": [
    "c='       +91070-546464646643       '"
   ]
  },
  {
   "cell_type": "code",
   "execution_count": 41,
   "id": "bd935e4a-1118-4425-a92f-f25dcdea449a",
   "metadata": {},
   "outputs": [
    {
     "data": {
      "text/plain": [
       "['       +91070-54', '4', '4', '4', '', '43       ']"
      ]
     },
     "execution_count": 41,
     "metadata": {},
     "output_type": "execute_result"
    }
   ],
   "source": [
    "c.split('6')"
   ]
  },
  {
   "cell_type": "code",
   "execution_count": 42,
   "id": "87b5d8ca-76e6-4126-9849-d816ab379e32",
   "metadata": {},
   "outputs": [
    {
     "data": {
      "text/plain": [
       "False"
      ]
     },
     "execution_count": 42,
     "metadata": {},
     "output_type": "execute_result"
    }
   ],
   "source": [
    "c.endswith(\"s\")"
   ]
  },
  {
   "cell_type": "code",
   "execution_count": 43,
   "id": "d5614b1c-1f51-48e3-b0bd-5d565b511ba8",
   "metadata": {},
   "outputs": [
    {
     "data": {
      "text/plain": [
       "False"
      ]
     },
     "execution_count": 43,
     "metadata": {},
     "output_type": "execute_result"
    }
   ],
   "source": [
    "c.endswith(\"e\")\n"
   ]
  },
  {
   "cell_type": "code",
   "execution_count": 44,
   "id": "8469b706-25e0-426a-b693-77881ee35f58",
   "metadata": {},
   "outputs": [
    {
     "data": {
      "text/plain": [
       "False"
      ]
     },
     "execution_count": 44,
     "metadata": {},
     "output_type": "execute_result"
    }
   ],
   "source": [
    "c.startswith('s')"
   ]
  },
  {
   "cell_type": "code",
   "execution_count": 45,
   "id": "8bc23601-e7e9-4a56-ac9e-b8f0b07757ee",
   "metadata": {},
   "outputs": [
    {
     "data": {
      "text/plain": [
       "False"
      ]
     },
     "execution_count": 45,
     "metadata": {},
     "output_type": "execute_result"
    }
   ],
   "source": [
    "c.startswith('e')"
   ]
  },
  {
   "cell_type": "code",
   "execution_count": 46,
   "id": "e292a826-bb59-4449-b73a-e8ce636a4379",
   "metadata": {},
   "outputs": [
    {
     "data": {
      "text/plain": [
       "'+91070-546464646643       '"
      ]
     },
     "execution_count": 46,
     "metadata": {},
     "output_type": "execute_result"
    }
   ],
   "source": [
    "c.lstrip()"
   ]
  },
  {
   "cell_type": "code",
   "execution_count": 47,
   "id": "8b916497-a311-4d16-85f6-8ffb7276782a",
   "metadata": {},
   "outputs": [
    {
     "data": {
      "text/plain": [
       "'       +91070-546464646643'"
      ]
     },
     "execution_count": 47,
     "metadata": {},
     "output_type": "execute_result"
    }
   ],
   "source": [
    "c.rstrip()"
   ]
  },
  {
   "cell_type": "code",
   "execution_count": 50,
   "id": "d71cd81b-35a9-4b3f-bcb6-55aade689a42",
   "metadata": {},
   "outputs": [
    {
     "data": {
      "text/plain": [
       "'$$$$$$$$$$$$$data$$$$$$$$$$$$$'"
      ]
     },
     "execution_count": 50,
     "metadata": {},
     "output_type": "execute_result"
    }
   ],
   "source": [
    "\n",
    "a=\"data\"\n",
    "a.center(30,\"$\")"
   ]
  },
  {
   "cell_type": "code",
   "execution_count": 54,
   "id": "5461039e-144a-4f77-b31d-597e590bdde2",
   "metadata": {},
   "outputs": [
    {
     "name": "stdout",
     "output_type": "stream",
     "text": [
      "data@@@@@@@@@@@@@@@@@@@@@@@@@@\n",
      "##########################data\n"
     ]
    }
   ],
   "source": [
    "print (a.ljust(30,'@'))\n",
    "print (a.rjust(30,'#'))\n"
   ]
  },
  {
   "cell_type": "code",
   "execution_count": 57,
   "id": "80957a4b-e4f7-4e21-b477-9a7a2f1e2056",
   "metadata": {},
   "outputs": [
    {
     "name": "stdout",
     "output_type": "stream",
     "text": [
      "0\n",
      "1\n",
      "2\n",
      "1\n"
     ]
    }
   ],
   "source": [
    "print(a.index(\"d\"))\n",
    "print(a.index(\"a\"))\n",
    "print(a.index(\"t\"))\n",
    "print(a.index(\"a\"))\n",
    "\n"
   ]
  },
  {
   "cell_type": "code",
   "execution_count": 58,
   "id": "1641fc56-86b8-4d41-a2a7-2da237937692",
   "metadata": {},
   "outputs": [
    {
     "data": {
      "text/plain": [
       "'ksandeepisandeepnsandeepg'"
      ]
     },
     "execution_count": 58,
     "metadata": {},
     "output_type": "execute_result"
    }
   ],
   "source": [
    "'sandeep'.join('king')"
   ]
  },
  {
   "cell_type": "code",
   "execution_count": 59,
   "id": "d5a9880e-b9b3-40ca-895b-eac64930e8b4",
   "metadata": {},
   "outputs": [
    {
     "data": {
      "text/plain": [
       "'k143i143n143g'"
      ]
     },
     "execution_count": 59,
     "metadata": {},
     "output_type": "execute_result"
    }
   ],
   "source": [
    "'143'.join('king')"
   ]
  },
  {
   "cell_type": "code",
   "execution_count": null,
   "id": "1741f3b9-a288-4522-a01d-e8135602726e",
   "metadata": {},
   "outputs": [],
   "source": []
  },
  {
   "cell_type": "code",
   "execution_count": null,
   "id": "2250c66c-2e9d-4065-8bd5-c01304ef2a8e",
   "metadata": {},
   "outputs": [],
   "source": []
  },
  {
   "cell_type": "code",
   "execution_count": null,
   "id": "a68efce2-0369-4057-8982-dfc1ebac09f8",
   "metadata": {},
   "outputs": [],
   "source": []
  },
  {
   "cell_type": "code",
   "execution_count": 57,
   "id": "bb827381-c29d-4784-a702-db4a83730e14",
   "metadata": {},
   "outputs": [
    {
     "name": "stdout",
     "output_type": "stream",
     "text": [
      "10\n"
     ]
    }
   ],
   "source": [
    "#direct way\n",
    "\n",
    "x=10\n",
    "print(x)"
   ]
  },
  {
   "cell_type": "code",
   "execution_count": 11,
   "id": "c4652b47-b489-4786-9993-5c5e6118d9c2",
   "metadata": {
    "scrolled": true
   },
   "outputs": [
    {
     "name": "stdin",
     "output_type": "stream",
     "text": [
      "Enter a value for sandeep x:  100\n"
     ]
    },
    {
     "data": {
      "text/plain": [
       "int"
      ]
     },
     "execution_count": 11,
     "metadata": {},
     "output_type": "execute_result"
    }
   ],
   "source": [
    "#using input method\n",
    "\n",
    "x = int(input(\"Enter a value for sandeep x: \"))#integer number work if give pass 100\n",
    "type(x)"
   ]
  },
  {
   "cell_type": "code",
   "execution_count": null,
   "id": "c5a71d75-65ab-4244-ba4a-3fe59016917c",
   "metadata": {
    "scrolled": true
   },
   "outputs": [],
   "source": [
    "x = int(input(\"Enter a value for sandeep x: \"))#integer not work if give pass sandeep\n"
   ]
  },
  {
   "cell_type": "code",
   "execution_count": 10,
   "id": "de912557-2e8b-4876-81d5-8373f9a44f56",
   "metadata": {},
   "outputs": [
    {
     "name": "stdin",
     "output_type": "stream",
     "text": [
      "Enter a value for sandeep x:  king\n"
     ]
    },
    {
     "data": {
      "text/plain": [
       "str"
      ]
     },
     "execution_count": 10,
     "metadata": {},
     "output_type": "execute_result"
    }
   ],
   "source": [
    "x = str(input(\"Enter a value for sandeep x: \"))#string  work if give pass king\n",
    "type(x)"
   ]
  },
  {
   "cell_type": "code",
   "execution_count": 12,
   "id": "ec583e2f-f77f-44be-a624-37c06faa35d8",
   "metadata": {},
   "outputs": [
    {
     "name": "stdin",
     "output_type": "stream",
     "text": [
      "Enter a value for sandeep y:  5\n"
     ]
    },
    {
     "data": {
      "text/plain": [
       "str"
      ]
     },
     "execution_count": 12,
     "metadata": {},
     "output_type": "execute_result"
    }
   ],
   "source": [
    "y = str(input(\"Enter a value for sandeep y: \"))#string  work if give pass integer\n",
    "type(y)"
   ]
  },
  {
   "cell_type": "code",
   "execution_count": null,
   "id": "d4dc3e81-22c9-4716-9ac9-2ad83e0a5de7",
   "metadata": {},
   "outputs": [],
   "source": []
  },
  {
   "cell_type": "code",
   "execution_count": 9,
   "id": "6bac072e-b320-4877-8252-371540b73829",
   "metadata": {},
   "outputs": [
    {
     "name": "stdout",
     "output_type": "stream",
     "text": [
      "100.5\n"
     ]
    },
    {
     "data": {
      "text/plain": [
       "float"
      ]
     },
     "execution_count": 9,
     "metadata": {},
     "output_type": "execute_result"
    }
   ],
   "source": [
    "#float data types\n",
    "\n",
    "a=100.5\n",
    "print(a)\n",
    "type(a)"
   ]
  },
  {
   "cell_type": "code",
   "execution_count": 14,
   "id": "9a63ec67-3747-4534-8f16-0cb65098d371",
   "metadata": {},
   "outputs": [
    {
     "name": "stdin",
     "output_type": "stream",
     "text": [
      "give a decimal values: 100.00123\n"
     ]
    },
    {
     "data": {
      "text/plain": [
       "float"
      ]
     },
     "execution_count": 14,
     "metadata": {},
     "output_type": "execute_result"
    }
   ],
   "source": [
    "a=float(input(\"give a decimal values:\"))\n",
    "type(a)\n"
   ]
  },
  {
   "cell_type": "code",
   "execution_count": 16,
   "id": "dac1fea0-70a2-4fe2-8ef4-fabc3287dae1",
   "metadata": {},
   "outputs": [
    {
     "name": "stdin",
     "output_type": "stream",
     "text": [
      "110.1=100 10.10\n"
     ]
    },
    {
     "name": "stdout",
     "output_type": "stream",
     "text": [
      "10.1\n"
     ]
    },
    {
     "data": {
      "text/plain": [
       "float"
      ]
     },
     "execution_count": 16,
     "metadata": {},
     "output_type": "execute_result"
    }
   ],
   "source": [
    "a=110.10\n",
    "b=100\n",
    "\n",
    "print(float(input(f\"{a}={b}\")))\n",
    "type(a)\n"
   ]
  },
  {
   "cell_type": "code",
   "execution_count": 17,
   "id": "5011d29e-1eab-4ec0-9085-3b715a856bea",
   "metadata": {},
   "outputs": [
    {
     "name": "stdin",
     "output_type": "stream",
     "text": [
      "110.1=100 10.10\n"
     ]
    },
    {
     "name": "stdout",
     "output_type": "stream",
     "text": [
      "10.1\n"
     ]
    },
    {
     "data": {
      "text/plain": [
       "int"
      ]
     },
     "execution_count": 17,
     "metadata": {},
     "output_type": "execute_result"
    }
   ],
   "source": [
    "a=110.10\n",
    "b=100\n",
    "\n",
    "print(float(input(f\"{a}={b}\")))\n",
    "\n",
    "type(b)\n",
    "\n"
   ]
  },
  {
   "cell_type": "code",
   "execution_count": null,
   "id": "6146c51a-5c22-4965-9693-dac51b1cecbb",
   "metadata": {},
   "outputs": [],
   "source": []
  },
  {
   "cell_type": "code",
   "execution_count": null,
   "id": "949cdd40-f7cc-41f4-84e1-35c8847480e7",
   "metadata": {},
   "outputs": [],
   "source": [
    "#comples"
   ]
  },
  {
   "cell_type": "code",
   "execution_count": null,
   "id": "bf6c1226-89e1-4591-b715-a964850340e2",
   "metadata": {},
   "outputs": [],
   "source": [
    "#syntax n+ij"
   ]
  },
  {
   "cell_type": "code",
   "execution_count": 21,
   "id": "7dc3c43d-6c50-489c-88fe-c239013a6290",
   "metadata": {},
   "outputs": [
    {
     "name": "stdout",
     "output_type": "stream",
     "text": [
      "(1+8j)\n"
     ]
    },
    {
     "data": {
      "text/plain": [
       "complex"
      ]
     },
     "execution_count": 21,
     "metadata": {},
     "output_type": "execute_result"
    }
   ],
   "source": [
    "a=1+8j\n",
    "\n",
    "print(a)\n",
    "type(a)"
   ]
  },
  {
   "cell_type": "code",
   "execution_count": 24,
   "id": "53753143-bc0a-4288-9508-400631941ee8",
   "metadata": {},
   "outputs": [
    {
     "name": "stdout",
     "output_type": "stream",
     "text": [
      "(5+55j)\n"
     ]
    },
    {
     "data": {
      "text/plain": [
       "complex"
      ]
     },
     "execution_count": 24,
     "metadata": {},
     "output_type": "execute_result"
    }
   ],
   "source": [
    "x=5j\n",
    "y=5+50j\n",
    "z=y+x\n",
    "print(z)\n",
    "type(z)"
   ]
  },
  {
   "cell_type": "code",
   "execution_count": 25,
   "id": "1286748e-bc65-48ee-af4e-76497d06b715",
   "metadata": {},
   "outputs": [
    {
     "name": "stdout",
     "output_type": "stream",
     "text": [
      "5j\n"
     ]
    },
    {
     "data": {
      "text/plain": [
       "complex"
      ]
     },
     "execution_count": 25,
     "metadata": {},
     "output_type": "execute_result"
    }
   ],
   "source": [
    "x=5j\n",
    "y=5+50j\n",
    "\n",
    "print(x)\n",
    "type(y)"
   ]
  },
  {
   "cell_type": "code",
   "execution_count": 26,
   "id": "21eaf2bc-dd85-456b-a334-23d5f2ca2146",
   "metadata": {},
   "outputs": [
    {
     "name": "stdout",
     "output_type": "stream",
     "text": [
      "(5+50j)\n"
     ]
    },
    {
     "data": {
      "text/plain": [
       "complex"
      ]
     },
     "execution_count": 26,
     "metadata": {},
     "output_type": "execute_result"
    }
   ],
   "source": [
    "x=5j\n",
    "y=5+50j\n",
    "\n",
    "print(y)\n",
    "type(x)"
   ]
  },
  {
   "cell_type": "code",
   "execution_count": null,
   "id": "0f907a00-e12b-4eeb-90ed-c191506d74b0",
   "metadata": {},
   "outputs": [],
   "source": []
  },
  {
   "cell_type": "code",
   "execution_count": 28,
   "id": "b25787d9-fcfe-4ddf-881f-c136f09ee3ea",
   "metadata": {},
   "outputs": [],
   "source": [
    "#string\n",
    "#  '  ',\"   \",'''    '''.  # '  '=single line or word like sandeep  / \"   \"= single line or word like sandeep / '''   '''=multipul lines "
   ]
  },
  {
   "cell_type": "code",
   "execution_count": 29,
   "id": "c188cfd1-6438-4467-8ebd-06e68f1aba8f",
   "metadata": {},
   "outputs": [
    {
     "name": "stdout",
     "output_type": "stream",
     "text": [
      "hi sandeep\n"
     ]
    },
    {
     "data": {
      "text/plain": [
       "str"
      ]
     },
     "execution_count": 29,
     "metadata": {},
     "output_type": "execute_result"
    }
   ],
   "source": [
    "string1='hi sandeep'\n",
    "print(string1)\n",
    "type(string1)"
   ]
  },
  {
   "cell_type": "code",
   "execution_count": 31,
   "id": "ca149d13-8c79-48b7-8d63-2663a1fa94f2",
   "metadata": {},
   "outputs": [
    {
     "name": "stdout",
     "output_type": "stream",
     "text": [
      "hi sandeep\n"
     ]
    },
    {
     "data": {
      "text/plain": [
       "str"
      ]
     },
     "execution_count": 31,
     "metadata": {},
     "output_type": "execute_result"
    }
   ],
   "source": [
    "string2=\"hi sandeep\"\n",
    "print(string2)\n",
    "type(string2)"
   ]
  },
  {
   "cell_type": "code",
   "execution_count": 33,
   "id": "d4279b99-fc76-4618-9e82-de1cc7093180",
   "metadata": {},
   "outputs": [
    {
     "name": "stdout",
     "output_type": "stream",
     "text": [
      "hi sandeep \n",
      "asdfghjkl;qwertyuiop[xcvbnm,.34567890-=sdfghjkl;.\n",
      "qwertyuiop[asdfghjkl;'zxcvbnm,./1234567890-=asdfghjkl;\n"
     ]
    },
    {
     "data": {
      "text/plain": [
       "str"
      ]
     },
     "execution_count": 33,
     "metadata": {},
     "output_type": "execute_result"
    }
   ],
   "source": [
    "string3='''hi sandeep \n",
    "asdfghjkl;qwertyuiop[xcvbnm,.34567890-=sdfghjkl;.\n",
    "qwertyuiop[asdfghjkl;'zxcvbnm,./1234567890-=asdfghjkl;'''\n",
    "print(string3)\n",
    "type(string3)"
   ]
  },
  {
   "cell_type": "code",
   "execution_count": null,
   "id": "11218682-3803-4117-b51c-070228e6a369",
   "metadata": {},
   "outputs": [],
   "source": []
  }
 ],
 "metadata": {
  "kernelspec": {
   "display_name": "Python 3 (ipykernel)",
   "language": "python",
   "name": "python3"
  },
  "language_info": {
   "codemirror_mode": {
    "name": "ipython",
    "version": 3
   },
   "file_extension": ".py",
   "mimetype": "text/x-python",
   "name": "python",
   "nbconvert_exporter": "python",
   "pygments_lexer": "ipython3",
   "version": "3.12.7"
  }
 },
 "nbformat": 4,
 "nbformat_minor": 5
}
