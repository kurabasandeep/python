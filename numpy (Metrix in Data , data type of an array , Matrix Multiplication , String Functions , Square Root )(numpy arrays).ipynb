{
 "cells": [
  {
   "cell_type": "markdown",
   "id": "01de4106-2b7f-4b18-a071-e6a311ec2aed",
   "metadata": {},
   "source": [
    "Metrix in Data/Basic Descriptive Statiestics"
   ]
  },
  {
   "cell_type": "markdown",
   "id": "0ef92b6d-deba-4d0e-8d53-842305eccc7a",
   "metadata": {},
   "source": [
    "1.min\n",
    "2.max\n",
    "3.mean\n",
    "4.Mode\n",
    "5. Median\n",
    "6. Standard Deviation\n",
    "7. Count\n",
    "8. Q1, Q2, Q3, Q4\n",
    "```"
   ]
  },
  {
   "cell_type": "code",
   "execution_count": 156,
   "id": "8fa0123d-6325-45e0-861f-17b0196d5502",
   "metadata": {},
   "outputs": [
    {
     "name": "stdout",
     "output_type": "stream",
     "text": [
      "[ 8 10]\n",
      "[ 7 11]\n"
     ]
    }
   ],
   "source": [
    "a= np.array([3,4])\n",
    "b=np.array([5,6])\n",
    "\n",
    "print(np.sum((a,b), axis=0))\n",
    "print(np.sum((a,b), axis=1))"
   ]
  },
  {
   "cell_type": "code",
   "execution_count": 157,
   "id": "c3ea773f-da43-41e5-8ba0-31440a81d4c0",
   "metadata": {},
   "outputs": [
    {
     "name": "stdout",
     "output_type": "stream",
     "text": [
      "[False False  True]\n",
      "[ True  True  True]\n"
     ]
    }
   ],
   "source": [
    "#Array comparions\n",
    "\n",
    "#Element wise Comparison.. fun called as equal\n",
    "import numpy as np\n",
    "\n",
    "a=[1,2,4]\n",
    "b=[2,4,4]\n",
    "c=[1,2,4]\n",
    "\n",
    "print(np.equal(a,b)) #False,False,True\n",
    "print(np.equal(a,c))"
   ]
  },
  {
   "cell_type": "code",
   "execution_count": 158,
   "id": "5c1defd5-6650-4cbe-a3ba-95fced3c03dd",
   "metadata": {},
   "outputs": [
    {
     "name": "stdout",
     "output_type": "stream",
     "text": [
      "False\n",
      "True\n"
     ]
    }
   ],
   "source": [
    "#Array wise comparison\n",
    "import numpy as np\n",
    "\n",
    "a=[1,2,4]\n",
    "b=[2,4,4]\n",
    "c=[1,2,4]\n",
    "\n",
    "print(np.array_equal(a,b))  #\n",
    "print(np.array_equal(a,c))  #"
   ]
  },
  {
   "cell_type": "code",
   "execution_count": 159,
   "id": "2e0b724c-6a73-4084-950f-7256d7ebe665",
   "metadata": {},
   "outputs": [
    {
     "name": "stdout",
     "output_type": "stream",
     "text": [
      "24\n"
     ]
    }
   ],
   "source": [
    "import numpy as np\n",
    "d = np.array(24)\n",
    "print(d)"
   ]
  },
  {
   "cell_type": "code",
   "execution_count": 160,
   "id": "4ddff1ef-aa8f-4431-ac03-27b9ac7c00f3",
   "metadata": {},
   "outputs": [
    {
     "name": "stdout",
     "output_type": "stream",
     "text": [
      "[ 0  1  2  3  4  5  6  7  8  9 10 11 12 13 14 15 16 17 18 19 20 21 22 23]\n"
     ]
    }
   ],
   "source": [
    "d=np.arange(24)  #24 =12*2 , 6*4, 8*3\n",
    "print(d)"
   ]
  },
  {
   "cell_type": "code",
   "execution_count": 161,
   "id": "345986b8-51c1-4435-9e35-5b77b9d3eb7d",
   "metadata": {},
   "outputs": [
    {
     "name": "stdout",
     "output_type": "stream",
     "text": [
      "[[ 0  1]\n",
      " [ 2  3]\n",
      " [ 4  5]\n",
      " [ 6  7]\n",
      " [ 8  9]\n",
      " [10 11]\n",
      " [12 13]\n",
      " [14 15]\n",
      " [16 17]\n",
      " [18 19]\n",
      " [20 21]\n",
      " [22 23]]\n"
     ]
    }
   ],
   "source": [
    "d.shape=(12,2)\n",
    "print(d)"
   ]
  },
  {
   "cell_type": "code",
   "execution_count": null,
   "id": "12e0ec5e-7c88-422f-9561-039356009346",
   "metadata": {},
   "outputs": [],
   "source": []
  },
  {
   "cell_type": "code",
   "execution_count": null,
   "id": "0da1312b-eb2e-47e0-ae66-08ae803f781b",
   "metadata": {},
   "outputs": [],
   "source": []
  },
  {
   "cell_type": "code",
   "execution_count": 162,
   "id": "ad978392-5507-4e63-b3a9-732a87f94cd4",
   "metadata": {},
   "outputs": [
    {
     "name": "stdout",
     "output_type": "stream",
     "text": [
      "9\n",
      "(3, 3)\n",
      "2\n",
      "int32\n"
     ]
    }
   ],
   "source": [
    "# Find the number Elements in array\n",
    "\n",
    "import numpy as np\n",
    "\n",
    "a=np.array([[1,2,3],[4,5,6],[5,8,12]])\n",
    "print(a.size )   #\n",
    "print(a.shape)   #\n",
    "print(a.ndim)\n",
    "print(a.dtype)\n",
    "#"
   ]
  },
  {
   "cell_type": "code",
   "execution_count": 163,
   "id": "d476a76c-9a4e-46a8-83c0-0f415c947f1b",
   "metadata": {},
   "outputs": [
    {
     "name": "stdout",
     "output_type": "stream",
     "text": [
      "16\n",
      "int32\n",
      "(2, 2, 4)\n",
      "3\n"
     ]
    }
   ],
   "source": [
    "a=np.array([\n",
    "    [[1,2,3,4],[4,5,6,8]],\n",
    "     [[7,8,9,4],[4,5,5,6]]\n",
    "])\n",
    "print(a.size)\n",
    "print(a.dtype)\n",
    "\n",
    "import numpy as np\n",
    "\n",
    "\n",
    "\n",
    "print(a.shape)  # Output: (2, 2, 4)\n",
    "print(a.ndim)   # Output: 3"
   ]
  },
  {
   "cell_type": "code",
   "execution_count": null,
   "id": "2d9c2f5b-68d6-44a7-8fdc-ea35f87bb2eb",
   "metadata": {},
   "outputs": [],
   "source": []
  },
  {
   "cell_type": "markdown",
   "id": "56c92b76-63d3-434a-a910-7ff190d0b91b",
   "metadata": {},
   "source": [
    "# Finding the data type of an array"
   ]
  },
  {
   "cell_type": "code",
   "execution_count": 164,
   "id": "e3c1c769-d811-457a-b504-68f616031805",
   "metadata": {},
   "outputs": [
    {
     "name": "stdout",
     "output_type": "stream",
     "text": [
      "int32\n"
     ]
    }
   ],
   "source": [
    "print(a.dtype)"
   ]
  },
  {
   "cell_type": "code",
   "execution_count": 165,
   "id": "ddb231a9-8f95-48bc-931b-77709795b0d2",
   "metadata": {},
   "outputs": [
    {
     "name": "stdout",
     "output_type": "stream",
     "text": [
      "[ 0  1  2  3  4  5  6  7  8  9 10 11 12 13 14 15 16 17 18 19 20 21 22 23]\n",
      "int32\n"
     ]
    }
   ],
   "source": [
    "d=np.arange(24)  #[0,-----,23]\n",
    "print(d)\n",
    "print(d.dtype)"
   ]
  },
  {
   "cell_type": "code",
   "execution_count": 166,
   "id": "8f81e40a-2303-4f53-a65c-60adfd36e855",
   "metadata": {},
   "outputs": [
    {
     "name": "stdout",
     "output_type": "stream",
     "text": [
      "[ 0.  1.  2.  3.  4.  5.  6.  7.  8.  9. 10. 11. 12. 13. 14. 15. 16. 17.\n",
      " 18. 19. 20. 21. 22. 23.]\n",
      "float64\n"
     ]
    }
   ],
   "source": [
    "d=np.arange(24,dtype='float') #0,1,.....,23\n",
    "print(d)\n",
    "print(d.dtype)"
   ]
  },
  {
   "cell_type": "code",
   "execution_count": null,
   "id": "dc568747-241a-4006-a86d-a23c900e9bcd",
   "metadata": {},
   "outputs": [],
   "source": []
  },
  {
   "cell_type": "markdown",
   "id": "90832844-922b-4f79-820b-b6ccff779e49",
   "metadata": {},
   "source": [
    "I# Numpy array Mathematics- Sum"
   ]
  },
  {
   "cell_type": "code",
   "execution_count": 167,
   "id": "9a6d55f6-c808-4cf5-bce2-c03c9f33417e",
   "metadata": {},
   "outputs": [
    {
     "data": {
      "text/plain": [
       "55"
      ]
     },
     "execution_count": 167,
     "metadata": {},
     "output_type": "execute_result"
    }
   ],
   "source": [
    "import numpy as np\n",
    "np.sum([10,30,60,54,68,258])\n",
    "\n",
    "a=[10,20]   #25+30\n",
    "b=[20,5]\n",
    "\n",
    "np.sum([a,b])"
   ]
  },
  {
   "cell_type": "code",
   "execution_count": 168,
   "id": "23eb9df9-44ff-45e3-ba8b-e9a388df7fbe",
   "metadata": {},
   "outputs": [
    {
     "name": "stdout",
     "output_type": "stream",
     "text": [
      "Addition:\n",
      " [[16 16 21]\n",
      " [24 25 31]]\n"
     ]
    },
    {
     "data": {
      "text/plain": [
       "2"
      ]
     },
     "execution_count": 168,
     "metadata": {},
     "output_type": "execute_result"
    }
   ],
   "source": [
    "import numpy as np\n",
    "\n",
    "# Creating two 2D arrays\n",
    "array1 = np.array([[1, 2, 3],\n",
    "                   [4, 5, 6]])\n",
    "\n",
    "array2 = np.array([[7, 8, 9],       #[8,10,12],[14,16,18]\n",
    "                   [10, 11, 12]])\n",
    "\n",
    "array3 = np.array([[8, 6, 9],      #[16,16,21],[24,25,31]\n",
    "                   [10, 9, 13]])\n",
    "\n",
    "# Adding the two arrays\n",
    "sum_array = array1+array2+array3\n",
    "print(\"Addition:\\n\", sum_array)\n",
    "sum_array.ndim"
   ]
  },
  {
   "cell_type": "code",
   "execution_count": null,
   "id": "638c7967-c37d-4bba-9f4f-67e0b0ef0d4a",
   "metadata": {},
   "outputs": [],
   "source": []
  },
  {
   "cell_type": "markdown",
   "id": "51deabaf-c09c-4e85-80dd-c512be558474",
   "metadata": {},
   "source": [
    "# Subtraction:"
   ]
  },
  {
   "cell_type": "code",
   "execution_count": 176,
   "id": "b5dec53c-9e22-4d4d-b880-3e7cc38ccaa8",
   "metadata": {},
   "outputs": [
    {
     "name": "stdout",
     "output_type": "stream",
     "text": [
      "[ 0 -5  1]\n"
     ]
    }
   ],
   "source": [
    "import numpy as np\n",
    "\n",
    "np.subtract(10,20)\n",
    "\n",
    " #Subtraction of 3 arrays:\n",
    "\n",
    "a=np.array([0,1,6])\n",
    "b=np.array([0,5,3])\n",
    "c=np.array([0,1,2])\n",
    "Sub = a-b-c\n",
    "print(Sub)"
   ]
  },
  {
   "cell_type": "code",
   "execution_count": 177,
   "id": "c513316a-4d7d-462a-975d-28b9b9cfebf0",
   "metadata": {},
   "outputs": [
    {
     "data": {
      "text/plain": [
       "array([ 0, -4])"
      ]
     },
     "execution_count": 177,
     "metadata": {},
     "output_type": "execute_result"
    }
   ],
   "source": [
    "a=[0,1]\n",
    "b=[0,5]\n",
    "\n",
    "np.subtract(a,b)"
   ]
  },
  {
   "cell_type": "code",
   "execution_count": 178,
   "id": "83d1c7d7-7891-4af7-9a1c-298e96280090",
   "metadata": {},
   "outputs": [
    {
     "name": "stdout",
     "output_type": "stream",
     "text": [
      "Result of a - b: [[-2 -2]\n",
      " [ 2  3]]\n"
     ]
    }
   ],
   "source": [
    "import numpy as np\n",
    "\n",
    "a = np.array([[2, 4],\n",
    "              [5,8]])\n",
    "b = np.array([[4, 6],\n",
    "              [3,5]])\n",
    "\n",
    "# Perform element-wise subtraction\n",
    "result = np.subtract(a, b)\n",
    "print(\"Result of a - b:\", result)  #"
   ]
  },
  {
   "cell_type": "code",
   "execution_count": 179,
   "id": "e32f8ca3-826b-4c0f-b4ed-0f841e24ec52",
   "metadata": {},
   "outputs": [
    {
     "name": "stdout",
     "output_type": "stream",
     "text": [
      "Result of a + b with broadcasting:\n",
      " [[ 6  6]\n",
      " [11 12]\n",
      " [11  9]]\n"
     ]
    }
   ],
   "source": [
    "#Using Different Shapes(Broadcasting)\n",
    "import numpy as np\n",
    "\n",
    "a = np.array([[1, 2],[6, 8],[6,5]])\n",
    "b = np.array([5,4])\n",
    "\n",
    "# Addition from each row of a using broadcasting\n",
    "result = a + b\n",
    "print(\"Result of a + b with broadcasting:\\n\", result)"
   ]
  },
  {
   "cell_type": "code",
   "execution_count": 180,
   "id": "cc124415-bb47-4ba4-b94f-4da866303bda",
   "metadata": {},
   "outputs": [
    {
     "name": "stdout",
     "output_type": "stream",
     "text": [
      "Subtraction:\n",
      " [[ 9 18 27]\n",
      " [36 45 54]]\n"
     ]
    }
   ],
   "source": [
    "import numpy as np\n",
    "\n",
    "# Creating two 2D arrays\n",
    "array1 = np.array([[10, 20, 30],\n",
    "                   [40, 50, 60]])\n",
    "\n",
    "array2 = np.array([[1, 2, 3],\n",
    "                   [4, 5, 6]])\n",
    "\n",
    "# Subtracting the second array from the first array\n",
    "difference_array = array1 - array2\n",
    "print(\"Subtraction:\\n\", difference_array)"
   ]
  },
  {
   "cell_type": "code",
   "execution_count": null,
   "id": "9c104bd8-f8f3-4423-8b19-f71af194ec61",
   "metadata": {},
   "outputs": [],
   "source": []
  },
  {
   "cell_type": "code",
   "execution_count": null,
   "id": "4fcad95f-0633-49bd-8a2c-7a6880137b51",
   "metadata": {},
   "outputs": [],
   "source": []
  },
  {
   "cell_type": "markdown",
   "id": "e28c92ad-da80-4753-88ff-651c86186fff",
   "metadata": {},
   "source": [
    "# Multiplication of Numpy Array:"
   ]
  },
  {
   "cell_type": "code",
   "execution_count": 181,
   "id": "15bcdbab-db78-4577-be4c-a5ffc1738be5",
   "metadata": {},
   "outputs": [
    {
     "name": "stdout",
     "output_type": "stream",
     "text": [
      "Multiplication:\n",
      " [[ 7 16 27]\n",
      " [40 55 72]]\n"
     ]
    }
   ],
   "source": [
    "import numpy as np\n",
    "\n",
    "# Creating two 2D arrays\n",
    "array1 = np.array([[1, 2, 3],\n",
    "                   [4, 5, 6]])\n",
    "\n",
    "array2 = np.array([[7, 8, 9],\n",
    "                   [10, 11, 12]])\n",
    "\n",
    "# Multiplying the two arrays element-wise\n",
    "product_array = array1 * array2\n",
    "print(\"Multiplication:\\n\", product_array)"
   ]
  },
  {
   "cell_type": "code",
   "execution_count": 182,
   "id": "16fd8b23-67d4-4e33-9ce5-b71c8964f440",
   "metadata": {},
   "outputs": [
    {
     "name": "stdout",
     "output_type": "stream",
     "text": [
      "Multiplication:\n",
      " [[ 7 16]\n",
      " [16  5]\n",
      " [20 12]]\n"
     ]
    }
   ],
   "source": [
    "array1 = np.array([[1, 2],\n",
    "                   [4, 5],\n",
    "                   [4,6]])\n",
    "\n",
    "array2 = np.array([[7, 8],\n",
    "                  [4,1],\n",
    "                   [5,2]\n",
    "                   ])\n",
    "\n",
    "# Multiplying the two arrays element-wise\n",
    "product_array = array1 * array2\n",
    "print(\"Multiplication:\\n\", product_array)"
   ]
  },
  {
   "cell_type": "code",
   "execution_count": null,
   "id": "11242b8c-e446-48aa-aea2-edb78b2bcdff",
   "metadata": {},
   "outputs": [],
   "source": []
  },
  {
   "attachments": {},
   "cell_type": "markdown",
   "id": "5802fdd5-47e3-4320-b00d-d2aa4f0508fe",
   "metadata": {},
   "source": [
    "Matrix Multiplication:\n",
    "\n",
    "the number of columns in the first matrix must be equal to the number of rows in the second matrix. The resulting matrix, known as the matrix product, has the number of rows of the first and the number of columns of the second matrix. The product of matrices A and B is denoted as AB."
   ]
  },
  {
   "cell_type": "markdown",
   "id": "c5b8baac-0f1d-4502-9e6d-458e84c5da36",
   "metadata": {},
   "source": [
    "m*n, n*k      ="
   ]
  },
  {
   "cell_type": "code",
   "execution_count": 183,
   "id": "fad0e335-34f5-4f73-90c3-fa4abf23f7ac",
   "metadata": {},
   "outputs": [],
   "source": [
    "x1=np.random.randint(0,10,(2,2))\n",
    "x2=np.random.randint(0,10,(2,2))"
   ]
  },
  {
   "cell_type": "code",
   "execution_count": 184,
   "id": "8d8700a7-d8fe-4da0-b66e-8c0837be7088",
   "metadata": {},
   "outputs": [
    {
     "data": {
      "text/plain": [
       "array([[7, 2],\n",
       "       [5, 9]])"
      ]
     },
     "execution_count": 184,
     "metadata": {},
     "output_type": "execute_result"
    }
   ],
   "source": [
    "x1"
   ]
  },
  {
   "cell_type": "code",
   "execution_count": 185,
   "id": "443ba770-59c6-4fd7-bd7d-bda9dbd6d3fc",
   "metadata": {},
   "outputs": [
    {
     "data": {
      "text/plain": [
       "array([[7, 0],\n",
       "       [2, 7]])"
      ]
     },
     "execution_count": 185,
     "metadata": {},
     "output_type": "execute_result"
    }
   ],
   "source": [
    "x2"
   ]
  },
  {
   "cell_type": "code",
   "execution_count": 186,
   "id": "dfa5c0bb-a214-4e63-b628-0f5feead5240",
   "metadata": {},
   "outputs": [
    {
     "data": {
      "text/plain": [
       "array([[53, 14],\n",
       "       [53, 63]])"
      ]
     },
     "execution_count": 186,
     "metadata": {},
     "output_type": "execute_result"
    }
   ],
   "source": [
    "np.dot(x1,x2)"
   ]
  },
  {
   "cell_type": "code",
   "execution_count": 187,
   "id": "773e4447-22fa-44ca-ba1c-5e94b6dc33c6",
   "metadata": {},
   "outputs": [],
   "source": [
    "x1=np.random.randint(0,10,(2,3))\n",
    "x2=np.random.randint(0,10,(3,2))"
   ]
  },
  {
   "cell_type": "code",
   "execution_count": 188,
   "id": "64ffa233-2bb0-4f2f-9db0-abbe61372967",
   "metadata": {},
   "outputs": [
    {
     "data": {
      "text/plain": [
       "array([[5, 3, 7],\n",
       "       [4, 8, 7]])"
      ]
     },
     "execution_count": 188,
     "metadata": {},
     "output_type": "execute_result"
    }
   ],
   "source": [
    "x1"
   ]
  },
  {
   "cell_type": "code",
   "execution_count": 189,
   "id": "98c6def1-4db4-4801-996f-24f79ac33034",
   "metadata": {},
   "outputs": [
    {
     "data": {
      "text/plain": [
       "array([[8, 6],\n",
       "       [8, 4],\n",
       "       [4, 7]])"
      ]
     },
     "execution_count": 189,
     "metadata": {},
     "output_type": "execute_result"
    }
   ],
   "source": [
    "x2"
   ]
  },
  {
   "cell_type": "code",
   "execution_count": 190,
   "id": "b82d5c63-29d6-4b01-b79f-5c28a34c7472",
   "metadata": {},
   "outputs": [
    {
     "data": {
      "text/plain": [
       "array([[ 92,  91],\n",
       "       [124, 105]])"
      ]
     },
     "execution_count": 190,
     "metadata": {},
     "output_type": "execute_result"
    }
   ],
   "source": [
    "np.dot(x1,x2)"
   ]
  },
  {
   "cell_type": "code",
   "execution_count": null,
   "id": "ecead1f8-44c5-49de-b2b7-3899ada54268",
   "metadata": {},
   "outputs": [],
   "source": []
  },
  {
   "cell_type": "code",
   "execution_count": null,
   "id": "71384970-0637-4a67-8adb-be78e6cf058d",
   "metadata": {},
   "outputs": [],
   "source": []
  },
  {
   "cell_type": "markdown",
   "id": "2fdd46df-0f5a-4e83-be1b-827fe58e84f7",
   "metadata": {},
   "source": [
    "String Functions"
   ]
  },
  {
   "cell_type": "code",
   "execution_count": 191,
   "id": "a49de91f-6750-45a0-9298-b7bda729fa24",
   "metadata": {},
   "outputs": [],
   "source": [
    "x=np.array([1,2,3,'data'])"
   ]
  },
  {
   "cell_type": "code",
   "execution_count": 192,
   "id": "983adf30-da3c-456a-8e89-d07aa460eaaa",
   "metadata": {},
   "outputs": [
    {
     "data": {
      "text/plain": [
       "array(['1', '2', '3', 'data'], dtype='<U11')"
      ]
     },
     "execution_count": 192,
     "metadata": {},
     "output_type": "execute_result"
    }
   ],
   "source": [
    "x"
   ]
  },
  {
   "cell_type": "code",
   "execution_count": 193,
   "id": "c30445b3-c302-4c9d-97f1-312846619a10",
   "metadata": {},
   "outputs": [
    {
     "data": {
      "text/plain": [
       "array(['1', '2', '3', 'Data'], dtype='<U11')"
      ]
     },
     "execution_count": 193,
     "metadata": {},
     "output_type": "execute_result"
    }
   ],
   "source": [
    "np.char.capitalize(x)"
   ]
  },
  {
   "cell_type": "code",
   "execution_count": 194,
   "id": "c6d04715-48a9-4028-bbac-d415f5afe7c2",
   "metadata": {},
   "outputs": [
    {
     "data": {
      "text/plain": [
       "array(['----1-----', '----2-----', '----3-----', '---data---'],\n",
       "      dtype='<U10')"
      ]
     },
     "execution_count": 194,
     "metadata": {},
     "output_type": "execute_result"
    }
   ],
   "source": [
    "np.char.center(x,10,fillchar='-')"
   ]
  },
  {
   "cell_type": "code",
   "execution_count": 195,
   "id": "688eb2d1-3d81-4e0b-aa6a-90b1314854ec",
   "metadata": {},
   "outputs": [],
   "source": [
    "x=np.array([1,2,3,'data eNginEerIng'])"
   ]
  },
  {
   "cell_type": "code",
   "execution_count": 196,
   "id": "c7be2b44-1b08-4f16-9b67-ae48dbc32b3e",
   "metadata": {},
   "outputs": [
    {
     "data": {
      "text/plain": [
       "array(['1', '2', '3', 'data eNginEerIng'], dtype='<U16')"
      ]
     },
     "execution_count": 196,
     "metadata": {},
     "output_type": "execute_result"
    }
   ],
   "source": [
    "x"
   ]
  },
  {
   "cell_type": "code",
   "execution_count": 197,
   "id": "14d77e83-ca97-413c-b3c9-3552b7515c2f",
   "metadata": {},
   "outputs": [
    {
     "name": "stdout",
     "output_type": "stream",
     "text": [
      "['1' '2' '3' 'DATA ENGINEERING']\n",
      "['1' '2' '3' 'data engineering']\n",
      "['1' '2' '3' 'Data Engineering']\n"
     ]
    }
   ],
   "source": [
    "print(np.char.upper(x))\n",
    "print(np.char.lower(x))\n",
    "print(np.char.title(x))"
   ]
  },
  {
   "cell_type": "code",
   "execution_count": 198,
   "id": "edcd9f81-cbbe-4768-ae36-3a18996d507e",
   "metadata": {},
   "outputs": [
    {
     "data": {
      "text/plain": [
       "array([list(['1']), list(['2']), list(['3']),\n",
       "       list(['data', 'eNginEerIng'])], dtype=object)"
      ]
     },
     "execution_count": 198,
     "metadata": {},
     "output_type": "execute_result"
    }
   ],
   "source": [
    "np.char.split(x)"
   ]
  },
  {
   "cell_type": "code",
   "execution_count": 199,
   "id": "48376424-e95c-4509-8989-67bec702e567",
   "metadata": {},
   "outputs": [],
   "source": [
    "y=np.array([\"Data Science\",\"Machine Learning\"])"
   ]
  },
  {
   "cell_type": "code",
   "execution_count": 200,
   "id": "b9614aa8-7667-4f6c-a3e7-90e1d7b6227a",
   "metadata": {},
   "outputs": [
    {
     "data": {
      "text/plain": [
       "array([list(['Data Sci', 'nc', '']), list(['Machin', ' L', 'arning'])],\n",
       "      dtype=object)"
      ]
     },
     "execution_count": 200,
     "metadata": {},
     "output_type": "execute_result"
    }
   ],
   "source": [
    "np.char.split(y,sep='e')"
   ]
  },
  {
   "cell_type": "code",
   "execution_count": 201,
   "id": "cba96c67-6338-4f47-8aa0-2913f70dbff9",
   "metadata": {},
   "outputs": [
    {
     "data": {
      "text/plain": [
       "array([1, 2])"
      ]
     },
     "execution_count": 201,
     "metadata": {},
     "output_type": "execute_result"
    }
   ],
   "source": [
    "np.char.count(y,\"i\")"
   ]
  },
  {
   "cell_type": "code",
   "execution_count": 202,
   "id": "ba8c99ea-9268-4b31-ae6e-f6b1a9c1c4ec",
   "metadata": {},
   "outputs": [
    {
     "data": {
      "text/plain": [
       "array(['Data Science', 'Machine Learning'], dtype='<U16')"
      ]
     },
     "execution_count": 202,
     "metadata": {},
     "output_type": "execute_result"
    }
   ],
   "source": [
    "y"
   ]
  },
  {
   "cell_type": "code",
   "execution_count": 203,
   "id": "3219899d-f26f-4ebd-9b49-98634f1d7c5c",
   "metadata": {},
   "outputs": [
    {
     "data": {
      "text/plain": [
       "array([False,  True])"
      ]
     },
     "execution_count": 203,
     "metadata": {},
     "output_type": "execute_result"
    }
   ],
   "source": [
    "np.char.startswith(y, \"M\")"
   ]
  },
  {
   "cell_type": "code",
   "execution_count": 204,
   "id": "fdc02e40-ba45-46fa-badc-f87bc5be5d1b",
   "metadata": {},
   "outputs": [
    {
     "data": {
      "text/plain": [
       "array(['Dxxxxxxxtxxxxxxx Science', 'Mxxxxxxxchine Lexxxxxxxrning'],\n",
       "      dtype='<U28')"
      ]
     },
     "execution_count": 204,
     "metadata": {},
     "output_type": "execute_result"
    }
   ],
   "source": [
    "np.char.replace(y,'a','xxxxxxx')"
   ]
  },
  {
   "cell_type": "code",
   "execution_count": 205,
   "id": "8bd51786-7c5d-49df-bd12-e603e929c66e",
   "metadata": {},
   "outputs": [
    {
     "data": {
      "text/plain": [
       "array(['********Data Science', '****Machine Learning'], dtype='<U20')"
      ]
     },
     "execution_count": 205,
     "metadata": {},
     "output_type": "execute_result"
    }
   ],
   "source": [
    "np.char.rjust(y,20,fillchar=\"*\")"
   ]
  },
  {
   "cell_type": "code",
   "execution_count": 206,
   "id": "1a4e682c-9a47-4337-8fc0-54b7ae3e5539",
   "metadata": {},
   "outputs": [
    {
     "data": {
      "text/plain": [
       "array(['Data Science********', 'Machine Learning****'], dtype='<U20')"
      ]
     },
     "execution_count": 206,
     "metadata": {},
     "output_type": "execute_result"
    }
   ],
   "source": [
    "np.char.ljust(y,20,fillchar=\"*\")"
   ]
  },
  {
   "cell_type": "markdown",
   "id": "eedb5b1e-2d4c-482f-8ae3-2d4dbe7a9867",
   "metadata": {},
   "source": [
    "#Time Base Functions:\n",
    "- YYYY:MM:DD  HH:MM:SS  Time Stamp\n",
    "- YYYY:MM:DD   Date\n",
    "- HH:MM:SS      Time\n",
    "\n",
    "#Purpose:\n",
    "- extract month and identify\n",
    "- can be found answers questions based on time series\n",
    "- extracting yeras, week, days, studied\n",
    "\n",
    "\n"
   ]
  },
  {
   "cell_type": "code",
   "execution_count": null,
   "id": "17f48206-99af-4c12-80df-25c30a6926a1",
   "metadata": {},
   "outputs": [],
   "source": []
  },
  {
   "cell_type": "markdown",
   "id": "642d7c2f-f640-41a7-8447-53e62623789c",
   "metadata": {},
   "source": [
    "# Division of Arrays:"
   ]
  },
  {
   "cell_type": "code",
   "execution_count": 209,
   "id": "3100eb18-e503-4e24-beb4-e535da4a0ab9",
   "metadata": {},
   "outputs": [
    {
     "name": "stdout",
     "output_type": "stream",
     "text": [
      "Division:\n",
      " [[ 3.33333333  5.          6.        ]\n",
      " [ 4.         10.         20.        ]]\n",
      "float64\n"
     ]
    }
   ],
   "source": [
    "import numpy as np\n",
    "\n",
    "# Creating two 2D arrays\n",
    "array1 = np.array([[10, 20, 30],\n",
    "                   [40, 50, 60]])\n",
    "\n",
    "array2 = np.array([[3, 4, 5],\n",
    "                   [10, 5, 3]])\n",
    "\n",
    "# Dividing the first array by the second array element-wise\n",
    "division_array = array1 / array2\n",
    "print(\"Division:\\n\", division_array)\n",
    "print(division_array.dtype)"
   ]
  },
  {
   "cell_type": "code",
   "execution_count": null,
   "id": "12831cca-b4c1-4219-b2b0-6ac0dbcf6595",
   "metadata": {},
   "outputs": [],
   "source": []
  },
  {
   "cell_type": "markdown",
   "id": "79ae74d4-6a5a-4ec6-904c-b9754e0a33fe",
   "metadata": {},
   "source": [
    "# Calculating the Exponential:\n",
    "\n",
    "This line calculates the exponential of each element in the array a.\n",
    "The function np.exp() applies the exponential function\n",
    "𝑒^a\n",
    "  to each element in the array.\n",
    "  "
   ]
  },
  {
   "cell_type": "code",
   "execution_count": 210,
   "id": "e40cda35-a828-49a8-a1b3-7329a77b048d",
   "metadata": {},
   "outputs": [
    {
     "name": "stdout",
     "output_type": "stream",
     "text": [
      "Original array: [1 2 3 4 5]\n",
      "Exponential of the array: [  2.71828183   7.3890561   20.08553692  54.59815003 148.4131591 ]\n"
     ]
    }
   ],
   "source": [
    "import numpy as np\n",
    "\n",
    "# Creating a NumPy array\n",
    "a = np.array([1, 2, 3, 4, 5])\n",
    "\n",
    "# Calculating the exponential of each element in the array\n",
    "exp_a = np.exp(a)\n",
    "\n",
    "print(\"Original array:\", a)\n",
    "print(\"Exponential of the array:\", exp_a)  #e = 2.718281828459045"
   ]
  },
  {
   "cell_type": "code",
   "execution_count": 211,
   "id": "2e146d28-4c0f-4d47-b52c-17baeeae815d",
   "metadata": {},
   "outputs": [
    {
     "data": {
      "text/plain": [
       "2.718281828459045"
      ]
     },
     "execution_count": 211,
     "metadata": {},
     "output_type": "execute_result"
    }
   ],
   "source": [
    "import math\n",
    "math.e"
   ]
  },
  {
   "cell_type": "code",
   "execution_count": 212,
   "id": "acc6d842-713b-4911-a5f6-d1fb76258f60",
   "metadata": {},
   "outputs": [
    {
     "name": "stdout",
     "output_type": "stream",
     "text": [
      "Original 2D array:\n",
      " [[1 2 3]\n",
      " [4 5 6]]\n",
      "Exponential of the 2D array:\n",
      " [[  2.71828183   7.3890561   20.08553692]\n",
      " [ 54.59815003 148.4131591  403.42879349]]\n"
     ]
    }
   ],
   "source": [
    "#Exponential of a 2D Array\n",
    "\n",
    "import numpy as np\n",
    "\n",
    "# Creating a 2D NumPy array\n",
    "b = np.array([[1, 2, 3], [4, 5, 6]])\n",
    "\n",
    "# Calculating the exponential of each element in the 2D array\n",
    "exp_b = np.exp(b)\n",
    "\n",
    "print(\"Original 2D array:\\n\", b)\n",
    "print(\"Exponential of the 2D array:\\n\", exp_b) #e^1,"
   ]
  },
  {
   "cell_type": "code",
   "execution_count": null,
   "id": "a0d94894-c616-433a-9518-e9a73599ba79",
   "metadata": {},
   "outputs": [],
   "source": []
  },
  {
   "cell_type": "markdown",
   "id": "10e01478-68e8-4911-af71-24a7df598146",
   "metadata": {},
   "source": [
    "# Square Root (np.sqrt())\n",
    "The np.sqrt() function computes the non-negative square root of each element in the input array."
   ]
  },
  {
   "cell_type": "code",
   "execution_count": 213,
   "id": "0388e7ef-2df0-40e6-8b1e-ff1b4cce9c20",
   "metadata": {},
   "outputs": [
    {
     "name": "stdout",
     "output_type": "stream",
     "text": [
      "Original array: [ 1  4  9 16 25 37]\n",
      "Square root of the array: [1.         2.         3.         4.         5.         6.08276253]\n"
     ]
    }
   ],
   "source": [
    "import numpy as np\n",
    "\n",
    "# Creating a NumPy array\n",
    "a = np.array([1, 4, 9, 16, 25,37])\n",
    "\n",
    "# Calculating the square root of each element\n",
    "sqrt_a = np.sqrt(a)\n",
    "\n",
    "print(\"Original array:\", a)  #[1,4,9,16,25]\n",
    "print(\"Square root of the array:\", sqrt_a)  #[1.,2.,3.,4.,5.]"
   ]
  },
  {
   "cell_type": "code",
   "execution_count": 214,
   "id": "4ff6260a-2944-43bd-90e2-9f2866c6b737",
   "metadata": {},
   "outputs": [
    {
     "name": "stdout",
     "output_type": "stream",
     "text": [
      "sqrt of a: [1.41421356 2.         2.44948974]\n",
      "exp of a: [  7.3890561   54.59815003 403.42879349]\n",
      "sin of a: [ 0.90929743 -0.7568025  -0.2794155 ]\n",
      "cos of a: [-0.41614684 -0.65364362  0.96017029]\n",
      "log of a: [0.69314718 1.38629436 1.79175947]\n"
     ]
    }
   ],
   "source": [
    "#expo, sqrt,sin,cos,log\n",
    "\n",
    "a=np.array([2,4,6])\n",
    "\n",
    "print(\"sqrt of a:\", np.sqrt(a))\n",
    "print(\"exp of a:\", np.exp(a))\n",
    "print(\"sin of a:\", np.sin(a))\n",
    "print(\"cos of a:\", np.cos(a))\n",
    "print(\"log of a:\", np.log(a))"
   ]
  },
  {
   "cell_type": "code",
   "execution_count": 215,
   "id": "cff50a7e-7406-47ed-9085-570139146fbd",
   "metadata": {},
   "outputs": [
    {
     "name": "stdout",
     "output_type": "stream",
     "text": [
      "Sum: 42\n",
      "Minimum Value: 1\n",
      "Mean Value: 5.25\n",
      "Median Value: 5.5\n",
      "Corelation Coefficient: 1.0\n",
      "Standard Deviation: 2.6339134382131846\n"
     ]
    }
   ],
   "source": [
    "#Aggregate Functions:\n",
    "\n",
    "#aggregate functions perform computations on arrays to return a single value.\n",
    "#Here are some common aggregate functions in NumPy\n",
    "\n",
    "a=np.array([1,2,4,5,6,7,8,9])\n",
    "print(\"Sum:\",np.sum(a))   # 42\n",
    "print(\"Minimum Value:\", np.min(a))   #1\n",
    "print(\"Mean Value:\", np.mean(a))     #mean =average\n",
    "print(\"Median Value:\", np.median(a)) #\n",
    "print(\"Corelation Coefficient:\", np.corrcoef(a))   #\n",
    "print(\"Standard Deviation:\", np.std(a))      #"
   ]
  },
  {
   "cell_type": "code",
   "execution_count": 216,
   "id": "04f119d0-0c4f-49f6-8e9b-a7a8de2dac97",
   "metadata": {},
   "outputs": [
    {
     "name": "stdout",
     "output_type": "stream",
     "text": [
      "[[2 3 2 9 8 7]\n",
      " [6 2 2 4 5 6]\n",
      " [8 6 9 6 1 3]\n",
      " [9 7 0 9 3 8]]\n"
     ]
    }
   ],
   "source": [
    "import numpy as np\n",
    "x= np.random.randint(0,10,(4,6))\n",
    "print(x)"
   ]
  },
  {
   "cell_type": "code",
   "execution_count": null,
   "id": "07acfe2f-ceee-4512-b872-09fc41f5a60b",
   "metadata": {},
   "outputs": [],
   "source": []
  },
  {
   "cell_type": "code",
   "execution_count": 217,
   "id": "2e324821-4c96-4468-ab7e-a2b9b6e39362",
   "metadata": {},
   "outputs": [
    {
     "data": {
      "text/plain": [
       "[array([[2, 3, 2, 9, 8, 7],\n",
       "        [6, 2, 2, 4, 5, 6]]),\n",
       " array([[8, 6, 9, 6, 1, 3],\n",
       "        [9, 7, 0, 9, 3, 8]])]"
      ]
     },
     "execution_count": 217,
     "metadata": {},
     "output_type": "execute_result"
    }
   ],
   "source": [
    "np.split(x,2,axis=0)  #It will split list into 2 parts"
   ]
  },
  {
   "cell_type": "code",
   "execution_count": 218,
   "id": "ecdd1e44-424d-4ef9-a27d-87197fe0231a",
   "metadata": {},
   "outputs": [
    {
     "data": {
      "text/plain": [
       "[array([[2, 3, 2],\n",
       "        [6, 2, 2],\n",
       "        [8, 6, 9],\n",
       "        [9, 7, 0]]),\n",
       " array([[9, 8, 7],\n",
       "        [4, 5, 6],\n",
       "        [6, 1, 3],\n",
       "        [9, 3, 8]])]"
      ]
     },
     "execution_count": 218,
     "metadata": {},
     "output_type": "execute_result"
    }
   ],
   "source": [
    "np.split(x,2,axis=1) #split into vertical parts"
   ]
  },
  {
   "cell_type": "code",
   "execution_count": 219,
   "id": "789917d3-65af-4e20-b1d8-29256a8e648f",
   "metadata": {},
   "outputs": [
    {
     "data": {
      "text/plain": [
       "[array([[2, 3, 2, 9, 8, 7]]),\n",
       " array([[6, 2, 2, 4, 5, 6]]),\n",
       " array([[8, 6, 9, 6, 1, 3]]),\n",
       " array([[9, 7, 0, 9, 3, 8]])]"
      ]
     },
     "execution_count": 219,
     "metadata": {},
     "output_type": "execute_result"
    }
   ],
   "source": [
    "np.split(x,4,axis=0)"
   ]
  },
  {
   "cell_type": "code",
   "execution_count": 220,
   "id": "f58342db-7883-44e8-85d2-00d022536897",
   "metadata": {},
   "outputs": [
    {
     "data": {
      "text/plain": [
       "[array([[2, 3, 2, 9, 8, 7],\n",
       "        [6, 2, 2, 4, 5, 6]]),\n",
       " array([[8, 6, 9, 6, 1, 3],\n",
       "        [9, 7, 0, 9, 3, 8]])]"
      ]
     },
     "execution_count": 220,
     "metadata": {},
     "output_type": "execute_result"
    }
   ],
   "source": [
    "np.vsplit(x,2)"
   ]
  },
  {
   "cell_type": "code",
   "execution_count": 221,
   "id": "7607471e-1dc4-4a06-add6-5851ef19da08",
   "metadata": {},
   "outputs": [
    {
     "data": {
      "text/plain": [
       "[array([[2, 3, 2],\n",
       "        [6, 2, 2],\n",
       "        [8, 6, 9],\n",
       "        [9, 7, 0]]),\n",
       " array([[9, 8, 7],\n",
       "        [4, 5, 6],\n",
       "        [6, 1, 3],\n",
       "        [9, 3, 8]])]"
      ]
     },
     "execution_count": 221,
     "metadata": {},
     "output_type": "execute_result"
    }
   ],
   "source": [
    "np.hsplit(x,2)"
   ]
  },
  {
   "cell_type": "code",
   "execution_count": 222,
   "id": "e70cc09b-75e4-4ee5-8c05-c268f2e45030",
   "metadata": {},
   "outputs": [
    {
     "data": {
      "text/plain": [
       "array([[2, 6, 8, 9],\n",
       "       [3, 2, 6, 7],\n",
       "       [2, 2, 9, 0],\n",
       "       [9, 4, 6, 9],\n",
       "       [8, 5, 1, 3],\n",
       "       [7, 6, 3, 8]])"
      ]
     },
     "execution_count": 222,
     "metadata": {},
     "output_type": "execute_result"
    }
   ],
   "source": [
    "x.T  #Transpose- It will swap rows to column and column to rows"
   ]
  },
  {
   "cell_type": "code",
   "execution_count": 223,
   "id": "276dc5f6-b15e-4295-9802-f473ef753eaa",
   "metadata": {},
   "outputs": [
    {
     "name": "stdout",
     "output_type": "stream",
     "text": [
      "[[7 5]\n",
      " [7 0]]\n"
     ]
    }
   ],
   "source": [
    "x=np.random.randint(0,10,(2,2))\n",
    "print(x)"
   ]
  },
  {
   "cell_type": "code",
   "execution_count": 224,
   "id": "4fdf63b2-5812-49b8-85da-81e1e0983b9a",
   "metadata": {},
   "outputs": [
    {
     "data": {
      "text/plain": [
       "6.0"
      ]
     },
     "execution_count": 224,
     "metadata": {},
     "output_type": "execute_result"
    }
   ],
   "source": [
    "np.median(x)"
   ]
  },
  {
   "cell_type": "code",
   "execution_count": null,
   "id": "aa20dfc0-dd47-44ba-bd71-bb850da96c61",
   "metadata": {},
   "outputs": [],
   "source": []
  },
  {
   "cell_type": "code",
   "execution_count": null,
   "id": "70d48afc-9aca-4e1d-b161-e0409fe17a75",
   "metadata": {},
   "outputs": [],
   "source": []
  },
  {
   "cell_type": "code",
   "execution_count": null,
   "id": "318158bd-5ae6-4d3d-9e2f-d370279909a1",
   "metadata": {},
   "outputs": [],
   "source": []
  },
  {
   "cell_type": "code",
   "execution_count": null,
   "id": "282caf67-9f1a-4d31-be50-71ad62dbf203",
   "metadata": {},
   "outputs": [],
   "source": []
  },
  {
   "cell_type": "code",
   "execution_count": null,
   "id": "862082b4-3051-411b-933a-6d17d9cb9367",
   "metadata": {},
   "outputs": [],
   "source": []
  },
  {
   "cell_type": "code",
   "execution_count": null,
   "id": "94dd2bb0-2ca6-49ef-9d7b-1ed393734a31",
   "metadata": {},
   "outputs": [],
   "source": []
  },
  {
   "cell_type": "code",
   "execution_count": null,
   "id": "5afa76ea-7717-4873-be60-0e2918dd1957",
   "metadata": {},
   "outputs": [],
   "source": []
  },
  {
   "cell_type": "code",
   "execution_count": null,
   "id": "f9e3afe4-4421-4426-9fe6-d9b94c9075ef",
   "metadata": {},
   "outputs": [],
   "source": []
  }
 ],
 "metadata": {
  "kernelspec": {
   "display_name": "Python 3 (ipykernel)",
   "language": "python",
   "name": "python3"
  },
  "language_info": {
   "codemirror_mode": {
    "name": "ipython",
    "version": 3
   },
   "file_extension": ".py",
   "mimetype": "text/x-python",
   "name": "python",
   "nbconvert_exporter": "python",
   "pygments_lexer": "ipython3",
   "version": "3.12.7"
  }
 },
 "nbformat": 4,
 "nbformat_minor": 5
}
