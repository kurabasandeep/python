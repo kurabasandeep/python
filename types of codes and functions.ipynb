{
 "cells": [
  {
   "cell_type": "code",
   "execution_count": 2,
   "id": "1c7ae3b6-6a0d-4862-9453-a6c8a334a625",
   "metadata": {},
   "outputs": [],
   "source": [
    "import array as a\n",
    "\n",
    "#Type Codes\n",
    "#The array module uses type codes to specify the type of elements in the array:\n",
    "\n",
    "#   'b': signed char (-ve & +ve) int 1 byte Can represent both -ve & +ve numbers. Range: -128 to 127.\n",
    "#   'B': unsigned char(+ve) int 1 byte Can represent only +ve numbers. Range: 0 to 255\n",
    "#   'u': Unicode character char 2 byte Range 65,536 characters.\n",
    "#   'h': signed short int 2 byte Range: -32,768 to 32,767\n",
    "#   'H': unsigned short int 2 byte Range: 0 to 65,535\n",
    "#   'i': signed int int 2 byte Range: -32,768 to 32,767 (if 2 bytes)\n",
    "#   'I': unsigned int int 2 byte Range: 0 to 65,535 (if 2 bytes)\n",
    "#   'l': signed long int 4 byte Range: -2,147,483,648 to 2,147,483,647\n",
    "#   'L': unsigned long int 4 byte Range: 0 to 4,294,967,295\n",
    "#   'f': float float 4 byte Range: Floating point numbers (single precision)\n",
    "#   'd': double float 8 byte Range: Floating point numbers (double precision)"
   ]
  },
  {
   "cell_type": "code",
   "execution_count": 10,
   "id": "b6a053f2-dddc-4ef6-a309-3f4fafa8373e",
   "metadata": {},
   "outputs": [
    {
     "name": "stdout",
     "output_type": "stream",
     "text": [
      "array('b', [-128, 5, 8, 9, 6, 5, 8, 9, 6, 1, 2, 7, 127])\n"
     ]
    }
   ],
   "source": [
    "import array as s\n",
    "\n",
    "s=s.array('b',[-128,5,8,9,6,5,8,9,6,1,2,7,127])\n",
    "print(s)"
   ]
  },
  {
   "cell_type": "code",
   "execution_count": null,
   "id": "bcf93644-3255-4468-b48d-e8ad5c5e8f76",
   "metadata": {},
   "outputs": [],
   "source": []
  },
  {
   "cell_type": "code",
   "execution_count": 11,
   "id": "a8582714-5368-4719-872b-8685e20066d4",
   "metadata": {},
   "outputs": [
    {
     "name": "stdout",
     "output_type": "stream",
     "text": [
      "array('B', [1, 25, 3, 4, 5, 41, 5])\n"
     ]
    }
   ],
   "source": [
    "#Arrays:\n",
    "import array as arr\n",
    "arr = arr.array('B', [1,25,3, 4, 5,41,5])\n",
    "print(arr)"
   ]
  },
  {
   "cell_type": "code",
   "execution_count": 12,
   "id": "6d75ba86-1a64-4206-b304-8ade61a69360",
   "metadata": {},
   "outputs": [
    {
     "name": "stdout",
     "output_type": "stream",
     "text": [
      "array('B', [1, 2, 3, 4, 5, 25])\n"
     ]
    }
   ],
   "source": [
    "\n",
    "import array as s\n",
    "s=s.array('B',[1,2,3,4,5,25])\n",
    "print(s)"
   ]
  },
  {
   "cell_type": "code",
   "execution_count": 13,
   "id": "d7ecffe8-e4e1-4734-a312-15366879f3d0",
   "metadata": {},
   "outputs": [],
   "source": [
    "import array as s"
   ]
  },
  {
   "cell_type": "code",
   "execution_count": 14,
   "id": "9934e065-cd53-4cd6-aee9-ad915a39dede",
   "metadata": {},
   "outputs": [
    {
     "name": "stdout",
     "output_type": "stream",
     "text": [
      "array('B', [1, 3, 255, 0])\n"
     ]
    }
   ],
   "source": [
    "s=s.array('B',[1,3,255,0])\n",
    "print(s)"
   ]
  },
  {
   "cell_type": "code",
   "execution_count": null,
   "id": "6ae986b3-fe9e-437d-90f0-9bfe7dd3d73c",
   "metadata": {},
   "outputs": [],
   "source": []
  },
  {
   "cell_type": "code",
   "execution_count": null,
   "id": "00c3446a-8c22-460a-bae5-bc1c51870c1f",
   "metadata": {},
   "outputs": [],
   "source": []
  },
  {
   "cell_type": "code",
   "execution_count": 15,
   "id": "749836a3-3609-4548-bfdb-6b98d67db71c",
   "metadata": {},
   "outputs": [
    {
     "name": "stdout",
     "output_type": "stream",
     "text": [
      "array('h', [-32746, -125, 3, 4, 5, 41, 5, 32127])\n"
     ]
    }
   ],
   "source": [
    "import array as arr\n",
    "arr = arr.array('h', [-32746,-125,3, 4, 5,41,5,32127])\n",
    "print(arr)"
   ]
  },
  {
   "cell_type": "code",
   "execution_count": 16,
   "id": "2ae620e2-470c-45eb-9af4-42f04efcaa52",
   "metadata": {},
   "outputs": [
    {
     "name": "stdout",
     "output_type": "stream",
     "text": [
      "array('h', [-32768, -22222, 22222, 32767])\n"
     ]
    }
   ],
   "source": [
    "import array as s\n",
    "s=s.array('h',[-32768,-22222,22222,32767])\n",
    "print(s)"
   ]
  },
  {
   "cell_type": "code",
   "execution_count": 17,
   "id": "3b357a23-5aae-43a4-a26b-f0b2f0dc4559",
   "metadata": {},
   "outputs": [
    {
     "name": "stdout",
     "output_type": "stream",
     "text": [
      "array('H', [65535, 0, 5, 5, 7, 9, 8, 3, 9, 7, 5, 5])\n"
     ]
    }
   ],
   "source": [
    "import array as s\n",
    "s=s.array('H',[65535,0,5,5,7,9,8,3,9,7,5,5,])\n",
    "print(s)"
   ]
  },
  {
   "cell_type": "code",
   "execution_count": null,
   "id": "4ccd865d-9d1a-4fa1-bd34-e3f293bf2ecb",
   "metadata": {},
   "outputs": [],
   "source": []
  },
  {
   "cell_type": "code",
   "execution_count": 18,
   "id": "3930f456-bd5a-44b8-886d-ebc710da7692",
   "metadata": {},
   "outputs": [
    {
     "name": "stdout",
     "output_type": "stream",
     "text": [
      "array('u', 'sandeep')\n"
     ]
    }
   ],
   "source": [
    "import array as s\n",
    "s=s.array('u',['s','a','n','d','e','e','p'])\n",
    "print(s)"
   ]
  },
  {
   "cell_type": "code",
   "execution_count": null,
   "id": "e11083a5-f951-4517-bf27-3470c85be6ad",
   "metadata": {},
   "outputs": [],
   "source": []
  },
  {
   "cell_type": "code",
   "execution_count": null,
   "id": "8e07b847-2b11-478e-8ab0-df856ef9f2c5",
   "metadata": {},
   "outputs": [],
   "source": []
  },
  {
   "cell_type": "code",
   "execution_count": 19,
   "id": "db8e1c7d-2fe1-4907-b6df-b345660b0c41",
   "metadata": {},
   "outputs": [
    {
     "name": "stdout",
     "output_type": "stream",
     "text": [
      "array('i', [1, 2, 3, 4, 5, 6, 26, 5])\n",
      "array('i', [1, 2, 3, 4, 5, 6, 26, 5, 8])\n"
     ]
    }
   ],
   "source": [
    "#1. append()\n",
    "#Adds an element to the end of the array.\n",
    "import array as arr\n",
    "x = arr.array('i', [1, 2, 3, 4, 5,6,26,5])\n",
    "print(x)\n",
    "x.append(8)\n",
    "print(x)"
   ]
  },
  {
   "cell_type": "code",
   "execution_count": 34,
   "id": "3fb03602-d253-46b7-8188-6da85d772d5f",
   "metadata": {},
   "outputs": [
    {
     "name": "stdout",
     "output_type": "stream",
     "text": [
      "array('i', [1, 2, 3, 4, 5, 6, 10, 2, 55, 4, 6, 2, 4, 10, 12, 45, 1, 25, 6, 55])\n",
      "array('i', [1, 2, 3, 4, 5, 6, 10, 2, 55, 4, 6, 2, 4, 10, 12, 45, 1, 25, 6, 55, 100])\n"
     ]
    }
   ],
   "source": [
    "import array as s\n",
    "\n",
    "s=s.array('i', [1,2,3,4,5,6,10,2,55,4,6,2,4,10,12,45,1,25,6,55])\n",
    "print(s)\n",
    "s.append(100)\n",
    "print(s)"
   ]
  },
  {
   "cell_type": "code",
   "execution_count": null,
   "id": "0177ae14-c9fd-41f0-a406-c5ebb8db5e33",
   "metadata": {},
   "outputs": [],
   "source": []
  },
  {
   "cell_type": "code",
   "execution_count": null,
   "id": "4b54a9d8-ba39-4330-8e81-b555fb8e74a6",
   "metadata": {},
   "outputs": [],
   "source": []
  },
  {
   "cell_type": "code",
   "execution_count": null,
   "id": "c8219d40-2660-4918-81dc-8edf18ed2a9a",
   "metadata": {},
   "outputs": [],
   "source": []
  },
  {
   "cell_type": "code",
   "execution_count": 21,
   "id": "194f279a-d66e-4f79-ad26-8b8e729b5963",
   "metadata": {},
   "outputs": [
    {
     "name": "stdout",
     "output_type": "stream",
     "text": [
      "array('i', [1, 2, 3, 4, 5, 6, 26, 5, 8])\n",
      "array('i', [1, 2, 3, 4, 5, 6, 26, 5, 8, 12, 14, 14])\n"
     ]
    }
   ],
   "source": [
    "#2. extend()\n",
    "#Adds elements from an iterable (e.g., list) to the end of the array.\n",
    "\n",
    "#import array as arr\n",
    "#arr = arr.array('i', [1, 2, 3, 4, 5,6,26,5])\n",
    "print(x)\n",
    "\n",
    "x.extend([12,14,14])\n",
    "print(x)"
   ]
  },
  {
   "cell_type": "code",
   "execution_count": 22,
   "id": "0ed7d3fa-e208-49d2-9a1f-34510cdb8988",
   "metadata": {},
   "outputs": [
    {
     "name": "stdout",
     "output_type": "stream",
     "text": [
      "array('i', [1, 2, 3, 4, 5, 6, 10, 2, 55, 4, 6, 2, 4, 10, 12, 45, 1, 25, 6, 55, 100])\n",
      "array('i', [1, 2, 3, 4, 5, 6, 10, 2, 55, 4, 6, 2, 4, 10, 12, 45, 1, 25, 6, 55, 100, 150, 250, 100, 1, 0])\n"
     ]
    }
   ],
   "source": [
    "import array as x\n",
    "\n",
    "x=x.array('i',[1, 2, 3, 4, 5, 6, 10, 2, 55, 4, 6, 2, 4, 10, 12, 45, 1, 25, 6, 55, 100])\n",
    "print(x)\n",
    "x.extend([150,250,100,1,0])\n",
    "print(x)"
   ]
  },
  {
   "cell_type": "code",
   "execution_count": null,
   "id": "d738e3a4-0e82-4512-8ac4-1a5b0ea8b7fe",
   "metadata": {},
   "outputs": [],
   "source": []
  },
  {
   "cell_type": "code",
   "execution_count": null,
   "id": "6a2b9572-b22a-4d4d-a1d0-bc21c44fd3b2",
   "metadata": {},
   "outputs": [],
   "source": []
  },
  {
   "cell_type": "code",
   "execution_count": 23,
   "id": "b610678d-826d-49c3-b395-e85492df72ce",
   "metadata": {},
   "outputs": [
    {
     "name": "stdout",
     "output_type": "stream",
     "text": [
      "array('i', [1, 2, 3, 4, 5, 6, 10, 2, 55, 4, 6, 2, 4, 10, 12, 45, 1, 25, 6, 55, 100, 150, 250, 100, 1, 0])\n",
      "array('i', [1, 2, 3, 4, 24, 5, 6, 10, 2, 55, 4, 6, 2, 4, 10, 12, 45, 1, 25, 6, 55, 100, 150, 250, 100, 1, 0])\n"
     ]
    }
   ],
   "source": [
    "#3. insert()\n",
    "#Inserts an element at a specified position in the array.\n",
    "import array as arr\n",
    "#arr = arr.array('i', [1, 2, 3, 4, 5,6,26,5])\n",
    "print(x)\n",
    "x.insert(4,24)\n",
    "print(x)\n",
    "#arr.insert(0,0)\n",
    "#print(arr)"
   ]
  },
  {
   "cell_type": "code",
   "execution_count": 24,
   "id": "b795092f-b712-4dc2-8727-b096e2591886",
   "metadata": {},
   "outputs": [
    {
     "name": "stdout",
     "output_type": "stream",
     "text": [
      "array('i', [1, 2, 3, 4, 5, 6, 10, 2, 55, 4, 6, 2, 4, 10, 12, 45, 1, 25, 6, 55, 100])\n",
      "array('i', [1, 1, 2, 3, 4, 24, 5, 6, 10, 2, 55, 4, 6, 2, 4, 10, 12, 45, 1, 25, 6, 55, 100, 150, 250, 100, 1, 0])\n",
      "array('i', [1, 0, 1, 2, 3, 4, 24, 5, 6, 10, 2, 55, 4, 6, 2, 4, 10, 12, 45, 1, 25, 6, 55, 100, 150, 250, 100, 1, 0])\n",
      "array('i', [1, 0, 1, 2, 3, 4, 24, 5, 6, 10, 2, 55, 4, 6, 2, 4, 10, 12, 45, 1, 25, 6, 55, 100, 150, 250, 100, 1, 0, 6000])\n"
     ]
    }
   ],
   "source": [
    "print(s)\n",
    "\n",
    "x.insert(0,1)\n",
    "print(x)\n",
    "x.insert(1,0)\n",
    "print(x)\n",
    "x.insert (70000,6000)\n",
    "print(x)\n",
    "\n",
    "\n",
    "\n"
   ]
  },
  {
   "cell_type": "code",
   "execution_count": null,
   "id": "4990aaef-2d09-4792-9517-6163ca3a573f",
   "metadata": {},
   "outputs": [],
   "source": []
  },
  {
   "cell_type": "code",
   "execution_count": null,
   "id": "f65d61ab-79ab-41d6-8d47-be8a9298201d",
   "metadata": {},
   "outputs": [],
   "source": []
  },
  {
   "cell_type": "code",
   "execution_count": null,
   "id": "4f60e3b0-3a72-44db-8113-1cd6e3de4391",
   "metadata": {},
   "outputs": [],
   "source": []
  },
  {
   "cell_type": "code",
   "execution_count": 25,
   "id": "ee27875c-27c4-4bfd-bb56-2ea656529b24",
   "metadata": {},
   "outputs": [
    {
     "name": "stdout",
     "output_type": "stream",
     "text": [
      "array('i', [1, 0, 1, 2, 3, 4, 24, 5, 6, 10, 2, 55, 4, 6, 2, 4, 10, 12, 45, 1, 25, 6, 55, 100, 150, 250, 100, 1, 0, 6000])\n",
      "array('i', [1, 0, 1, 2, 3, 4, 24, 5, 6, 10, 2, 55, 4, 6, 2, 4, 10, 12, 45, 1, 25, 6, 55, 100, 150, 250, 100, 1, 0])\n",
      "array('i', [1, 0, 2, 3, 4, 24, 5, 6, 10, 2, 55, 4, 6, 2, 4, 10, 12, 45, 1, 25, 6, 55, 100, 150, 250, 100, 1, 0])\n"
     ]
    }
   ],
   "source": [
    "#4. pop()\n",
    "#Removes and returns the last element, or the element at a specified position.\n",
    "import array as arr\n",
    "#arr = arr.array('i', [1, 2, 3, 4, 5,6,26,5])\n",
    "print(x)\n",
    "x.pop()\n",
    "print(x)\n",
    "x.pop(2) # index value assigning and delete like a index number 1 is 0 index,0 is 1 index,5 is 2nd index in list \n",
    "print(x)"
   ]
  },
  {
   "cell_type": "code",
   "execution_count": 26,
   "id": "058325f3-498e-43a2-97b1-89d7bffce508",
   "metadata": {},
   "outputs": [
    {
     "name": "stdout",
     "output_type": "stream",
     "text": [
      "array('i', [1, 0, 1, 2, 3, 4, 24, 5, 6, 10, 2, 55, 4, 6, 2, 4, 10, 12, 45, 1, 25, 6, 55, 100, 150, 250, 100, 1, 0, 6000])\n",
      "array('i', [1, 0, 1, 2, 3, 4, 24, 5, 6, 10, 2, 55, 4, 6, 2, 4, 10, 12, 45, 1, 25, 6, 55, 100, 150, 100, 1, 0, 6000])\n",
      "array('i', [1, 0, 1, 5, 2, 3, 4, 24, 5, 6, 10, 2, 55, 4, 6, 2, 4, 10, 12, 45, 1, 25, 6, 55, 100, 150, 100, 1, 0, 6000])\n",
      "array('i', [1, 0, 1, 5, 2, 5, 3, 4, 24, 5, 6, 10, 2, 55, 4, 6, 2, 4, 10, 12, 45, 1, 25, 6, 55, 100, 150, 100, 1, 0, 6000])\n"
     ]
    }
   ],
   "source": [
    "#5. remove()\n",
    "#Removes the first occurrence of a specified element\n",
    "import array as arr\n",
    "arr = arr.array('i',[1, 0, 1, 2, 3, 4, 24, 5, 6, 10, 2, 55, 4, 6, 2, 4, 10, 12, 45, 1, 25, 6, 55, 100, 150, 250, 100, 1, 0, 6000])\n",
    "print(arr)\n",
    "arr.remove(250)\n",
    "print(arr)\n",
    "arr.insert(3,5)\n",
    "print(arr)\n",
    "arr.insert(5,5)\n",
    "\n",
    "print(arr)"
   ]
  },
  {
   "cell_type": "code",
   "execution_count": null,
   "id": "2c12ad0f-31a8-4761-83a4-4bf959d98ead",
   "metadata": {},
   "outputs": [],
   "source": []
  },
  {
   "cell_type": "code",
   "execution_count": null,
   "id": "9d0711df-ba0e-4985-8c28-c55c24d6ccec",
   "metadata": {},
   "outputs": [],
   "source": []
  },
  {
   "cell_type": "code",
   "execution_count": 49,
   "id": "db993ac6-14b7-4012-99b0-32e347da78c7",
   "metadata": {},
   "outputs": [
    {
     "name": "stdout",
     "output_type": "stream",
     "text": [
      "array('i', [1, 0, 1, 2, 3, 4, 24, 5, 6, 10, 2, 55, 4, 6, 2, 4, 10, 12, 45, 1, 25, 6, 55, 100, 150, 250, 100, 1, 0, 6000])\n",
      "array('i', [1, 0, 1, 2, 3, 4, 24, 5, 6, 10, 2, 55, 4, 6, 2, 4, 10, 12, 45, 1, 25, 6, 55, 100, 150, 250, 100, 1, 0, 6000, 10, 20, 30])\n"
     ]
    }
   ],
   "source": [
    "#extend () add multiful elements eg..list\n",
    "import array as arr\n",
    "\n",
    "arr = arr.array('i',[1, 0, 1, 2, 3, 4, 24, 5, 6, 10, 2, 55, 4, 6, 2, 4, 10, 12, 45, 1, 25, 6, 55, 100, 150, 250, 100, 1, 0, 6000])\n",
    "\n",
    "print(arr)\n",
    "arr.extend([10,20,30])\n",
    "print(arr)"
   ]
  },
  {
   "cell_type": "code",
   "execution_count": null,
   "id": "43a1e523-ba2d-47fd-aad3-7f11d001d67a",
   "metadata": {},
   "outputs": [],
   "source": []
  },
  {
   "cell_type": "code",
   "execution_count": 52,
   "id": "adff1066-a0ba-418d-9379-f531d1045a87",
   "metadata": {},
   "outputs": [
    {
     "name": "stdout",
     "output_type": "stream",
     "text": [
      "array('i', [1, 0, 1, 2, 3, 4, 24, 5, 6, 10, 2, 55, 4, 6, 2, 4, 10, 12, 45, 1, 25, 6, 55, 100, 150, 250, 100, 1, 0, 6000])\n",
      "array after removing second occurance of 5: array('i', [1, 0, 1, 2, 3, 4, 24, 5, 6, 10, 2, 55, 4, 6, 2, 4, 10, 12, 45, 1, 25, 6, 55, 100, 150, 250, 100, 1, 0])\n"
     ]
    }
   ],
   "source": [
    "import array as x\n",
    "\n",
    "#create a function for of remove second accurence of a value\n",
    "x=x.array('i',[1, 0, 1, 2, 3, 4, 24, 5, 6, 10, 2, 55, 4, 6, 2, 4, 10, 12, 45, 1, 25, 6, 55, 100, 150, 250, 100, 1, 0, 6000])\n",
    "\n",
    "def remove_second_occurence(array,value):\n",
    "\n",
    "    count=0\n",
    "    for elements in range (len(x)):\n",
    "        if array[elements]==value:\n",
    "            count+=1\n",
    "            if count==1:\n",
    "               \n",
    "                array.pop(elements)\n",
    "                break\n",
    "                \n",
    "print(x)\n",
    "remove_second_occurence(x,6000)\n",
    "print(\"array after removing second occurance of 5:\",x)\n",
    "                "
   ]
  },
  {
   "cell_type": "code",
   "execution_count": 77,
   "id": "490136b7-8acb-4ba1-b7d6-3d2a6fc23dae",
   "metadata": {},
   "outputs": [
    {
     "name": "stdout",
     "output_type": "stream",
     "text": [
      "array('i', [1, 0, 1, 2, 3, 4, 24, 5, 6, 10, 2, 55, 4, 6, 2, 4, 10, 12, 45, 1, 25, 6, 55, 100, 150, 250, 100, 1, 0])\n",
      "array('i', [1, 0, 1, 2, 3, 4, 24, 5, 6, 10, 2, 55, 4, 6, 2, 4, 10, 12, 45, 1, 25, 6, 55, 100, 150, 250, 100, 1, 0])\n",
      "array after removing: array('i', [1, 0, 1, 2, 3, 4, 24, 5, 6, 10, 2, 55, 4, 6, 2, 4, 10, 12, 45, 1, 25, 6, 55, 100, 150, 250, 100, 1, 0])\n"
     ]
    }
   ],
   "source": [
    " print(x)\n",
    "\n",
    "def remove_second_occurence (array,value):\n",
    "    count=0\n",
    "    for i in range (len(x)):\n",
    "        if array [i]==value:\n",
    "            count+=2\n",
    "            if count ==1:\n",
    "                array.pop(i)\n",
    "                break\n",
    "        \n",
    " print(x)    \n",
    "   # i(x,100)\n",
    "\n",
    " print(\"array after removing:\",x)"
   ]
  },
  {
   "cell_type": "code",
   "execution_count": 79,
   "id": "41a57df4-d317-4790-80cd-37417cf30ae6",
   "metadata": {},
   "outputs": [
    {
     "name": "stdout",
     "output_type": "stream",
     "text": [
      "array('i', [1, 2, 3, 4, 5, 6, 26, 5])\n",
      "6\n"
     ]
    }
   ],
   "source": [
    "#6. index()\n",
    "#Returns the index of the first occurrence of a specified element.\n",
    "import array as arr\n",
    "arr = arr.array('i', [1, 2, 3, 4, 5,6,26,5])\n",
    "print(arr)\n",
    "print(arr.index(26))"
   ]
  },
  {
   "cell_type": "code",
   "execution_count": null,
   "id": "a330ba47-cae8-440e-94f1-e2563fadb358",
   "metadata": {},
   "outputs": [],
   "source": []
  },
  {
   "cell_type": "code",
   "execution_count": 83,
   "id": "16df6c45-b244-4450-882a-e0e33adc7d97",
   "metadata": {},
   "outputs": [
    {
     "name": "stdout",
     "output_type": "stream",
     "text": [
      "Original array: array('i', [1, 2, 3, 4, 5, 6, 26, 5, 4, 4, 4])\n",
      "4\n"
     ]
    }
   ],
   "source": [
    "#7. count()\n",
    "#Returns the number of occurrences of a specified element.\n",
    "import array as arr\n",
    "\n",
    "# Creating an array of integers\n",
    "arr = arr.array('i', [1, 2, 3, 4, 5, 6, 26, 5,4,4,4])\n",
    "print(\"Original array:\", arr)\n",
    "\n",
    "print(arr.count(4))"
   ]
  },
  {
   "cell_type": "code",
   "execution_count": null,
   "id": "287852f4-2901-4b37-a51d-ca590f66992e",
   "metadata": {},
   "outputs": [],
   "source": []
  },
  {
   "cell_type": "code",
   "execution_count": null,
   "id": "e5283da9-871a-4d76-affc-330bdba75928",
   "metadata": {},
   "outputs": [],
   "source": []
  },
  {
   "cell_type": "code",
   "execution_count": 82,
   "id": "a6ef9b84-17c9-4c8c-b8e6-cba39942cfaa",
   "metadata": {},
   "outputs": [
    {
     "name": "stdout",
     "output_type": "stream",
     "text": [
      "Original array: array('i', [1, 0, 1, 2, 3, 4, 24, 5, 6, 10, 2, 55, 4, 6, 2, 4, 10, 12, 45, 1, 25, 6, 55, 100, 150, 250, 100, 1, 0])\n",
      "Reversed Array:  array('i', [0, 1, 100, 250, 150, 100, 55, 6, 25, 1, 45, 12, 10, 4, 2, 6, 4, 55, 2, 10, 6, 5, 24, 4, 3, 2, 1, 0, 1])\n"
     ]
    }
   ],
   "source": [
    "#8. reverse()\n",
    "#Reverses the order of elements in the array.\n",
    "\n",
    "import array as arr\n",
    "\n",
    "# Creating an array of integers\n",
    "#arr = arr.array('i', [1, 2, 3, 4, 5, 6, 26, 5])\n",
    "print(\"Original array:\", x)\n",
    "x.reverse()\n",
    "print(\"Reversed Array: \",x)\n",
    "#print(arr.reverse())"
   ]
  },
  {
   "cell_type": "code",
   "execution_count": null,
   "id": "2c0f2e94-7690-4fe6-a896-f8ea3ce3c2f6",
   "metadata": {},
   "outputs": [],
   "source": []
  },
  {
   "cell_type": "code",
   "execution_count": 81,
   "id": "9abce390-abe3-40ca-b9b9-6ef3c1a69f0f",
   "metadata": {},
   "outputs": [
    {
     "name": "stdout",
     "output_type": "stream",
     "text": [
      "Original array: array('i', [1, 0, 1, 2, 3, 4, 24, 5, 6, 10, 2, 55, 4, 6, 2, 4, 10, 12, 45, 1, 25, 6, 55, 100, 150, 250, 100, 1, 0])\n",
      "(2116982822576, 29)\n"
     ]
    }
   ],
   "source": [
    "#9. buffer_info()\n",
    "#Returns a tuple containing the memory address and the number of elements in the array.\n",
    "import array as arr\n",
    "\n",
    "# Creating an array of integers\n",
    "#arr = arr.array('i', [1, 2, 3, 4, 5, 6, 26, 5])\n",
    "print(\"Original array:\", x)\n",
    "\n",
    "print(x.buffer_info())\n"
   ]
  },
  {
   "cell_type": "code",
   "execution_count": null,
   "id": "fd0a045c-a7fd-47c6-ad18-647e37ea01a1",
   "metadata": {},
   "outputs": [],
   "source": []
  },
  {
   "cell_type": "code",
   "execution_count": 80,
   "id": "44afcfa6-6e7f-4848-be43-ca90ba49bfe6",
   "metadata": {},
   "outputs": [
    {
     "name": "stdout",
     "output_type": "stream",
     "text": [
      "Original array: array('i', [1, 0, 1, 2, 3, 4, 24, 5, 6, 10, 2, 55, 4, 6, 2, 4, 10, 12, 45, 1, 25, 6, 55, 100, 150, 250, 100, 1, 0])\n",
      "[1, 0, 1, 2, 3, 4, 24, 5, 6, 10, 2, 55, 4, 6, 2, 4, 10, 12, 45, 1, 25, 6, 55, 100, 150, 250, 100, 1, 0]\n"
     ]
    }
   ],
   "source": [
    "#10. tolist()\n",
    "#Converts the array to a regular list.\n",
    "import array as arr\n",
    "\n",
    "# Creating an array of integers\n",
    "#arr = arr.array('i', [1, 2, 3, 4, 5, 6, 26, 5])\n",
    "print(\"Original array:\", x)\n",
    "print(x.tolist())"
   ]
  },
  {
   "cell_type": "code",
   "execution_count": null,
   "id": "f7b61d90-b128-42fe-88e6-1b88c6cbb809",
   "metadata": {},
   "outputs": [],
   "source": []
  },
  {
   "cell_type": "code",
   "execution_count": null,
   "id": "727ae3cb-1ae7-46d4-bee0-6b8642ec9fc7",
   "metadata": {},
   "outputs": [],
   "source": []
  }
 ],
 "metadata": {
  "kernelspec": {
   "display_name": "Python 3 (ipykernel)",
   "language": "python",
   "name": "python3"
  },
  "language_info": {
   "codemirror_mode": {
    "name": "ipython",
    "version": 3
   },
   "file_extension": ".py",
   "mimetype": "text/x-python",
   "name": "python",
   "nbconvert_exporter": "python",
   "pygments_lexer": "ipython3",
   "version": "3.12.7"
  }
 },
 "nbformat": 4,
 "nbformat_minor": 5
}
