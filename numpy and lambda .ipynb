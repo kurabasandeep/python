{
 "cells": [
  {
   "cell_type": "code",
   "execution_count": 1,
   "id": "944da86d-51a1-4a32-8beb-7d404842d5bc",
   "metadata": {},
   "outputs": [],
   "source": [
    "import numpy as s\n"
   ]
  },
  {
   "cell_type": "code",
   "execution_count": 2,
   "id": "5d866e97-b660-4541-a70a-f18d33d60c2d",
   "metadata": {
    "scrolled": true
   },
   "outputs": [],
   "source": [
    "#return funtion\n",
    "\n",
    "def multiply(a,b,c):\n",
    "    return a*b*c"
   ]
  },
  {
   "cell_type": "code",
   "execution_count": 3,
   "id": "ab1545e1-f4cc-49b5-84f1-ef514f6560df",
   "metadata": {},
   "outputs": [
    {
     "name": "stdout",
     "output_type": "stream",
     "text": [
      "60\n"
     ]
    }
   ],
   "source": [
    "result=multiply(3,5,4)\n",
    "print (result)"
   ]
  },
  {
   "cell_type": "code",
   "execution_count": 4,
   "id": "d42ae1ad-6edb-46ae-ae30-36d30f17377d",
   "metadata": {},
   "outputs": [
    {
     "data": {
      "text/plain": [
       "80"
      ]
     },
     "execution_count": 4,
     "metadata": {},
     "output_type": "execute_result"
    }
   ],
   "source": [
    "multiply(4,5,4)"
   ]
  },
  {
   "cell_type": "code",
   "execution_count": 5,
   "id": "49771820-e712-4c93-84ec-11f58b9fa6fd",
   "metadata": {},
   "outputs": [],
   "source": [
    "\n",
    "def division(a,b):\n",
    "    return a/b"
   ]
  },
  {
   "cell_type": "code",
   "execution_count": 6,
   "id": "897676b0-2ed3-4677-a3ac-3e695300f1e0",
   "metadata": {},
   "outputs": [
    {
     "name": "stdout",
     "output_type": "stream",
     "text": [
      "0.6\n"
     ]
    }
   ],
   "source": [
    "result=division(3,5)\n",
    "print (result)"
   ]
  },
  {
   "cell_type": "code",
   "execution_count": 10,
   "id": "c830f9d3-ba6f-42ac-946f-359c14adcc6f",
   "metadata": {},
   "outputs": [],
   "source": [
    "#*args\n",
    "\n",
    "def add(*args):\n",
    "    return sum(args)\n"
   ]
  },
  {
   "cell_type": "code",
   "execution_count": 11,
   "id": "2763e726-ffab-4399-b32c-5610771eff0d",
   "metadata": {},
   "outputs": [
    {
     "name": "stdout",
     "output_type": "stream",
     "text": [
      "3\n",
      "9\n"
     ]
    }
   ],
   "source": [
    "\n",
    "print(add(1,2))  \n",
    "\n",
    "print(add(4,5))\n"
   ]
  },
  {
   "cell_type": "code",
   "execution_count": 24,
   "id": "27810049-c6ad-4d53-b696-f15a12f43df8",
   "metadata": {},
   "outputs": [
    {
     "name": "stdout",
     "output_type": "stream",
     "text": [
      "name: Alice\n",
      "age: 30\n",
      "city: New York\n"
     ]
    }
   ],
   "source": [
    "def print_details(**kwargs):\n",
    "    for key, value in kwargs.items():\n",
    "        print(f\"{key}: {value}\")\n",
    "\n",
    "# Example usage\n",
    "print_details(name=\"Alice\", age=30, city=\"New York\")\n"
   ]
  },
  {
   "cell_type": "code",
   "execution_count": null,
   "id": "cfba7307-62df-4318-a947-2472e9bb8971",
   "metadata": {},
   "outputs": [],
   "source": []
  },
  {
   "cell_type": "code",
   "execution_count": 25,
   "id": "f5176f03-2966-4f4c-bfb7-d57a3014baa9",
   "metadata": {},
   "outputs": [
    {
     "name": "stdout",
     "output_type": "stream",
     "text": [
      "40\n"
     ]
    }
   ],
   "source": [
    "#lambda functions\n",
    "\n",
    "\n",
    "multiply=lambda a,b:a*b\n",
    "print(multiply(8,5))"
   ]
  },
  {
   "cell_type": "code",
   "execution_count": 48,
   "id": "a12115d0-bcfb-41bd-8b79-1754851d80ae",
   "metadata": {},
   "outputs": [
    {
     "name": "stdout",
     "output_type": "stream",
     "text": [
      "25\n"
     ]
    }
   ],
   "source": [
    "# create a function to find square of a number \n",
    "\n",
    "square= lambda x: x * x\n",
    "print(square(5))"
   ]
  },
  {
   "cell_type": "code",
   "execution_count": 49,
   "id": "d463bae5-f8a1-4252-8d59-6c673f28ac7b",
   "metadata": {},
   "outputs": [
    {
     "name": "stdout",
     "output_type": "stream",
     "text": [
      "125\n"
     ]
    }
   ],
   "source": [
    "cube = lambda x:x*x*x\n",
    "print(cube(5))"
   ]
  },
  {
   "cell_type": "code",
   "execution_count": 52,
   "id": "edb16a10-224f-47b2-984a-f110aca1593d",
   "metadata": {},
   "outputs": [
    {
     "name": "stdout",
     "output_type": "stream",
     "text": [
      "-1\n"
     ]
    }
   ],
   "source": [
    "\n",
    "z=lambda x,y:y-x\n",
    "print(z(7,6))"
   ]
  },
  {
   "cell_type": "code",
   "execution_count": null,
   "id": "6ddd47a0-422d-46fb-a8fb-bd9cb2bb970e",
   "metadata": {},
   "outputs": [],
   "source": []
  }
 ],
 "metadata": {
  "kernelspec": {
   "display_name": "Python 3 (ipykernel)",
   "language": "python",
   "name": "python3"
  },
  "language_info": {
   "codemirror_mode": {
    "name": "ipython",
    "version": 3
   },
   "file_extension": ".py",
   "mimetype": "text/x-python",
   "name": "python",
   "nbconvert_exporter": "python",
   "pygments_lexer": "ipython3",
   "version": "3.12.7"
  }
 },
 "nbformat": 4,
 "nbformat_minor": 5
}
