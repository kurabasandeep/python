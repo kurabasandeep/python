{
 "cells": [
  {
   "cell_type": "raw",
   "id": "2fca2a30-5749-4717-a37c-9abd0dc9f90c",
   "metadata": {},
   "source": [
    "#operators \n",
    "#  Python divides the operators in the following groups:\n",
    "\n",
    "#    1.   Arithmetic operators\n",
    "#    2.   Assignment operators\n",
    "#    3.   Comparison operators\n",
    "#    4.   Logical operators\n",
    "#    5.   Identity operators\n",
    "#    6.   Membership operators\n",
    "#    7.   Bitwise operators"
   ]
  },
  {
   "cell_type": "raw",
   "id": "1b66fd0a-5102-4a85-9add-0cc0c07222d3",
   "metadata": {},
   "source": [
    "#  1.   Arithmetic operators are used with numeric values to perform common mathematical operations:\n",
    "\n",
    "#  Operator\t Name       \tExample\n",
    "#    +\t  Addition      \tx + y\n",
    "#    -\t Subtraction\t     x - y\n",
    "#    *\t Multiplication\t     x * y\n",
    "#    /  \tDivision\t     x / y\n",
    "#    %\t    Modulus\t         x % y\n",
    "#   **\t Exponentiation\t     x ** y\n",
    "#    /\t Floor division\t     x // y\n"
   ]
  },
  {
   "cell_type": "code",
   "execution_count": 203,
   "id": "1a75229f-0194-415b-9af9-fa5accf42db3",
   "metadata": {},
   "outputs": [
    {
     "name": "stdout",
     "output_type": "stream",
     "text": [
      "addition:10+20=30\n",
      "30\n",
      "Subtraction:10-20=-10\n",
      "-10\n",
      "Multiplication:10*20=200\n",
      "200\n",
      "Division:10/20=0.5\n",
      "0.5\n",
      "Modulus:10%20=10\n",
      "10\n",
      "Exponentiation:10**20=100000000000000000000\n",
      "100000000000000000000\n",
      "Floor division:10 // 20=0\n",
      "0\n"
     ]
    }
   ],
   "source": [
    "x=10\n",
    "y=20\n",
    "addition=x+y\n",
    "print(f\"addition:{x}+{y}={addition}\")\n",
    "print(addition)\n",
    "Subtraction=x-y\n",
    "print(f\"Subtraction:{x}-{y}={Subtraction}\")\n",
    "print(Subtraction)\n",
    "Multiplication=x*y\n",
    "print(f\"Multiplication:{x}*{y}={Multiplication}\")\n",
    "print(Multiplication)\n",
    "Division=x/y\n",
    "print(f\"Division:{x}/{y}={Division}\")\n",
    "print(Division)\n",
    "Modulus=x%y\n",
    "print(f\"Modulus:{x}%{y}={Modulus}\")\n",
    "print(Modulus)\n",
    "Exponentiation=x**y\n",
    "print(f\"Exponentiation:{x}**{y}={Exponentiation}\")\n",
    "print(Exponentiation)\n",
    "Floor_division=x // y\n",
    "print(f\"Floor division:{x} // {y}={Floor_division}\")\n",
    "print(Floor_division)"
   ]
  },
  {
   "cell_type": "raw",
   "id": "b006d5fa-da93-4050-bdec-9451f1ff713d",
   "metadata": {},
   "source": [
    "# 2.  Python Assignment Operators\n",
    "\n",
    "\n",
    "#  Assignment operators are used to assign values to variables:\n",
    "#   Operator\tExample\t   Same As\n",
    "#   =\t         x = 5\t   x = 5\n",
    "#   +=\t       x += 3\t   x = x + 3\n",
    "#   -=\t       x -= 3\t   x = x - 3\n",
    "#   *=\t       x *= 3\t   x = x * 3\n",
    "#   /=\t       x /= 3\t   x = x / 3\n",
    "#   %=\t       x %= 3\t   x = x % 3\n",
    "#   //=\t       x //= 3\t   x = x // 3\n",
    "#   **=\t       x **= 3\t   x = x ** 3\n",
    "#   &=\t       x &= 3\t   x = x & 3\n",
    "#   |=\t       x |= 3\t   x = x | 3\n",
    "#   ^=\t       x ^= 3\t   x = x ^ 3\n",
    "#   >>=\t       x >>= 3\t   x = x >> 3\n",
    "#   <<=\t       x <<= 3\t   x = x << 3\n",
    "#   :=\t       print(x := 3)\tx = 3\n",
    "#                            print(x)"
   ]
  },
  {
   "cell_type": "code",
   "execution_count": 204,
   "id": "285c2139-3249-45b4-9245-7327aab11c69",
   "metadata": {},
   "outputs": [
    {
     "name": "stdout",
     "output_type": "stream",
     "text": [
      "5\n"
     ]
    }
   ],
   "source": [
    "x=5\n",
    "print(x)"
   ]
  },
  {
   "cell_type": "code",
   "execution_count": 205,
   "id": "cc4207d7-f20d-4232-a6ec-fcd4bd8d03d2",
   "metadata": {},
   "outputs": [
    {
     "name": "stdout",
     "output_type": "stream",
     "text": [
      "8\n"
     ]
    }
   ],
   "source": [
    "x=5+3\n",
    "print(x)"
   ]
  },
  {
   "cell_type": "code",
   "execution_count": 206,
   "id": "eee8f897-8b1b-4311-9261-3bcd5ec49a13",
   "metadata": {},
   "outputs": [
    {
     "name": "stdout",
     "output_type": "stream",
     "text": [
      "5\n"
     ]
    }
   ],
   "source": [
    "x=8-3\n",
    "print(x)"
   ]
  },
  {
   "cell_type": "code",
   "execution_count": 207,
   "id": "13047d3d-685e-4964-8405-7fb3b6482dcd",
   "metadata": {},
   "outputs": [
    {
     "name": "stdout",
     "output_type": "stream",
     "text": [
      "15\n"
     ]
    }
   ],
   "source": [
    "x=5*3\n",
    "print(x)"
   ]
  },
  {
   "cell_type": "code",
   "execution_count": 208,
   "id": "12184967-a218-4ce8-9e77-4085faeda423",
   "metadata": {},
   "outputs": [
    {
     "name": "stdout",
     "output_type": "stream",
     "text": [
      "5.0\n"
     ]
    }
   ],
   "source": [
    "x=15/3\n",
    "print(x)"
   ]
  },
  {
   "cell_type": "code",
   "execution_count": 209,
   "id": "77edad83-dfa3-450b-84b5-e60b7d60f014",
   "metadata": {},
   "outputs": [
    {
     "name": "stdout",
     "output_type": "stream",
     "text": [
      "2.0\n"
     ]
    }
   ],
   "source": [
    "x=5.0%3\n",
    "print(x)"
   ]
  },
  {
   "cell_type": "code",
   "execution_count": 210,
   "id": "8089e04e-5296-42e4-948f-b7fcfb84fe05",
   "metadata": {},
   "outputs": [
    {
     "name": "stdout",
     "output_type": "stream",
     "text": [
      "8.0\n"
     ]
    }
   ],
   "source": [
    "x=2.0**3\n",
    "print(x)"
   ]
  },
  {
   "cell_type": "code",
   "execution_count": 211,
   "id": "547f944b-5bf3-4dea-a35a-be868d7ab80d",
   "metadata": {},
   "outputs": [
    {
     "name": "stdout",
     "output_type": "stream",
     "text": [
      "2.0\n"
     ]
    }
   ],
   "source": [
    "x=8.0//3\n",
    "print(x)\n"
   ]
  },
  {
   "cell_type": "code",
   "execution_count": 212,
   "id": "9386bf84-8212-4d3f-b89a-1485d70d29d4",
   "metadata": {},
   "outputs": [
    {
     "name": "stdout",
     "output_type": "stream",
     "text": [
      "2\n"
     ]
    },
    {
     "data": {
      "text/plain": [
       "'0b10'"
      ]
     },
     "execution_count": 212,
     "metadata": {},
     "output_type": "execute_result"
    }
   ],
   "source": [
    "x=2&3\n",
    "print(x)\n",
    "bin(x)"
   ]
  },
  {
   "cell_type": "code",
   "execution_count": 213,
   "id": "a362f099-baea-40b8-bfa0-7e64020d0091",
   "metadata": {},
   "outputs": [
    {
     "name": "stdout",
     "output_type": "stream",
     "text": [
      "3\n"
     ]
    },
    {
     "data": {
      "text/plain": [
       "'0b11'"
      ]
     },
     "execution_count": 213,
     "metadata": {},
     "output_type": "execute_result"
    }
   ],
   "source": [
    "x=2|3\n",
    "print(x)\n",
    "bin(x)"
   ]
  },
  {
   "cell_type": "code",
   "execution_count": 214,
   "id": "51290743-812c-4f92-8321-57feb376da2c",
   "metadata": {},
   "outputs": [
    {
     "name": "stdout",
     "output_type": "stream",
     "text": [
      "0\n"
     ]
    },
    {
     "data": {
      "text/plain": [
       "'0b0'"
      ]
     },
     "execution_count": 214,
     "metadata": {},
     "output_type": "execute_result"
    }
   ],
   "source": [
    "x=3>>3\n",
    "print(x)\n",
    "bin(x)"
   ]
  },
  {
   "cell_type": "code",
   "execution_count": 215,
   "id": "52d3fb7c-3337-45fa-9b92-5999cf1f3bf6",
   "metadata": {},
   "outputs": [
    {
     "name": "stdout",
     "output_type": "stream",
     "text": [
      "0\n"
     ]
    },
    {
     "data": {
      "text/plain": [
       "'0b0'"
      ]
     },
     "execution_count": 215,
     "metadata": {},
     "output_type": "execute_result"
    }
   ],
   "source": [
    "x=0<<3\n",
    "print(x)\n",
    "bin(x)"
   ]
  },
  {
   "cell_type": "code",
   "execution_count": 216,
   "id": "08de7319-558e-4eb6-a4eb-11aa018fdd50",
   "metadata": {},
   "outputs": [
    {
     "name": "stdout",
     "output_type": "stream",
     "text": [
      "4\n"
     ]
    },
    {
     "data": {
      "text/plain": [
       "'0b100'"
      ]
     },
     "execution_count": 216,
     "metadata": {},
     "output_type": "execute_result"
    }
   ],
   "source": [
    "a =5  #0101\n",
    "b =6  #0110\n",
    "\n",
    "c =a & b  #0100\n",
    "\n",
    "print(c)\n",
    "bin(c)"
   ]
  },
  {
   "cell_type": "raw",
   "id": "7d770aa4-b36f-43de-9b2d-234f5bb044ba",
   "metadata": {},
   "source": [
    "# 3.  Python Comparison Operators\n",
    "Comparison operators are used to compare two values:\n",
    "\n",
    "Operator\tName\t      Example\n",
    "==\t      Equal\t      x == y  # x=5 , y=7 -->False\n",
    "!=\t     Not equal\t  x != y\t#x=5 , y=5 -->False   <>\n",
    ">\t      Greater than\tx > y\t#x=5, y=3  --> True\n",
    "<\t      Less than\t    x < y\t#x=5 , y= 3--> False\n",
    ">=\t   Greater than or equal to\t x >= y\t #x=5, y=5 -->True\n",
    "<=\t  Less than or equal to\t  x <= y    # x=5, y=3 -->False"
   ]
  },
  {
   "cell_type": "code",
   "execution_count": 1,
   "id": "406682ce-fc85-4f75-868b-1182a4e58d44",
   "metadata": {},
   "outputs": [
    {
     "name": "stdout",
     "output_type": "stream",
     "text": [
      "False\n",
      "True\n",
      "False\n",
      "True\n",
      "False\n",
      "True\n"
     ]
    }
   ],
   "source": [
    "x = 15\n",
    "y = 20\n",
    "\n",
    "print(x==y)\n",
    "print(x!=y)\n",
    "print(x>y)\n",
    "print(x<y)\n",
    "print(x>=y)\n",
    "print(x<=y)\n",
    "\n",
    "\n",
    "\n"
   ]
  },
  {
   "cell_type": "code",
   "execution_count": 218,
   "id": "24cd39c5-a409-4d51-af93-420a50086bf6",
   "metadata": {},
   "outputs": [
    {
     "name": "stdout",
     "output_type": "stream",
     "text": [
      "True\n",
      "False\n",
      "False\n",
      "False\n",
      "True\n",
      "True\n"
     ]
    }
   ],
   "source": [
    "x = 15\n",
    "y = 15\n",
    "\n",
    "print(x==y)\n",
    "print(x!=y)\n",
    "print(x>y)\n",
    "print(x<y)\n",
    "print(x>=y)\n",
    "print(x<=y)"
   ]
  },
  {
   "cell_type": "code",
   "execution_count": 219,
   "id": "8884102b-f8c6-4d90-848c-0914cc536cb8",
   "metadata": {},
   "outputs": [
    {
     "name": "stdout",
     "output_type": "stream",
     "text": [
      "False\n",
      "True\n",
      "True\n",
      "False\n",
      "True\n",
      "False\n"
     ]
    }
   ],
   "source": [
    "x = 20\n",
    "y = 15\n",
    "\n",
    "print(x==y)\n",
    "print(x!=y)\n",
    "print(x>y)\n",
    "print(x<y)\n",
    "print(x>=y)\n",
    "print(x<=y)"
   ]
  },
  {
   "cell_type": "raw",
   "id": "faa097e9-19d1-46f5-81f9-080a99c8240d",
   "metadata": {},
   "source": [
    "# 4.  Python Logical Operators\n",
    "Logical operators are used to combine conditional statements:\n",
    "Operator\tDescription\t                                    #Example\n",
    "- and \t    Returns True if both statements are true\t    x < 5 and  x < 10    #x=4  -->True\n",
    "- or\t        Returns True if one of the statements is true,\tx < 5 or x < 4  #x = 4\n",
    "- not\t        Reverse the result, returns False if the result is true\tnot(x < 5 and x < 10)"
   ]
  },
  {
   "cell_type": "code",
   "execution_count": 220,
   "id": "5965e09a-658a-4fc1-9388-11d12476c27f",
   "metadata": {},
   "outputs": [
    {
     "name": "stdout",
     "output_type": "stream",
     "text": [
      "True\n",
      "False\n",
      "True\n",
      "True\n",
      "False\n"
     ]
    }
   ],
   "source": [
    "#and , #  Returns True if both statements are true\n",
    "\n",
    "#or   if any one staisfy both statements are true \n",
    "\n",
    "#e.g:\n",
    "\n",
    "a = 5\n",
    "b = 10\n",
    "\n",
    "print(a > 2 and b < 15)\n",
    "print(a > 2 and b < 8)\n",
    "\n",
    "print(a > 2 or b < 15)\n",
    "print(a > 2 or b < 8)\n",
    "\n",
    "print(not(a > 2 or b < 8))"
   ]
  },
  {
   "cell_type": "code",
   "execution_count": 221,
   "id": "48a6cc0f-dca9-4431-b93a-f3c5ca3b9bb4",
   "metadata": {},
   "outputs": [
    {
     "name": "stdout",
     "output_type": "stream",
     "text": [
      "True\n",
      "False\n",
      "True\n",
      "False\n"
     ]
    }
   ],
   "source": [
    "x=100\n",
    "y=200\n",
    "print(x>50 and y<201)\n",
    "print(x>10 and y<10)\n",
    "\n",
    "print(x>1  or y< 150)\n",
    "print(x>100 or y<200)\n",
    "\n",
    "\n"
   ]
  },
  {
   "cell_type": "code",
   "execution_count": null,
   "id": "ecd216f8-ba34-441c-8be0-16d10f8d889b",
   "metadata": {},
   "outputs": [],
   "source": []
  },
  {
   "cell_type": "code",
   "execution_count": 222,
   "id": "31e6582d-31ff-498c-8d05-6fd6303673c8",
   "metadata": {},
   "outputs": [
    {
     "name": "stdout",
     "output_type": "stream",
     "text": [
      "False\n",
      "True\n"
     ]
    }
   ],
   "source": [
    "#not\tReverse the result, returns False if the result is true\tnot\n",
    "#e.g:\n",
    "\n",
    "a = 5\n",
    "b = 10\n",
    "\n",
    "print(not (a > 2))  #False\n",
    "print(not (a > 6))  #True\n"
   ]
  },
  {
   "cell_type": "code",
   "execution_count": 223,
   "id": "6847724f-2c85-4ac9-ac7d-fac45598381c",
   "metadata": {},
   "outputs": [
    {
     "name": "stdout",
     "output_type": "stream",
     "text": [
      "False\n",
      "True\n"
     ]
    }
   ],
   "source": [
    "print(not(a<20))\n",
    "print(not(b>150))"
   ]
  },
  {
   "cell_type": "code",
   "execution_count": null,
   "id": "3c136b25-980d-4718-a2a9-75ffaafbc9e9",
   "metadata": {},
   "outputs": [],
   "source": []
  },
  {
   "cell_type": "raw",
   "id": "255c6cd5-33ac-4223-8ca7-e445724095b1",
   "metadata": {},
   "source": [
    "# Python Identity Operators\n",
    "Identity operators are used to compare the objects, not if they are equal, but if they are actually the same object, with the same memory location:\n",
    "\n",
    "Operator  Description\t                                                                    Example\n",
    "- is \t      Returns True if both variables are the same object  memory\t                x is y\n",
    "- is not\t  Returns True if both variables are not the same object memory\t            x is not y"
   ]
  },
  {
   "cell_type": "code",
   "execution_count": 224,
   "id": "4b5519f7-e927-4c55-9ca0-d35b59bcae54",
   "metadata": {},
   "outputs": [
    {
     "name": "stdout",
     "output_type": "stream",
     "text": [
      "True\n",
      "False\n",
      "False\n"
     ]
    }
   ],
   "source": [
    "a = [1, 2, 3]   #object memory location 1\n",
    "b = a           # 1\n",
    "c = [1, 2, 3]   #Object memory location  2\n",
    "d = c           #2\n",
    "print(a is b)    #  True\n",
    "print(a is c)    #False\n",
    "print(c is not d)  #False"
   ]
  },
  {
   "cell_type": "code",
   "execution_count": 225,
   "id": "7e431c01-7c40-4e09-b4be-0f87b7f2e3f4",
   "metadata": {},
   "outputs": [
    {
     "name": "stdout",
     "output_type": "stream",
     "text": [
      "False\n",
      "True\n"
     ]
    }
   ],
   "source": [
    "#is not\t  Returns True if both variables are not the same object in the memory\n",
    "#e.g:\n",
    "\n",
    "a = [1, 2, 3]   #1\n",
    "b = a           #1 memory location\n",
    "c = [1, 2, 3]   #2 memory location\n",
    "\n",
    "print(a is not b)  #FAlse\n",
    "print(a is not c)  #True"
   ]
  },
  {
   "cell_type": "code",
   "execution_count": 226,
   "id": "ea709df6-57cb-41d4-856b-928de00bf625",
   "metadata": {},
   "outputs": [
    {
     "name": "stdout",
     "output_type": "stream",
     "text": [
      "True\n",
      "False\n"
     ]
    }
   ],
   "source": [
    "#cached Range in python(-5 to 256)\n",
    "x = 10    #1 1 byte\n",
    "y = 10    #\n",
    "z = 10   #1\n",
    "b = 157   #2 1 byte\n",
    "h = 157  #\n",
    "z =157   #2\n",
    "j = -4  #3\n",
    "i=-4    #3\n",
    "\n",
    "u = 258   #4\n",
    "i = 258   #5\n",
    "\n",
    "print(b is h)\n",
    "\n",
    "a = 257  #1\n",
    "d = 257  #2\n",
    "\n",
    "\n",
    "print(a is b)\n"
   ]
  },
  {
   "cell_type": "raw",
   "id": "49c34a3b-16be-46eb-9b29-e02251549315",
   "metadata": {},
   "source": [
    "# 6.   Membership Operators\n",
    "Membership operators are used to test if a sequence is presented in an object (such as a string, list, tuple, set, or dictionary).\n",
    "\n",
    "Operator Description #Example\n",
    "\n",
    "1.in Returns True if a sequence with the specified value is present in the object x in y\n",
    "2.not in Returns True if a sequence with the specified value is not present in the object x not in y"
   ]
  },
  {
   "cell_type": "code",
   "execution_count": 227,
   "id": "987d93f0-ac41-4ef3-a9b9-254473d50566",
   "metadata": {},
   "outputs": [
    {
     "name": "stdout",
     "output_type": "stream",
     "text": [
      "True\n",
      "False\n"
     ]
    }
   ],
   "source": [
    "#in \tReturns True if a sequence with the specified value is present in the object\n",
    "#Example 1: Checking Membership in a List\n",
    "\n",
    "fruits = ['apple', 'banana', 'cherry']\n",
    "print('banana' in fruits)   #True\n",
    "print('grape' in fruits)    #False"
   ]
  },
  {
   "cell_type": "code",
   "execution_count": 228,
   "id": "780551ac-69fb-4407-a419-42ee895a877b",
   "metadata": {},
   "outputs": [
    {
     "name": "stdout",
     "output_type": "stream",
     "text": [
      "True\n",
      "False\n"
     ]
    }
   ],
   "source": [
    "#Example 2: Checking Membership in a String\n",
    "\n",
    "text = \"Hello, world!\"\n",
    "print('H' in text)\n",
    "print('hello' in text)\n"
   ]
  },
  {
   "cell_type": "code",
   "execution_count": 229,
   "id": "42fa4eee-e633-4825-a425-5b85f0a82e97",
   "metadata": {},
   "outputs": [
    {
     "name": "stdout",
     "output_type": "stream",
     "text": [
      "True\n",
      "False\n",
      "True\n"
     ]
    }
   ],
   "source": [
    "#Example 3: Checking Membership in a Dictionary\n",
    "\n",
    "person = {'name': 'Alice', 'age': 25}\n",
    "print('name' in person)  # Output: True\n",
    "print('Alice' in person) # Output: False\n",
    "print('age' in person)"
   ]
  },
  {
   "cell_type": "code",
   "execution_count": 230,
   "id": "a1de180d-3b33-4743-be35-73b0515a25a8",
   "metadata": {},
   "outputs": [
    {
     "name": "stdout",
     "output_type": "stream",
     "text": [
      "True\n",
      "False\n"
     ]
    }
   ],
   "source": [
    "#The not in operator returns True if the specified value is not found in the sequence, otherwise it returns False.\n",
    "#Example 1: Checking Non-Membership in a List\n",
    "\n",
    "fruits = ['apple', 'banana', 'cherry']\n",
    "print('grape' not in fruits)  # Output: True\n",
    "print('banana' not in fruits) # Output: False"
   ]
  },
  {
   "cell_type": "raw",
   "id": "5e392422-fb29-4bb4-b24f-ff179ffaea70",
   "metadata": {},
   "source": [
    "#7.   Bitwise Operators\n",
    "Bitwise operators are used to compare (binary) numbers:\n",
    "\n",
    "Operators Operations & AND l OR ^ XOR ~ NOT << Zero fill left shift\n",
    "\n",
    "Signed right shift"
   ]
  },
  {
   "cell_type": "code",
   "execution_count": 231,
   "id": "114e7da7-8e33-4fcf-b346-edb07c9eb9dd",
   "metadata": {},
   "outputs": [
    {
     "name": "stdout",
     "output_type": "stream",
     "text": [
      "5\n"
     ]
    }
   ],
   "source": [
    "my_dict = {'a': 2, 'b': 3, 'a': 5}\n",
    "print(my_dict['a'])"
   ]
  },
  {
   "cell_type": "raw",
   "id": "522f2726-9baa-412b-8979-b24355eecab3",
   "metadata": {},
   "source": [
    "# 1. AND (&)\n",
    "It compares each bit of two numbers and Sets each bit to 1 if both bits are 1.\n"
   ]
  },
  {
   "cell_type": "code",
   "execution_count": 232,
   "id": "1a21b4c6-a2db-4876-bb6b-41f80c70cbe1",
   "metadata": {},
   "outputs": [
    {
     "name": "stdout",
     "output_type": "stream",
     "text": [
      "1\n",
      "0b101\n"
     ]
    }
   ],
   "source": [
    "a = 5          # 0 1 0 1\n",
    "b = 3          # 0 0 1 1\n",
    "result = a & b # 0 0 0 1\n",
    "print(result)\n",
    "print(bin(5))"
   ]
  },
  {
   "cell_type": "code",
   "execution_count": 233,
   "id": "e59c3d3c-d5bc-4855-a0ab-c28cf6fee15e",
   "metadata": {},
   "outputs": [
    {
     "data": {
      "text/plain": [
       "1"
      ]
     },
     "execution_count": 233,
     "metadata": {},
     "output_type": "execute_result"
    }
   ],
   "source": [
    "b=int('0001', 2)\n",
    "b\n"
   ]
  },
  {
   "cell_type": "code",
   "execution_count": 1,
   "id": "ae2a807e-0191-48a7-8ff9-b3c0c123c0e8",
   "metadata": {},
   "outputs": [
    {
     "name": "stdout",
     "output_type": "stream",
     "text": [
      "8\n",
      "1.2\n",
      "6\n",
      "-11\n",
      "-13\n",
      "12288\n",
      "0\n"
     ]
    }
   ],
   "source": [
    "a = 12  # 1100\n",
    "b = 10  # 1010\n",
    "\n",
    "#  &, |, ^, ~, <<, >>\n",
    "\n",
    "\n",
    "result = a & b \n",
    "print(result)\n",
    "result = a / b  \n",
    "print(result)\n",
    "result = a ^ b  \n",
    "print(result)\n",
    "result =  ~ b  \n",
    "print(result)\n",
    "result =  ~ a  \n",
    "print(result)\n",
    "result = a << b  \n",
    "print(result)\n",
    "result = a >> b  \n",
    "print(result)\n",
    "\n",
    "\n",
    "\n",
    "\n"
   ]
  },
  {
   "cell_type": "code",
   "execution_count": null,
   "id": "0c029fe2-312e-495c-9fe3-f32d8e9038c2",
   "metadata": {},
   "outputs": [],
   "source": []
  },
  {
   "cell_type": "raw",
   "id": "e6029437-a222-4ece-b0d5-48d5f5915dd3",
   "metadata": {},
   "source": [
    "OR (|):\n",
    "Sets each bit to 1 if one of two bits is 1."
   ]
  },
  {
   "cell_type": "code",
   "execution_count": null,
   "id": "170baccd-7abc-4624-8875-40eff6eb97cc",
   "metadata": {},
   "outputs": [],
   "source": []
  },
  {
   "cell_type": "code",
   "execution_count": 235,
   "id": "d5237a3b-513f-47fd-bf2e-26688961a1ae",
   "metadata": {},
   "outputs": [
    {
     "name": "stdout",
     "output_type": "stream",
     "text": [
      "7\n"
     ]
    }
   ],
   "source": [
    "a = 5   # 0101\n",
    "b = 3   # 0011\n",
    "result = a | b  # 0111\n",
    "print(result)"
   ]
  },
  {
   "cell_type": "raw",
   "id": "c9acb306-2185-48a1-afde-d386b2a7370e",
   "metadata": {},
   "source": [
    "XOR (^):\n",
    "Sets each bit to 1 if only one of two bits is 1."
   ]
  },
  {
   "cell_type": "code",
   "execution_count": 236,
   "id": "215a5a24-0ee0-4c01-abe6-4ea716ae6b5a",
   "metadata": {},
   "outputs": [
    {
     "name": "stdout",
     "output_type": "stream",
     "text": [
      "6\n"
     ]
    }
   ],
   "source": [
    "a = 5   # 0101\n",
    "b = 3   # 0011\n",
    "result = a ^ b  # 0110\n",
    "print(result)\n"
   ]
  },
  {
   "cell_type": "raw",
   "id": "4a775bff-daec-466b-bc19-a3210ba9a217",
   "metadata": {},
   "source": [
    "NOT (~):\n",
    "Inverts all the bits."
   ]
  },
  {
   "cell_type": "code",
   "execution_count": 237,
   "id": "24c3601f-5843-4f85-9e74-03b1ea811c06",
   "metadata": {},
   "outputs": [
    {
     "name": "stdout",
     "output_type": "stream",
     "text": [
      "-6\n"
     ]
    }
   ],
   "source": [
    "a = 5  # 0101\n",
    "result = ~a  # 1010 (in 2's complement form, this is -6)\n",
    "print(result)"
   ]
  },
  {
   "cell_type": "raw",
   "id": "9f44bc37-ed9e-4ff1-8775-e3fdf6d6e5d1",
   "metadata": {},
   "source": [
    "Left Shift (<<):\n",
    "Shifts bits to the left, filling with zeros."
   ]
  },
  {
   "cell_type": "code",
   "execution_count": 238,
   "id": "f1405c76-6545-4de1-8b09-966cffe195c3",
   "metadata": {},
   "outputs": [
    {
     "name": "stdout",
     "output_type": "stream",
     "text": [
      "20\n"
     ]
    },
    {
     "data": {
      "text/plain": [
       "'10100'"
      ]
     },
     "execution_count": 238,
     "metadata": {},
     "output_type": "execute_result"
    }
   ],
   "source": [
    "a = 5  # 0101\n",
    "result = a << 2  # 1010\n",
    "print(result)\n",
    "bin(result)[2:]\n",
    "\n",
    "# 0101 << 10100"
   ]
  },
  {
   "cell_type": "code",
   "execution_count": 239,
   "id": "f595e9d1-97f0-4fdb-96a9-aa700277efce",
   "metadata": {},
   "outputs": [
    {
     "name": "stdout",
     "output_type": "stream",
     "text": [
      "84\n"
     ]
    },
    {
     "data": {
      "text/plain": [
       "'1010100'"
      ]
     },
     "execution_count": 239,
     "metadata": {},
     "output_type": "execute_result"
    }
   ],
   "source": [
    "b=21  #0101\n",
    "result=b<<2\n",
    "print(result)\n",
    "bin(result)[2:]"
   ]
  },
  {
   "cell_type": "code",
   "execution_count": 240,
   "id": "fb3652cb-e329-4c90-8acd-9526db5aa992",
   "metadata": {},
   "outputs": [
    {
     "name": "stdout",
     "output_type": "stream",
     "text": [
      "12\n"
     ]
    }
   ],
   "source": [
    "a = 3  # 0011\n",
    "result = a << 2  # 1100\n",
    "print(result)\n",
    "#0011 << 1100"
   ]
  },
  {
   "cell_type": "raw",
   "id": "ece000e1-1643-4b8f-a6ac-647cd22c1b77",
   "metadata": {},
   "source": [
    "Right Shift (>>):\n",
    "Shifts bits to the right, filling with the zeros (for unsigned types)."
   ]
  },
  {
   "cell_type": "code",
   "execution_count": 241,
   "id": "1ab7d6e2-6a9a-4948-8ed6-7ed71bf54b69",
   "metadata": {},
   "outputs": [
    {
     "name": "stdout",
     "output_type": "stream",
     "text": [
      "1\n"
     ]
    }
   ],
   "source": [
    "a = 5  # 0101\n",
    "result = a >> 2  # 0001\n",
    "print(result)"
   ]
  },
  {
   "cell_type": "code",
   "execution_count": 242,
   "id": "d1c71226-47e2-4e05-af5f-1559fd4267da",
   "metadata": {},
   "outputs": [
    {
     "name": "stdout",
     "output_type": "stream",
     "text": [
      "0\n"
     ]
    },
    {
     "data": {
      "text/plain": [
       "'0b0'"
      ]
     },
     "execution_count": 242,
     "metadata": {},
     "output_type": "execute_result"
    }
   ],
   "source": [
    "a = 2 # 0b0010\n",
    "result = a >> 2\n",
    "print(result)\n",
    "bin(result)\n"
   ]
  },
  {
   "cell_type": "raw",
   "id": "69d6e8ca-e5d5-4080-8970-b43f776e7081",
   "metadata": {},
   "source": [
    "How to convert Numbers into Binary:"
   ]
  },
  {
   "cell_type": "code",
   "execution_count": 243,
   "id": "6e769a9e-62f2-49cd-96f8-6a283da191ac",
   "metadata": {},
   "outputs": [
    {
     "data": {
      "text/plain": [
       "'0b10100'"
      ]
     },
     "execution_count": 243,
     "metadata": {},
     "output_type": "execute_result"
    }
   ],
   "source": [
    "bin(20)"
   ]
  },
  {
   "cell_type": "code",
   "execution_count": 244,
   "id": "8d9536e9-d9cf-4441-81a5-dca91df3b960",
   "metadata": {},
   "outputs": [
    {
     "name": "stdout",
     "output_type": "stream",
     "text": [
      "11001\n"
     ]
    }
   ],
   "source": [
    "#To convert Numbers into Binary :\n",
    "\n",
    "#bin()\n",
    "\n",
    "a = 25\n",
    "bin(a)\n",
    "\n",
    "print(bin(a)[2:])"
   ]
  },
  {
   "cell_type": "code",
   "execution_count": 245,
   "id": "86b60d93-4353-43f4-aa02-0d1287b6a7bf",
   "metadata": {},
   "outputs": [
    {
     "name": "stdout",
     "output_type": "stream",
     "text": [
      "1010010\n"
     ]
    }
   ],
   "source": [
    "b = 82\n",
    "bin(b)[2:0]\n",
    "print(bin(b)[2:])"
   ]
  },
  {
   "cell_type": "code",
   "execution_count": 246,
   "id": "0ad9a268-0142-40ed-9258-3b6c934a674e",
   "metadata": {},
   "outputs": [
    {
     "name": "stdout",
     "output_type": "stream",
     "text": [
      "\n",
      "Binary of 82 is None\n"
     ]
    }
   ],
   "source": [
    "print(f\"Binary of {b} is {print(bin(b)[2:0])}\")"
   ]
  },
  {
   "cell_type": "code",
   "execution_count": 247,
   "id": "a01333fe-a3fd-4c75-9e11-d7df6df49b4c",
   "metadata": {},
   "outputs": [
    {
     "name": "stdout",
     "output_type": "stream",
     "text": [
      "71\n"
     ]
    }
   ],
   "source": [
    "# convert 1 0 0 0 1 1 1 into decimal\n",
    "\n",
    "b =int('1000111',2)\n",
    "print(b)"
   ]
  },
  {
   "cell_type": "code",
   "execution_count": null,
   "id": "5853a8c8-5e5e-46a5-92c8-147ce7b00626",
   "metadata": {},
   "outputs": [],
   "source": []
  },
  {
   "cell_type": "code",
   "execution_count": null,
   "id": "9d330a98-8590-481e-96a3-6c9a5c36919f",
   "metadata": {},
   "outputs": [],
   "source": []
  },
  {
   "cell_type": "code",
   "execution_count": 248,
   "id": "860bfd51-bdad-465b-855b-94d1d90e9953",
   "metadata": {},
   "outputs": [],
   "source": [
    "#Bitwise OR (|) Operation\n",
    "#  The bitwise OR operation compares each corresponding bit in the binary representation of two numbers. The result of each comparison is 1 if either of the bits is 1, and 0 only if both bits are 0.\n",
    "\n",
    "#  Here’s the truth table for a bitwise OR operation:\n",
    "\n",
    "#  Bit 1\tBit 2\tResult\n",
    "#   0\t 0 =\t0\n",
    "#   0\t 1 =  1\n",
    "#   1\t 0 =\t1\n",
    "#   1\t 1 =\t1\n",
    "#   In other words:\n",
    "\n",
    "#   1 | 0 results in 1.\n",
    "#   0 | 1 results in 1.\n",
    "#   1 | 1 results in 1.\n",
    "#   0 | 0 results in 0."
   ]
  },
  {
   "cell_type": "code",
   "execution_count": 249,
   "id": "9f5ba818-35cc-4949-a41f-5ea00ef78e25",
   "metadata": {},
   "outputs": [
    {
     "name": "stdout",
     "output_type": "stream",
     "text": [
      "15\n",
      "2\n"
     ]
    },
    {
     "data": {
      "text/plain": [
       "'0b10'"
      ]
     },
     "execution_count": 249,
     "metadata": {},
     "output_type": "execute_result"
    }
   ],
   "source": [
    "a = 7   #111\n",
    "a |=10  #1010\n",
    "\n",
    "print(a)\n",
    "bin(a)\n",
    "a = 7   #111\n",
    "a &=10  #1010\n",
    "\n",
    "print(a)\n",
    "bin(a)\n",
    "\n"
   ]
  },
  {
   "cell_type": "code",
   "execution_count": 250,
   "id": "f7fcd890-8c4f-4264-a90b-5e6592d70b82",
   "metadata": {},
   "outputs": [
    {
     "name": "stdout",
     "output_type": "stream",
     "text": [
      "20\n"
     ]
    },
    {
     "data": {
      "text/plain": [
       "'0b10100'"
      ]
     },
     "execution_count": 250,
     "metadata": {},
     "output_type": "execute_result"
    }
   ],
   "source": [
    "a=10\n",
    "a|=20\n",
    "a&=21\n",
    "print(a)\n",
    "bin(a)\n"
   ]
  },
  {
   "cell_type": "raw",
   "id": "dea93458-6858-4137-9661-5f6dec268015",
   "metadata": {
    "scrolled": true
   },
   "source": [
    "#  Understanding Bitwise XOR (^) Operation\n",
    "In a bitwise XOR operation, each bit in the LHS binary number is compared with the corresponding bit in the RHS binary number. The XOR operation will return 1 if the bits are different and 0 if the bits are the same.\n",
    "\n",
    "Here's the truth table for a bitwise XOR operation:\n",
    "\n",
    "Bit1\tBit2\tResult\n",
    "0\t     0\t  0\n",
    "0 \t   1\t  1\n",
    "1\t     0\t  1\n",
    "1\t     1\t  0\n",
    "So:\n",
    "\n",
    "1 ^ 0 results in 1\n",
    "0 ^ 1 results in 1\n",
    "1 ^ 1 results in 0\n",
    "0 ^ 0 results in 0"
   ]
  },
  {
   "cell_type": "code",
   "execution_count": null,
   "id": "c383be30-1a23-47b3-99f4-845191cb4896",
   "metadata": {},
   "outputs": [],
   "source": []
  },
  {
   "cell_type": "code",
   "execution_count": 251,
   "id": "609d9ede-79fd-4d87-9ff2-6f74cb7f4cf2",
   "metadata": {},
   "outputs": [
    {
     "name": "stdout",
     "output_type": "stream",
     "text": [
      "6\n"
     ]
    },
    {
     "data": {
      "text/plain": [
       "'0b110'"
      ]
     },
     "execution_count": 251,
     "metadata": {},
     "output_type": "execute_result"
    }
   ],
   "source": [
    "x = 5  # 0101\n",
    "x ^= 3  # 0011; Equivalent to x = x ^ 3\n",
    "print(x)\n",
    "bin(x)  # (0110)"
   ]
  },
  {
   "cell_type": "code",
   "execution_count": 252,
   "id": "cb3bc558-30a4-439f-8ae5-4e127f477d06",
   "metadata": {},
   "outputs": [
    {
     "name": "stdout",
     "output_type": "stream",
     "text": [
      "10\n"
     ]
    },
    {
     "data": {
      "text/plain": [
       "'0b1010'"
      ]
     },
     "execution_count": 252,
     "metadata": {},
     "output_type": "execute_result"
    }
   ],
   "source": [
    "a = 8\n",
    "a^=2\n",
    "print(a)\n",
    "bin(a)"
   ]
  },
  {
   "cell_type": "raw",
   "id": "b2f5901e-43c0-4e33-ba3b-0497d8fae682",
   "metadata": {},
   "source": [
    "#The >>= (right shift assignment)\n",
    "- operator shifts the bits of the left-hand side (LHS) variable to the right by the number of positions specified by the right-hand side (RHS) value, then updates the LHS variable with the shifted result.\n",
    "\n",
    "#How Right Shift Works\n",
    "- In a right shift, each bit in the binary representation of the number is moved to the right by the specified number of positions. The empty positions on the left are filled with 0s (for positive numbers), and the bits shifted out of the right end are discarded. Essentially, right-shifting by n bits divides the number by 2^n, discarding any remainder.\n",
    "\n",
    "#Truth Table Explanation\n",
    "- There isn't a truth table for the right shift operation in the same sense as for logical or bitwise operations. Instead, it’s helpful to see how each bit moves when we apply a right shift:\n",
    "\n",
    "- Example: Shifting x = 8 (binary 1000) to the Right by 1, 2, and 3 Positions\n",
    "- Operation\tBinary Before Shift\tShift Amount\tBinary After Shift\tDecimal - After Shift\n",
    "x >> 1\t1000\t1\t0100\t4\n",
    "x >> 2\t1000\t2\t0010\t2\n",
    "x >> 3\t1000\t3\t0001\t1"
   ]
  },
  {
   "cell_type": "code",
   "execution_count": 253,
   "id": "19182e0d-9be3-4a61-a875-43a429f59cc9",
   "metadata": {},
   "outputs": [
    {
     "name": "stdout",
     "output_type": "stream",
     "text": [
      "2\n"
     ]
    }
   ],
   "source": [
    "x = 8  # 1000\n",
    "x >>= 2  # Equivalent to x = x >> 2\n",
    "print(x)  # (0010)"
   ]
  },
  {
   "cell_type": "code",
   "execution_count": 254,
   "id": "3fa2486f-8099-48ad-9ceb-515d39f35883",
   "metadata": {},
   "outputs": [
    {
     "name": "stdout",
     "output_type": "stream",
     "text": [
      "0b1\n",
      "1\n"
     ]
    }
   ],
   "source": [
    "y =10 #1010\n",
    "\n",
    "y>>=3  #0001\n",
    "print(bin(y))\n",
    "print(y)"
   ]
  },
  {
   "cell_type": "code",
   "execution_count": 255,
   "id": "319eec47-401c-403f-b8ff-ff9e1760517a",
   "metadata": {},
   "outputs": [
    {
     "name": "stdout",
     "output_type": "stream",
     "text": [
      "4\n",
      "0b10000\n"
     ]
    },
    {
     "data": {
      "text/plain": [
       "'0b100'"
      ]
     },
     "execution_count": 255,
     "metadata": {},
     "output_type": "execute_result"
    }
   ],
   "source": [
    "x = 16  #10000\n",
    "\n",
    "x>>=2   #00100\n",
    "\n",
    "print(x)\n",
    "print(bin(16))\n",
    "bin(4)"
   ]
  },
  {
   "cell_type": "raw",
   "id": "53b5fe48-a007-40e0-89e8-e863d2fecae0",
   "metadata": {},
   "source": [
    "#The <<= (left shift assignment)\n",
    "- operator shifts the bits of the left-hand side (LHS) variable to the left by the number of positions specified by the right-hand side (RHS) value, then updates the LHS variable with the shifted result.\n",
    "\n",
    "# How Left Shift Works\n",
    "- In a left shift operation, each bit in the binary representation of a number is moved to the left by the specified number of positions. Empty positions on the right are filled with 0s, and the left shift effectively multiplies the number by 2^n, where n is the number of positions shifted.\n",
    "\n",
    "#Truth Table Explanation\n",
    "- Like the right shift, the left shift operation doesn’t have a traditional truth table. Instead, it is useful to look at how each bit moves when a left shift is applied.\n",
    "\n",
    "- Example: Shifting x = 3 (binary 0011) to the Left by 1, 2, and 3 Positions\n",
    "- Operation\tBinary Before Shift\tShift Amount\tBinary After Shift\tDecimal\n",
    " # After Shift\n",
    "x << 1\t0011\t1\t0110\t6\n",
    "x << 2\t0011\t2\t1100\t12\n",
    "x << 3\t0011\t3\t1000\t24"
   ]
  },
  {
   "cell_type": "code",
   "execution_count": 256,
   "id": "af22598c-7235-470e-a2b5-c633aefaa9cc",
   "metadata": {},
   "outputs": [
    {
     "name": "stdout",
     "output_type": "stream",
     "text": [
      "12\n",
      "3\n"
     ]
    }
   ],
   "source": [
    "# In each case, the bits are shifted left by the specified amount, and 0s are added to the right to fill in the positions.\n",
    "\n",
    "x = 3  # 0011\n",
    "x <<= 2  # Equivalent to x = x << 2\n",
    "print(x)  # (1100)\n",
    "x>>=2\n",
    "\n",
    "print(x)"
   ]
  },
  {
   "cell_type": "raw",
   "id": "6b701561-f21f-45c8-aee1-26a62c2ba8b9",
   "metadata": {},
   "source": [
    "#The := operator\n",
    "- known as the Walrus Operator or Assignment Expression, was introduced in Python 3.8. It allows assignment of a value to a variable as part of an expression, which can be useful for simplifying certain types of code, such as within if statements or while loops. The assignment expression evaluates to the assigned value, making it possible to use the value immediately in an expression.\n",
    "\n",
    "# Understanding the Walrus Operator\n",
    "- The Walrus Operator (:=) is different from traditional assignment (=) because it allows you to assign a value to a variable within an expression, without needing a separate line. This is especially useful in conditional expressions where you want to both assign a variable and check its value."
   ]
  },
  {
   "cell_type": "code",
   "execution_count": 257,
   "id": "c4b8d257-149c-409f-83e0-89e0d8717b4d",
   "metadata": {},
   "outputs": [
    {
     "name": "stdout",
     "output_type": "stream",
     "text": [
      "3\n",
      "3\n"
     ]
    }
   ],
   "source": [
    "print(x := 3)  # Assigns 3 to x and prints it\n",
    "print(x)"
   ]
  },
  {
   "cell_type": "code",
   "execution_count": null,
   "id": "3e0a4ab0-d50b-4d06-bfa2-e0eca74c0f7d",
   "metadata": {},
   "outputs": [],
   "source": []
  },
  {
   "cell_type": "raw",
   "id": "dc9684bc-e20e-4a27-b237-a310eea4a6d6",
   "metadata": {},
   "source": [
    "Math Module:"
   ]
  },
  {
   "cell_type": "code",
   "execution_count": 258,
   "id": "c3cd9164-52b7-4c65-9a34-03fc886221dc",
   "metadata": {},
   "outputs": [],
   "source": [
    "import math"
   ]
  },
  {
   "cell_type": "code",
   "execution_count": null,
   "id": "dc68773d-7c91-4e14-8b9e-37188475022a",
   "metadata": {},
   "outputs": [],
   "source": []
  },
  {
   "cell_type": "code",
   "execution_count": 259,
   "id": "ffaae17d-224f-4f30-8cb0-5fa9ac94d2ae",
   "metadata": {},
   "outputs": [
    {
     "data": {
      "text/plain": [
       "4"
      ]
     },
     "execution_count": 259,
     "metadata": {},
     "output_type": "execute_result"
    }
   ],
   "source": [
    "math.ceil(3.1)"
   ]
  },
  {
   "cell_type": "code",
   "execution_count": 260,
   "id": "a22b9387-fc29-41fb-a1d9-accb6bb51b19",
   "metadata": {},
   "outputs": [
    {
     "data": {
      "text/plain": [
       "2"
      ]
     },
     "execution_count": 260,
     "metadata": {},
     "output_type": "execute_result"
    }
   ],
   "source": [
    "math.floor(2.9)"
   ]
  },
  {
   "cell_type": "code",
   "execution_count": 261,
   "id": "bbbbfccb-c7cd-4161-84b2-a92f476b6e5c",
   "metadata": {},
   "outputs": [
    {
     "data": {
      "text/plain": [
       "2.0"
      ]
     },
     "execution_count": 261,
     "metadata": {},
     "output_type": "execute_result"
    }
   ],
   "source": [
    "math.sqrt(4)"
   ]
  },
  {
   "cell_type": "code",
   "execution_count": 262,
   "id": "d88930d5-707c-4406-8c96-3cd346066643",
   "metadata": {},
   "outputs": [
    {
     "data": {
      "text/plain": [
       "1.4142135623730951"
      ]
     },
     "execution_count": 262,
     "metadata": {},
     "output_type": "execute_result"
    }
   ],
   "source": [
    "math.pow(2,1/2)"
   ]
  },
  {
   "cell_type": "code",
   "execution_count": 263,
   "id": "724d33b6-cbf5-425f-8712-c2becd2bc9c1",
   "metadata": {},
   "outputs": [
    {
     "name": "stdout",
     "output_type": "stream",
     "text": [
      "16.0\n"
     ]
    }
   ],
   "source": [
    "print(math.pow(2,4))"
   ]
  },
  {
   "cell_type": "code",
   "execution_count": 264,
   "id": "21f50c9e-8bcd-4138-8418-48ceee4ad3c8",
   "metadata": {},
   "outputs": [
    {
     "name": "stdout",
     "output_type": "stream",
     "text": [
      "3\n"
     ]
    }
   ],
   "source": [
    "print(math.ceil(2.1))"
   ]
  },
  {
   "cell_type": "code",
   "execution_count": 265,
   "id": "9a3888b1-1b85-4064-bcfe-84ebdc79bd03",
   "metadata": {},
   "outputs": [
    {
     "data": {
      "text/plain": [
       "0.25"
      ]
     },
     "execution_count": 265,
     "metadata": {},
     "output_type": "execute_result"
    }
   ],
   "source": [
    "math.pow(2,-2)"
   ]
  },
  {
   "cell_type": "code",
   "execution_count": 266,
   "id": "a1f0bf56-2692-4e05-8565-3fd1595996f2",
   "metadata": {},
   "outputs": [
    {
     "data": {
      "text/plain": [
       "3.141592653589793"
      ]
     },
     "execution_count": 266,
     "metadata": {},
     "output_type": "execute_result"
    }
   ],
   "source": [
    "math.pi"
   ]
  },
  {
   "cell_type": "code",
   "execution_count": 267,
   "id": "fac2c796-3de1-4223-ad84-801989be8b02",
   "metadata": {},
   "outputs": [
    {
     "data": {
      "text/plain": [
       "2.718281828459045"
      ]
     },
     "execution_count": 267,
     "metadata": {},
     "output_type": "execute_result"
    }
   ],
   "source": [
    "math.e"
   ]
  },
  {
   "cell_type": "code",
   "execution_count": 268,
   "id": "17835c97-6855-4e92-a6db-2a30c26fc820",
   "metadata": {},
   "outputs": [
    {
     "data": {
      "text/plain": [
       "6.283185307179586"
      ]
     },
     "execution_count": 268,
     "metadata": {},
     "output_type": "execute_result"
    }
   ],
   "source": [
    "math.tau"
   ]
  },
  {
   "cell_type": "code",
   "execution_count": 269,
   "id": "dfc858f9-1ab2-4c93-a0fe-9fd404d0c47d",
   "metadata": {},
   "outputs": [
    {
     "data": {
      "text/plain": [
       "100"
      ]
     },
     "execution_count": 269,
     "metadata": {},
     "output_type": "execute_result"
    }
   ],
   "source": [
    "math.trunc(100.1)"
   ]
  },
  {
   "cell_type": "code",
   "execution_count": 270,
   "id": "e11c7534-7aa2-45ec-9999-925688149229",
   "metadata": {},
   "outputs": [
    {
     "data": {
      "text/plain": [
       "100"
      ]
     },
     "execution_count": 270,
     "metadata": {},
     "output_type": "execute_result"
    }
   ],
   "source": [
    "math.trunc(100.1)"
   ]
  },
  {
   "cell_type": "code",
   "execution_count": 271,
   "id": "04b28b2b-3de5-44ce-99f1-4d7db055c415",
   "metadata": {},
   "outputs": [
    {
     "data": {
      "text/plain": [
       "7.0"
      ]
     },
     "execution_count": 271,
     "metadata": {},
     "output_type": "execute_result"
    }
   ],
   "source": [
    "math.fabs(-7)"
   ]
  },
  {
   "cell_type": "code",
   "execution_count": 272,
   "id": "b27f67a1-2f25-4037-b6de-09fbc1059301",
   "metadata": {},
   "outputs": [
    {
     "data": {
      "text/plain": [
       "7.38905609893065"
      ]
     },
     "execution_count": 272,
     "metadata": {},
     "output_type": "execute_result"
    }
   ],
   "source": [
    "math.exp(2)    #e^x"
   ]
  },
  {
   "cell_type": "code",
   "execution_count": 273,
   "id": "b436ba50-3901-4d8e-89a5-b08b682fec06",
   "metadata": {},
   "outputs": [
    {
     "data": {
      "text/plain": [
       "3.0"
      ]
     },
     "execution_count": 273,
     "metadata": {},
     "output_type": "execute_result"
    }
   ],
   "source": [
    "#math.log(x, base)\n",
    "\n",
    "math.log(8,2)"
   ]
  },
  {
   "cell_type": "code",
   "execution_count": 274,
   "id": "a16c56dc-7798-4328-a448-13064360dd84",
   "metadata": {},
   "outputs": [
    {
     "data": {
      "text/plain": [
       "120"
      ]
     },
     "execution_count": 274,
     "metadata": {},
     "output_type": "execute_result"
    }
   ],
   "source": [
    "math.factorial(5)    #5*4*3*2*1"
   ]
  },
  {
   "cell_type": "code",
   "execution_count": 275,
   "id": "59f11cb2-33b9-4b07-b8af-ae560c615da0",
   "metadata": {},
   "outputs": [
    {
     "data": {
      "text/plain": [
       "40"
      ]
     },
     "execution_count": 275,
     "metadata": {},
     "output_type": "execute_result"
    }
   ],
   "source": [
    "math.gcd(40,80)   #greatest common divisor"
   ]
  },
  {
   "cell_type": "code",
   "execution_count": 276,
   "id": "21e064ca-0be0-4f64-8d8d-c250d2a712e2",
   "metadata": {},
   "outputs": [
    {
     "name": "stdout",
     "output_type": "stream",
     "text": [
      "False\n",
      "True\n"
     ]
    }
   ],
   "source": [
    "#is not\t  Returns True if both variables are not the same object in the memory\n",
    "#e.g:\n",
    "\n",
    "a = [1, 2, 3]   #1\n",
    "b = a           #1 memory location\n",
    "c = [1, 2, 3]   #2 memory location\n",
    "\n",
    "print(a is not b)  #FAlse\n",
    "print(a is not c)  #True"
   ]
  },
  {
   "cell_type": "code",
   "execution_count": 277,
   "id": "01aece3c-8046-443e-9d71-c7a5481abc29",
   "metadata": {},
   "outputs": [
    {
     "name": "stdout",
     "output_type": "stream",
     "text": [
      "True\n",
      "False\n"
     ]
    }
   ],
   "source": [
    "#cached Range in python(-5 to 256)\n",
    "x = 10    #1 1 byte\n",
    "y = 10    #\n",
    "z = 10   #1\n",
    "b = 157   #2 1 byte\n",
    "h = 157  #\n",
    "z =157   #2\n",
    "j = -4  #3\n",
    "i=-4    #3\n",
    "\n",
    "u = 258   #4\n",
    "i = 258   #5\n",
    "\n",
    "print(b is h)\n",
    "\n",
    "a = 257  #1\n",
    "d = 257  #2\n",
    "\n",
    "\n",
    "print(a is b)"
   ]
  },
  {
   "cell_type": "raw",
   "id": "d8698d4b-f36e-4359-8fa8-fabeacbba3f5",
   "metadata": {},
   "source": [
    "# Python Membership Operators\n",
    "Membership operators are used to test if a sequence is presented in an object (such as a string, list, tuple, set, or dictionary).\n",
    "\n",
    "Operator\tDescription\t                                                                    #Example\n",
    "- 1.in \t        Returns True if a sequence with the specified value is present in the object\t    x in y\n",
    "- 2.not in\t    Returns True if a sequence with the specified value is not present in the object\tx not in y"
   ]
  },
  {
   "cell_type": "code",
   "execution_count": 278,
   "id": "183c31ca-0896-49a1-8f28-108e3e72a8b5",
   "metadata": {},
   "outputs": [
    {
     "name": "stdout",
     "output_type": "stream",
     "text": [
      "True\n",
      "False\n"
     ]
    }
   ],
   "source": [
    "#in \tReturns True if a sequence with the specified value is present in the object\n",
    "#Example 1: Checking Membership in a List\n",
    "\n",
    "fruits = ['apple', 'banana', 'cherry']\n",
    "print('banana' in fruits)   #True\n",
    "print('grape' in fruits)    #False"
   ]
  },
  {
   "cell_type": "code",
   "execution_count": 279,
   "id": "1f470198-fc2c-48ce-9483-7a32978a0acc",
   "metadata": {},
   "outputs": [
    {
     "name": "stdout",
     "output_type": "stream",
     "text": [
      "True\n",
      "False\n"
     ]
    }
   ],
   "source": [
    "#Example 2: Checking Membership in a String\n",
    "\n",
    "text = \"Hello, world!\"\n",
    "print('H' in text)\n",
    "print('hello' in text)"
   ]
  },
  {
   "cell_type": "code",
   "execution_count": 280,
   "id": "f1c669fa-c2fa-414a-b281-c69177906f6e",
   "metadata": {},
   "outputs": [
    {
     "name": "stdout",
     "output_type": "stream",
     "text": [
      "True\n",
      "False\n",
      "True\n"
     ]
    }
   ],
   "source": [
    "#Example 3: Checking Membership in a Dictionary\n",
    "\n",
    "person = {'name': 'Alice', 'age': 25}\n",
    "print('name' in person)  # Output: True\n",
    "print('Alice' in person) # Output: False\n",
    "print('age' in person)"
   ]
  },
  {
   "cell_type": "code",
   "execution_count": 281,
   "id": "c85b1fd6-2d8a-4ec9-b723-a11a5df19f18",
   "metadata": {},
   "outputs": [
    {
     "name": "stdout",
     "output_type": "stream",
     "text": [
      "True\n",
      "False\n"
     ]
    }
   ],
   "source": [
    "#The not in operator returns True if the specified value is not found in the sequence, otherwise it returns False.\n",
    "#Example 1: Checking Non-Membership in a List\n",
    "\n",
    "fruits = ['apple', 'banana', 'cherry']\n",
    "print('grape' not in fruits)  # Output: True\n",
    "print('banana' not in fruits) # Output: False"
   ]
  },
  {
   "cell_type": "raw",
   "id": "cad315f3-1b9c-419f-bb9a-17d7c8e45e40",
   "metadata": {},
   "source": [
    "# Python Bitwise Operators\n",
    "Bitwise operators are used to compare (binary) numbers:\n",
    "\n",
    "Operators  Operations\n",
    "    &        AND\n",
    "    l        OR\n",
    "    ^\t     XOR\n",
    "    ~\t     NOT\n",
    "   <<\t Zero fill left shift\n",
    "   >>\t Signed right shift\n",
    "    "
   ]
  },
  {
   "cell_type": "code",
   "execution_count": 282,
   "id": "f4a91729-a37b-49df-8bb1-2ea518300ec4",
   "metadata": {},
   "outputs": [
    {
     "name": "stdout",
     "output_type": "stream",
     "text": [
      "5\n"
     ]
    }
   ],
   "source": [
    "my_dict = {'a': 2, 'b': 3, 'a': 5}\n",
    "print(my_dict['a'])"
   ]
  },
  {
   "cell_type": "code",
   "execution_count": 283,
   "id": "9b489960-3d70-4d1d-953a-03c1eaa80168",
   "metadata": {},
   "outputs": [
    {
     "name": "stdout",
     "output_type": "stream",
     "text": [
      "1\n",
      "0b101\n"
     ]
    }
   ],
   "source": [
    "# 1. AND (&)\n",
    "#It compares each bit of two numbers and Sets each bit to 1 if both bits are 1.\n",
    "\n",
    "\n",
    "a = 5          # 0 1 0 1\n",
    "b = 3          # 0 0 1 1\n",
    "result = a & b # 0 0 0 1\n",
    "print(result)\n",
    "print(bin(5))"
   ]
  },
  {
   "cell_type": "code",
   "execution_count": 284,
   "id": "c80e8740-8bc4-4ce1-8469-53b99cbd3eeb",
   "metadata": {},
   "outputs": [
    {
     "name": "stdout",
     "output_type": "stream",
     "text": [
      "6\n"
     ]
    }
   ],
   "source": [
    "b=int('0001', 2)\n",
    "b\n",
    "\n",
    "a = 12  # 1100\n",
    "b = 10  # 1010\n",
    "result = a ^ b  # 0110\n",
    "print(result)"
   ]
  },
  {
   "cell_type": "code",
   "execution_count": 285,
   "id": "b3e1eacc-51fb-4cb6-8f0c-77f6cdf65b43",
   "metadata": {},
   "outputs": [
    {
     "name": "stdout",
     "output_type": "stream",
     "text": [
      "7\n"
     ]
    }
   ],
   "source": [
    "#  &, |, ^, ~, <<, >>\n",
    "\n",
    "a = 5   # 0101\n",
    "b = 3   # 0011\n",
    "result = a | b  # 0111\n",
    "print(result)"
   ]
  },
  {
   "cell_type": "code",
   "execution_count": 286,
   "id": "f0120276-f93d-4fb5-a04b-79a2d7cc6e4b",
   "metadata": {},
   "outputs": [
    {
     "name": "stdout",
     "output_type": "stream",
     "text": [
      "6\n"
     ]
    }
   ],
   "source": [
    "# XOR (^):\n",
    "#Sets each bit to 1 if only one of two bits is 1.\n",
    "    \n",
    "    \n",
    "\n",
    "a = 5   # 0101\n",
    "b = 3   # 0011\n",
    "result = a ^ b  # 0110\n",
    "print(result)"
   ]
  },
  {
   "cell_type": "code",
   "execution_count": 287,
   "id": "60e18f87-25d5-4749-9af3-e18b67c54453",
   "metadata": {},
   "outputs": [
    {
     "name": "stdout",
     "output_type": "stream",
     "text": [
      "-6\n"
     ]
    }
   ],
   "source": [
    "# NOT (~):\n",
    "#Inverts all the bits.\n",
    "    \n",
    "\n",
    "a = 5  # 0101\n",
    "result = ~a  # 1010 (in 2's complement form, this is -6)\n",
    "print(result)"
   ]
  },
  {
   "cell_type": "code",
   "execution_count": 288,
   "id": "c330cf10-397f-426f-9780-6de2686d29e1",
   "metadata": {},
   "outputs": [
    {
     "name": "stdout",
     "output_type": "stream",
     "text": [
      "20\n"
     ]
    },
    {
     "data": {
      "text/plain": [
       "'10100'"
      ]
     },
     "execution_count": 288,
     "metadata": {},
     "output_type": "execute_result"
    }
   ],
   "source": [
    "a = 5  # 0101\n",
    "result = a << 2  # 1010\n",
    "print(result)\n",
    "bin(result)[2:]\n",
    "\n",
    "# 0101 << 10100"
   ]
  },
  {
   "cell_type": "code",
   "execution_count": 289,
   "id": "1b210ea2-e081-4515-8c9d-be9114f951ab",
   "metadata": {},
   "outputs": [
    {
     "name": "stdout",
     "output_type": "stream",
     "text": [
      "84\n"
     ]
    },
    {
     "data": {
      "text/plain": [
       "'1010100'"
      ]
     },
     "execution_count": 289,
     "metadata": {},
     "output_type": "execute_result"
    }
   ],
   "source": [
    "b=int('10101',2)\n",
    "b\n",
    "\n",
    "b=21  #0101\n",
    "result=b<<2\n",
    "print(result)\n",
    "bin(result)[2:]"
   ]
  },
  {
   "cell_type": "code",
   "execution_count": 290,
   "id": "f4a4d838-cc68-4abd-b4ad-e029b73f57dd",
   "metadata": {},
   "outputs": [
    {
     "name": "stdout",
     "output_type": "stream",
     "text": [
      "12\n"
     ]
    }
   ],
   "source": [
    "a = 3  # 0011\n",
    "result = a << 2  # 1100\n",
    "print(result)\n",
    "#0011 << 1100"
   ]
  },
  {
   "cell_type": "code",
   "execution_count": 291,
   "id": "532c77f4-4952-40ae-9e80-54bbccf09fd6",
   "metadata": {},
   "outputs": [
    {
     "name": "stdout",
     "output_type": "stream",
     "text": [
      "1\n"
     ]
    }
   ],
   "source": [
    "# Right Shift (>>):\n",
    "#  Shifts bits to the right, filling with the zeros (for unsigned types).\n",
    "\n",
    "\n",
    "\n",
    "a = 5  # 0101\n",
    "result = a >> 2  # 0001\n",
    "print(result)"
   ]
  },
  {
   "cell_type": "code",
   "execution_count": 292,
   "id": "b95f821c-a875-4bff-8178-3e63151f52f7",
   "metadata": {},
   "outputs": [
    {
     "name": "stdout",
     "output_type": "stream",
     "text": [
      "0\n"
     ]
    },
    {
     "data": {
      "text/plain": [
       "'0b0'"
      ]
     },
     "execution_count": 292,
     "metadata": {},
     "output_type": "execute_result"
    }
   ],
   "source": [
    "a = 2 # 0b0010\n",
    "result = a >> 2\n",
    "print(result)\n",
    "bin(result)"
   ]
  },
  {
   "cell_type": "code",
   "execution_count": 293,
   "id": "3aef1c43-1116-4cc8-ae5a-ff2ebc595d59",
   "metadata": {},
   "outputs": [],
   "source": [
    "# How to convert Numbers into Binary:"
   ]
  },
  {
   "cell_type": "code",
   "execution_count": 294,
   "id": "598e1445-de38-46f8-a4e6-eb870bf435d1",
   "metadata": {},
   "outputs": [
    {
     "name": "stdout",
     "output_type": "stream",
     "text": [
      "11001\n",
      "1010010\n"
     ]
    }
   ],
   "source": [
    "#To convert Numbers into Binary :\n",
    "#bin()\n",
    "\n",
    "a = 25\n",
    "bin(a)\n",
    "\n",
    "print(bin(a)[2:])\n",
    "\n",
    "\n",
    "\n",
    "b = 82\n",
    "bin(b)[2:0]\n",
    "print(bin(b)[2:])"
   ]
  },
  {
   "cell_type": "code",
   "execution_count": 295,
   "id": "e37f8675-c65b-4e9b-8c4f-331a79b8f5e0",
   "metadata": {},
   "outputs": [
    {
     "name": "stdout",
     "output_type": "stream",
     "text": [
      "82\n"
     ]
    }
   ],
   "source": [
    "#How to convert Binary into Decimals\n",
    "\n",
    "a = int('1010010' ,2)\n",
    "print(a)"
   ]
  },
  {
   "cell_type": "code",
   "execution_count": 296,
   "id": "e048a969-21e5-4f83-9d3a-439a75088ed4",
   "metadata": {},
   "outputs": [
    {
     "name": "stdout",
     "output_type": "stream",
     "text": [
      "71\n"
     ]
    }
   ],
   "source": [
    "# convert 1 0 0 0 1 1 1 into decimal\n",
    "\n",
    "b =int('1000111',2)\n",
    "print(b)"
   ]
  },
  {
   "cell_type": "code",
   "execution_count": 297,
   "id": "dfd9206b-c858-42fb-ae68-190fa9912315",
   "metadata": {},
   "outputs": [],
   "source": [
    "#Math Module"
   ]
  },
  {
   "cell_type": "markdown",
   "id": "35c820c2-5ac8-46fa-9e96-9273a54e1398",
   "metadata": {},
   "source": [
    "import math"
   ]
  },
  {
   "cell_type": "code",
   "execution_count": 298,
   "id": "be660e1a-70ed-42c4-b20b-ecfe1a689a21",
   "metadata": {},
   "outputs": [
    {
     "data": {
      "text/plain": [
       "4"
      ]
     },
     "execution_count": 298,
     "metadata": {},
     "output_type": "execute_result"
    }
   ],
   "source": [
    "math.ceil(3.1)"
   ]
  },
  {
   "cell_type": "code",
   "execution_count": 299,
   "id": "22834ee3-7852-4b9d-909d-e349b51a0fbd",
   "metadata": {
    "jupyter": {
     "source_hidden": true
    }
   },
   "outputs": [
    {
     "data": {
      "text/plain": [
       "2"
      ]
     },
     "execution_count": 299,
     "metadata": {},
     "output_type": "execute_result"
    }
   ],
   "source": [
    "math.floor(2.9)"
   ]
  },
  {
   "cell_type": "code",
   "execution_count": 300,
   "id": "e2595546-6b1d-4859-b9dd-32fa47d55b87",
   "metadata": {},
   "outputs": [
    {
     "data": {
      "text/plain": [
       "2.0"
      ]
     },
     "execution_count": 300,
     "metadata": {},
     "output_type": "execute_result"
    }
   ],
   "source": [
    "math.sqrt(4)"
   ]
  },
  {
   "cell_type": "code",
   "execution_count": 301,
   "id": "9396a680-aa3c-42b5-90d8-67bf7a4868b8",
   "metadata": {},
   "outputs": [
    {
     "data": {
      "text/plain": [
       "1.4142135623730951"
      ]
     },
     "execution_count": 301,
     "metadata": {},
     "output_type": "execute_result"
    }
   ],
   "source": [
    "math.pow(2,1/2)"
   ]
  },
  {
   "cell_type": "code",
   "execution_count": 302,
   "id": "9a5b5906-7c0b-4d3a-b2e2-b78c0b780477",
   "metadata": {},
   "outputs": [
    {
     "name": "stdout",
     "output_type": "stream",
     "text": [
      "16.0\n"
     ]
    }
   ],
   "source": [
    "print(math.pow(2,4))"
   ]
  },
  {
   "cell_type": "code",
   "execution_count": 303,
   "id": "1fccf3d1-bc81-438e-89d0-cc916dcb67d1",
   "metadata": {},
   "outputs": [
    {
     "name": "stdout",
     "output_type": "stream",
     "text": [
      "3\n"
     ]
    }
   ],
   "source": [
    "print(math.ceil(2.1))"
   ]
  },
  {
   "cell_type": "code",
   "execution_count": 304,
   "id": "1fac8197-7e69-48d3-9381-9997a6b99055",
   "metadata": {},
   "outputs": [
    {
     "data": {
      "text/plain": [
       "0.25"
      ]
     },
     "execution_count": 304,
     "metadata": {},
     "output_type": "execute_result"
    }
   ],
   "source": [
    "math.pow(2,-2)"
   ]
  },
  {
   "cell_type": "code",
   "execution_count": 305,
   "id": "30de52f7-4b0b-49a8-85c5-f17655b4aaff",
   "metadata": {},
   "outputs": [
    {
     "data": {
      "text/plain": [
       "3.141592653589793"
      ]
     },
     "execution_count": 305,
     "metadata": {},
     "output_type": "execute_result"
    }
   ],
   "source": [
    "math.pi"
   ]
  },
  {
   "cell_type": "code",
   "execution_count": 306,
   "id": "a6c15d00-c97b-444e-a527-67ec4d26effc",
   "metadata": {},
   "outputs": [
    {
     "data": {
      "text/plain": [
       "6.283185307179586"
      ]
     },
     "execution_count": 306,
     "metadata": {},
     "output_type": "execute_result"
    }
   ],
   "source": [
    "math.tau"
   ]
  },
  {
   "cell_type": "code",
   "execution_count": 307,
   "id": "797c0a63-bbfa-4735-93ee-8f985bd14bb7",
   "metadata": {},
   "outputs": [
    {
     "data": {
      "text/plain": [
       "7.0"
      ]
     },
     "execution_count": 307,
     "metadata": {},
     "output_type": "execute_result"
    }
   ],
   "source": [
    "math.fabs(-7)"
   ]
  },
  {
   "cell_type": "code",
   "execution_count": 308,
   "id": "4a1cc870-e286-4f47-9957-aa96337b7f60",
   "metadata": {},
   "outputs": [
    {
     "data": {
      "text/plain": [
       "7.38905609893065"
      ]
     },
     "execution_count": 308,
     "metadata": {},
     "output_type": "execute_result"
    }
   ],
   "source": [
    "math.exp(2)    #e^x"
   ]
  },
  {
   "cell_type": "code",
   "execution_count": 309,
   "id": "e9e257d9-4914-438f-a645-ea79765e615c",
   "metadata": {},
   "outputs": [
    {
     "data": {
      "text/plain": [
       "3.0"
      ]
     },
     "execution_count": 309,
     "metadata": {},
     "output_type": "execute_result"
    }
   ],
   "source": [
    "#math.log(x, base)\n",
    "\n",
    "math.log(8,2)"
   ]
  },
  {
   "cell_type": "code",
   "execution_count": 310,
   "id": "1b36d921-0183-4d4a-b372-33518b7bdfc4",
   "metadata": {},
   "outputs": [
    {
     "data": {
      "text/plain": [
       "120"
      ]
     },
     "execution_count": 310,
     "metadata": {},
     "output_type": "execute_result"
    }
   ],
   "source": [
    "math.factorial(5)    #5*4*3*2*1"
   ]
  },
  {
   "cell_type": "code",
   "execution_count": 311,
   "id": "425e2b1f-5668-4dbd-a876-423216dd1d1f",
   "metadata": {},
   "outputs": [
    {
     "data": {
      "text/plain": [
       "40"
      ]
     },
     "execution_count": 311,
     "metadata": {},
     "output_type": "execute_result"
    }
   ],
   "source": [
    "math.gcd(40,80)   #greatest common divisor"
   ]
  },
  {
   "cell_type": "code",
   "execution_count": null,
   "id": "aa5a36fb-11c2-4ba6-a530-edeb4b57288d",
   "metadata": {},
   "outputs": [],
   "source": []
  },
  {
   "cell_type": "code",
   "execution_count": null,
   "id": "d012427d-1d16-4e4e-ab0c-5a117128ffcc",
   "metadata": {},
   "outputs": [],
   "source": []
  }
 ],
 "metadata": {
  "kernelspec": {
   "display_name": "Python 3 (ipykernel)",
   "language": "python",
   "name": "python3"
  },
  "language_info": {
   "codemirror_mode": {
    "name": "ipython",
    "version": 3
   },
   "file_extension": ".py",
   "mimetype": "text/x-python",
   "name": "python",
   "nbconvert_exporter": "python",
   "pygments_lexer": "ipython3",
   "version": "3.12.7"
  }
 },
 "nbformat": 4,
 "nbformat_minor": 5
}
