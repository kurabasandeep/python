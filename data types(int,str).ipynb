{
 "cells": [
  {
   "cell_type": "code",
   "execution_count": 13,
   "id": "e340196e-92dc-4601-b6df-b62ffd1664e1",
   "metadata": {
    "jp-MarkdownHeadingCollapsed": true
   },
   "outputs": [
    {
     "name": "stdout",
     "output_type": "stream",
     "text": [
      "20\n",
      "15\n",
      "2\n"
     ]
    }
   ],
   "source": [
    "# data types\n",
    "\n",
    "x=20\n",
    "print(x)\n",
    "x=15\n",
    "print(x)\n",
    "x=2\n",
    "print(x)"
   ]
  },
  {
   "cell_type": "code",
   "execution_count": null,
   "id": "a48464e3-9b1b-40d2-8603-614f6b3c52db",
   "metadata": {},
   "outputs": [],
   "source": []
  },
  {
   "cell_type": "raw",
   "id": "187126cf-19f0-4379-86b7-a77f47797124",
   "metadata": {},
   "source": []
  },
  {
   "cell_type": "code",
   "execution_count": 7,
   "id": "16cfb8b4-2adc-4a21-80e9-48f3ac04e352",
   "metadata": {},
   "outputs": [
    {
     "name": "stdout",
     "output_type": "stream",
     "text": [
      "30\n"
     ]
    }
   ],
   "source": [
    "x=30\n",
    "print(x)"
   ]
  },
  {
   "cell_type": "code",
   "execution_count": 36,
   "id": "090b34a5-fe08-488d-9154-d705ee64ffde",
   "metadata": {},
   "outputs": [
    {
     "name": "stdout",
     "output_type": "stream",
     "text": [
      "201\n"
     ]
    }
   ],
   "source": [
    "x=200\n",
    "y=1\n",
    "z=x+y\n",
    "print(z)"
   ]
  },
  {
   "cell_type": "code",
   "execution_count": 37,
   "id": "594b7d2e-e006-4295-a5c7-6042f9051f2c",
   "metadata": {},
   "outputs": [
    {
     "data": {
      "text/plain": [
       "int"
      ]
     },
     "execution_count": 37,
     "metadata": {},
     "output_type": "execute_result"
    }
   ],
   "source": [
    "type(z)"
   ]
  },
  {
   "cell_type": "code",
   "execution_count": 18,
   "id": "21213d9d-81f2-4676-b3a8-b1861baf9c4e",
   "metadata": {},
   "outputs": [
    {
     "name": "stdout",
     "output_type": "stream",
     "text": [
      "sandeepkuraba\n"
     ]
    }
   ],
   "source": [
    "a=\"sandeep\"\n",
    "b=\"kuraba\"\n",
    "c= a+b\n",
    "print(c)"
   ]
  },
  {
   "cell_type": "code",
   "execution_count": 19,
   "id": "f3276236-f75a-4b4f-8087-b7a327e7d21f",
   "metadata": {},
   "outputs": [
    {
     "data": {
      "text/plain": [
       "str"
      ]
     },
     "execution_count": 19,
     "metadata": {},
     "output_type": "execute_result"
    }
   ],
   "source": [
    "type(c)"
   ]
  },
  {
   "cell_type": "code",
   "execution_count": null,
   "id": "e5956ac8-cde8-4a8c-8fdf-dba06ed33767",
   "metadata": {},
   "outputs": [],
   "source": []
  },
  {
   "cell_type": "code",
   "execution_count": 21,
   "id": "1606f6c0-64a8-41e4-8ae5-7c93bd182402",
   "metadata": {},
   "outputs": [
    {
     "data": {
      "text/plain": [
       "int"
      ]
     },
     "execution_count": 21,
     "metadata": {},
     "output_type": "execute_result"
    }
   ],
   "source": [
    "s=143\n",
    "type(s)"
   ]
  },
  {
   "cell_type": "code",
   "execution_count": 23,
   "id": "a7ef4a45-3225-4136-a1d4-24895a98a44f",
   "metadata": {},
   "outputs": [
    {
     "data": {
      "text/plain": [
       "str"
      ]
     },
     "execution_count": 23,
     "metadata": {},
     "output_type": "execute_result"
    }
   ],
   "source": [
    "k='king'\n",
    "type(k)"
   ]
  },
  {
   "cell_type": "code",
   "execution_count": 25,
   "id": "cfafd676-3e71-400c-a43e-e83c1cff45a8",
   "metadata": {},
   "outputs": [
    {
     "name": "stdout",
     "output_type": "stream",
     "text": [
      "addition:10+15=25\n",
      "substaction:10-15=-5\n"
     ]
    },
    {
     "data": {
      "text/plain": [
       "int"
      ]
     },
     "execution_count": 25,
     "metadata": {},
     "output_type": "execute_result"
    }
   ],
   "source": [
    "# f function string using  \n",
    "x=10\n",
    "y=15\n",
    "addition=x+y\n",
    "print(f\"addition:{x}+{y}={addition}\")\n",
    "\n",
    "substaction =x-y\n",
    "print(f\"substaction:{x}-{y}={substaction}\")\n",
    "type(x)\n",
    "type(y)"
   ]
  },
  {
   "cell_type": "code",
   "execution_count": 33,
   "id": "979ca632-7526-4976-b9f2-49701371234a",
   "metadata": {},
   "outputs": [
    {
     "name": "stdout",
     "output_type": "stream",
     "text": [
      "addition:sandeep*kuraba=25\n"
     ]
    },
    {
     "data": {
      "text/plain": [
       "str"
      ]
     },
     "execution_count": 33,
     "metadata": {},
     "output_type": "execute_result"
    }
   ],
   "source": [
    "a=\"sandeep\"\n",
    "b=\"kuraba\"\n",
    "adition=a+b\n",
    "print(f\"addition:{a}*{b}={addition}\")\n",
    "type(a)\n",
    "type(b)\n"
   ]
  },
  {
   "cell_type": "code",
   "execution_count": null,
   "id": "c1722cb8-6334-49b6-9343-6e90bea519b1",
   "metadata": {},
   "outputs": [],
   "source": []
  },
  {
   "cell_type": "code",
   "execution_count": 6,
   "id": "6419a4df-ba29-4b43-abbf-36eb34447e94",
   "metadata": {},
   "outputs": [
    {
     "name": "stdout",
     "output_type": "stream",
     "text": [
      "[1, 2, 3]\n"
     ]
    },
    {
     "data": {
      "text/plain": [
       "list"
      ]
     },
     "execution_count": 6,
     "metadata": {},
     "output_type": "execute_result"
    }
   ],
   "source": [
    "#create list \n",
    "\n",
    "my_list=[1,2,3]\n",
    "print(my_list)\n",
    "type(my_list)"
   ]
  },
  {
   "cell_type": "code",
   "execution_count": 7,
   "id": "13bb5802-d6f0-4b53-a679-53321959cc63",
   "metadata": {},
   "outputs": [
    {
     "name": "stdout",
     "output_type": "stream",
     "text": [
      "123\n"
     ]
    },
    {
     "data": {
      "text/plain": [
       "str"
      ]
     },
     "execution_count": 7,
     "metadata": {},
     "output_type": "execute_result"
    }
   ],
   "source": [
    "#converting an int\n",
    "num=123\n",
    "result=str(num)\n",
    "print(result)\n",
    "type(result)"
   ]
  },
  {
   "cell_type": "code",
   "execution_count": 8,
   "id": "a1798188-727c-4795-81ed-70aa4cd2913c",
   "metadata": {},
   "outputs": [
    {
     "name": "stdout",
     "output_type": "stream",
     "text": [
      "<class 'float'>\n"
     ]
    }
   ],
   "source": [
    "#check data type of using variables\n",
    "\n",
    "x=5.5\n",
    "print(type(x))"
   ]
  },
  {
   "cell_type": "code",
   "execution_count": 12,
   "id": "c55f25d8-59fd-441a-abf8-857979940a38",
   "metadata": {},
   "outputs": [
    {
     "name": "stdout",
     "output_type": "stream",
     "text": [
      "{'name': 'sandeep', 'age': 25}\n"
     ]
    },
    {
     "data": {
      "text/plain": [
       "dict"
      ]
     },
     "execution_count": 12,
     "metadata": {},
     "output_type": "execute_result"
    }
   ],
   "source": [
    "dict={'name':'sandeep','age':25}\n",
    "a=dict\n",
    "print(a)\n",
    "type(a)"
   ]
  },
  {
   "cell_type": "code",
   "execution_count": null,
   "id": "6e7916b8-ac2e-4036-be81-7b15930d4673",
   "metadata": {},
   "outputs": [],
   "source": []
  },
  {
   "cell_type": "code",
   "execution_count": 45,
   "id": "744a85eb-4c59-4ba2-b1f1-29ec2c4cbb82",
   "metadata": {},
   "outputs": [
    {
     "name": "stdout",
     "output_type": "stream",
     "text": [
      "2\n"
     ]
    }
   ],
   "source": [
    "#create a list and print second element\n",
    "\n",
    "list=[1,2,3]\n",
    "\n",
    "print(list[1])"
   ]
  },
  {
   "cell_type": "code",
   "execution_count": 63,
   "id": "606877ac-3fa7-4f25-933f-e3a041628667",
   "metadata": {},
   "outputs": [
    {
     "name": "stdout",
     "output_type": "stream",
     "text": [
      "456\n"
     ]
    }
   ],
   "source": [
    "#converting number 456to str\n",
    "\n",
    "num=456\n",
    "my_str=str(string)\n",
    "print(my_str)"
   ]
  },
  {
   "cell_type": "code",
   "execution_count": 73,
   "id": "e443500c-651f-4568-803e-f79774974abe",
   "metadata": {},
   "outputs": [
    {
     "name": "stdout",
     "output_type": "stream",
     "text": [
      "true\n"
     ]
    },
    {
     "data": {
      "text/plain": [
       "str"
      ]
     },
     "execution_count": 73,
     "metadata": {},
     "output_type": "execute_result"
    }
   ],
   "source": [
    "x='true'\n",
    "print(x)\n",
    "type(x)\n",
    "\n"
   ]
  },
  {
   "cell_type": "code",
   "execution_count": 74,
   "id": "02213b2e-b048-45b2-9965-e470e1e77538",
   "metadata": {},
   "outputs": [
    {
     "name": "stdout",
     "output_type": "stream",
     "text": [
      "{'fruit': 'apple', 'colour': 'red'}\n"
     ]
    }
   ],
   "source": [
    "dictt={\"fruit\":\"apple\",\"colour\":\"red\"}\n",
    "print(dictt)"
   ]
  },
  {
   "cell_type": "code",
   "execution_count": 7,
   "id": "3e2cdc78-cd7f-492a-980d-9c43e7f92866",
   "metadata": {},
   "outputs": [
    {
     "name": "stdout",
     "output_type": "stream",
     "text": [
      "{'january': 1, 'feb': 2, 'mar': 3}\n",
      "<class 'dict'>\n",
      "feb\n"
     ]
    }
   ],
   "source": [
    "months={\"january\":1,\"feb\":2,\"mar\":3}\n",
    "print(months)\n",
    "print(type(months))\n",
    "print(\"feb\")"
   ]
  },
  {
   "cell_type": "code",
   "execution_count": 13,
   "id": "39a8385c-47ff-42a6-b732-649ea6b21dcc",
   "metadata": {},
   "outputs": [
    {
     "name": "stdout",
     "output_type": "stream",
     "text": [
      "3\n"
     ]
    }
   ],
   "source": [
    "print(len(months))"
   ]
  },
  {
   "cell_type": "code",
   "execution_count": null,
   "id": "6ac4affc-acbd-49ee-af67-3073f3ad0939",
   "metadata": {},
   "outputs": [],
   "source": []
  },
  {
   "cell_type": "code",
   "execution_count": null,
   "id": "35266f92-b306-42bf-acc2-ed1c801d0592",
   "metadata": {},
   "outputs": [],
   "source": []
  },
  {
   "cell_type": "code",
   "execution_count": null,
   "id": "b6b00cf2-9e3b-400d-8169-985f3024a38c",
   "metadata": {},
   "outputs": [],
   "source": []
  },
  {
   "cell_type": "code",
   "execution_count": 18,
   "id": "d0c4507d-cbf7-4f38-9a5e-8cc6a68ccba7",
   "metadata": {},
   "outputs": [
    {
     "name": "stdout",
     "output_type": "stream",
     "text": [
      "{4, 5}\n"
     ]
    },
    {
     "data": {
      "text/plain": [
       "set"
      ]
     },
     "execution_count": 18,
     "metadata": {},
     "output_type": "execute_result"
    }
   ],
   "source": [
    "list1=[4,4,5,5]\n",
    "my_set1=set(list1)\n",
    "print(my_set1)\n",
    "type(my_set1)"
   ]
  },
  {
   "cell_type": "code",
   "execution_count": 20,
   "id": "6cc03353-e76d-442f-92de-138f88e77fe3",
   "metadata": {},
   "outputs": [
    {
     "name": "stdout",
     "output_type": "stream",
     "text": [
      "[20, 45, 50, 100]\n"
     ]
    },
    {
     "data": {
      "text/plain": [
       "list"
      ]
     },
     "execution_count": 20,
     "metadata": {},
     "output_type": "execute_result"
    }
   ],
   "source": [
    "a=[20,45,50,100]\n",
    "print(a)\n",
    "type(a)"
   ]
  },
  {
   "cell_type": "code",
   "execution_count": 23,
   "id": "48d00218-0cfa-40f2-b7e3-2aa31203b014",
   "metadata": {},
   "outputs": [
    {
     "name": "stdout",
     "output_type": "stream",
     "text": [
      "[20, 45, 50, 100, 200, 200, 200]\n"
     ]
    }
   ],
   "source": [
    "a.append(200)\n",
    "print(a)"
   ]
  },
  {
   "cell_type": "code",
   "execution_count": 30,
   "id": "6a93fd50-e98c-4c7f-b8ab-fbde339abb59",
   "metadata": {},
   "outputs": [
    {
     "name": "stdout",
     "output_type": "stream",
     "text": [
      "[20, 45, 50, 100, 600, 200, 200]\n"
     ]
    }
   ],
   "source": [
    "a[4]+=300\n",
    "print(a)"
   ]
  },
  {
   "cell_type": "code",
   "execution_count": 31,
   "id": "f043c417-ed35-4cf5-8d36-2374c2ebac11",
   "metadata": {},
   "outputs": [],
   "source": [
    "a[4]-=100"
   ]
  },
  {
   "cell_type": "code",
   "execution_count": 32,
   "id": "50d237fa-f178-4eaa-93bd-0f3ef16ab314",
   "metadata": {},
   "outputs": [
    {
     "name": "stdout",
     "output_type": "stream",
     "text": [
      "[20, 45, 50, 100, 500, 200, 200]\n"
     ]
    }
   ],
   "source": [
    "print(a)"
   ]
  },
  {
   "cell_type": "code",
   "execution_count": 33,
   "id": "70dd788c-98c7-44ea-8705-ae3d9923097b",
   "metadata": {},
   "outputs": [],
   "source": [
    "a[6]-=200"
   ]
  },
  {
   "cell_type": "code",
   "execution_count": 34,
   "id": "a15ae6d3-1cc9-4a0a-95d5-435e743accd6",
   "metadata": {},
   "outputs": [
    {
     "name": "stdout",
     "output_type": "stream",
     "text": [
      "[20, 45, 50, 100, 500, 200, 0]\n"
     ]
    }
   ],
   "source": [
    "print(a)"
   ]
  },
  {
   "cell_type": "code",
   "execution_count": 35,
   "id": "b6de2cd6-1ea8-464d-9149-afffd032c540",
   "metadata": {},
   "outputs": [
    {
     "data": {
      "text/plain": [
       "list"
      ]
     },
     "execution_count": 35,
     "metadata": {},
     "output_type": "execute_result"
    }
   ],
   "source": [
    "type(a)"
   ]
  },
  {
   "cell_type": "code",
   "execution_count": null,
   "id": "699e2754-b70c-46f5-8b37-9ea5540aba37",
   "metadata": {},
   "outputs": [],
   "source": []
  }
 ],
 "metadata": {
  "kernelspec": {
   "display_name": "Python 3 (ipykernel)",
   "language": "python",
   "name": "python3"
  },
  "language_info": {
   "codemirror_mode": {
    "name": "ipython",
    "version": 3
   },
   "file_extension": ".py",
   "mimetype": "text/x-python",
   "name": "python",
   "nbconvert_exporter": "python",
   "pygments_lexer": "ipython3",
   "version": "3.12.7"
  }
 },
 "nbformat": 4,
 "nbformat_minor": 5
}
