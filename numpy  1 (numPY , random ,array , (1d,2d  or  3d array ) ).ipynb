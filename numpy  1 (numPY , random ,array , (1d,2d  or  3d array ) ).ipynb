{
 "cells": [
  {
   "cell_type": "markdown",
   "id": "696b3993-c178-4bf4-954c-193b3d3e8058",
   "metadata": {},
   "source": [
    "# NumPy (Numerical Python)\n",
    "    is a powerful library for numerical computations in Python.\n",
    "    It provides support for arrays, matrices, and\n",
    "    many mathematical functions to operate on these data structures."
   ]
  },
  {
   "cell_type": "code",
   "execution_count": 64,
   "id": "a9682000-e6b5-4bdd-b2c2-b6c02fc54965",
   "metadata": {},
   "outputs": [
    {
     "name": "stdout",
     "output_type": "stream",
     "text": [
      "1.0\n",
      "2.0\n",
      "3.0\n",
      "4.0\n",
      "5.0\n"
     ]
    }
   ],
   "source": [
    "x =[2,4,6,8,10]\n",
    "for i in x:\n",
    "  print(i/2)"
   ]
  },
  {
   "cell_type": "code",
   "execution_count": 65,
   "id": "a1bcc78f-e921-422a-a605-0e0bd0aa0fd9",
   "metadata": {},
   "outputs": [
    {
     "name": "stdout",
     "output_type": "stream",
     "text": [
      "[ 2  4  6  8 10]\n"
     ]
    }
   ],
   "source": [
    "import numpy as np\n",
    "x=np.array([2,4,6,8,10])\n",
    "\n",
    "print(x)"
   ]
  },
  {
   "cell_type": "code",
   "execution_count": 66,
   "id": "c986030f-6668-4aa1-b20c-f94f70c03013",
   "metadata": {},
   "outputs": [
    {
     "data": {
      "text/plain": [
       "array([ 4,  8, 12, 16, 20])"
      ]
     },
     "execution_count": 66,
     "metadata": {},
     "output_type": "execute_result"
    }
   ],
   "source": [
    "x*2"
   ]
  },
  {
   "cell_type": "code",
   "execution_count": 67,
   "id": "6d7ea45a-28de-4af7-a37c-142c2685490a",
   "metadata": {},
   "outputs": [
    {
     "data": {
      "text/plain": [
       "numpy.ndarray"
      ]
     },
     "execution_count": 67,
     "metadata": {},
     "output_type": "execute_result"
    }
   ],
   "source": [
    "type(x)"
   ]
  },
  {
   "cell_type": "code",
   "execution_count": 68,
   "id": "da6a1a9b-adc8-49ae-a18b-02cba56115aa",
   "metadata": {},
   "outputs": [],
   "source": [
    "#Numpy has Rich set of NumPy Functions:\n",
    "\n",
    "## Set1 = Random Functions:"
   ]
  },
  {
   "cell_type": "code",
   "execution_count": 69,
   "id": "7d663a65-b540-4aa1-b4fa-1fecf92f359d",
   "metadata": {},
   "outputs": [
    {
     "data": {
      "text/plain": [
       "array([5, 7, 5, 8, 4, 4])"
      ]
     },
     "execution_count": 69,
     "metadata": {},
     "output_type": "execute_result"
    }
   ],
   "source": [
    "import numpy as np\n",
    "np.random.randint(0,10,6)   #randint will generate randopm integer numbers"
   ]
  },
  {
   "cell_type": "code",
   "execution_count": 70,
   "id": "70049d26-7b74-49b5-a365-876accc90c1e",
   "metadata": {},
   "outputs": [
    {
     "data": {
      "text/plain": [
       "array([[6, 1, 2, 3],\n",
       "       [8, 2, 7, 1],\n",
       "       [7, 8, 6, 4]])"
      ]
     },
     "execution_count": 70,
     "metadata": {},
     "output_type": "execute_result"
    }
   ],
   "source": [
    "array=np.random.randint(0,10,(3,4))\n",
    "array"
   ]
  },
  {
   "cell_type": "code",
   "execution_count": 71,
   "id": "31093a51-0707-4b2f-9116-3b376e96d94b",
   "metadata": {},
   "outputs": [
    {
     "data": {
      "text/plain": [
       "array([[8, 4, 3],\n",
       "       [8, 5, 6]])"
      ]
     },
     "execution_count": 71,
     "metadata": {},
     "output_type": "execute_result"
    }
   ],
   "source": [
    "np.random.randint(0,10,(2,3))"
   ]
  },
  {
   "cell_type": "code",
   "execution_count": 72,
   "id": "54b1b599-e6a8-4cd8-871e-d5740f230384",
   "metadata": {},
   "outputs": [
    {
     "data": {
      "text/plain": [
       "array([136, 160])"
      ]
     },
     "execution_count": 72,
     "metadata": {},
     "output_type": "execute_result"
    }
   ],
   "source": [
    "np.random.randint(100,200,2)   #Random Data from 0 to 1"
   ]
  },
  {
   "cell_type": "code",
   "execution_count": 73,
   "id": "5c408a89-9a4b-4ffd-b5e7-abab726c30ae",
   "metadata": {},
   "outputs": [
    {
     "data": {
      "text/plain": [
       "array([[8, 2],\n",
       "       [7, 8]])"
      ]
     },
     "execution_count": 73,
     "metadata": {},
     "output_type": "execute_result"
    }
   ],
   "source": [
    "#Numpy slicing\n",
    "array[1: ,0:2]"
   ]
  },
  {
   "cell_type": "code",
   "execution_count": 74,
   "id": "9586d40d-dac0-4a30-8782-163de38f4509",
   "metadata": {},
   "outputs": [],
   "source": [
    "x = np.array(array)"
   ]
  },
  {
   "cell_type": "code",
   "execution_count": 75,
   "id": "9daac833-ce47-480a-9959-7b9e39749ff5",
   "metadata": {},
   "outputs": [
    {
     "data": {
      "text/plain": [
       "array([[8, 9, 9, 1],\n",
       "       [2, 5, 5, 0],\n",
       "       [5, 0, 5, 2],\n",
       "       [3, 0, 4, 2],\n",
       "       [2, 8, 1, 5]])"
      ]
     },
     "execution_count": 75,
     "metadata": {},
     "output_type": "execute_result"
    }
   ],
   "source": [
    "data = np.random.randint(0,10,(5,4))\n",
    "data"
   ]
  },
  {
   "cell_type": "code",
   "execution_count": 76,
   "id": "e4435eb3-81cb-43f9-8d30-9c1ca6ef2589",
   "metadata": {},
   "outputs": [
    {
     "data": {
      "text/plain": [
       "array([[2, 5],\n",
       "       [5, 0],\n",
       "       [3, 0],\n",
       "       [2, 8]])"
      ]
     },
     "execution_count": 76,
     "metadata": {},
     "output_type": "execute_result"
    }
   ],
   "source": [
    "data[1: , :2]\n",
    "\n",
    "#"
   ]
  },
  {
   "cell_type": "code",
   "execution_count": 77,
   "id": "e95819a1-1a32-48e9-948c-e5aa16e09a44",
   "metadata": {},
   "outputs": [
    {
     "data": {
      "text/plain": [
       "array([[0, 5, 2],\n",
       "       [0, 4, 2]])"
      ]
     },
     "execution_count": 77,
     "metadata": {},
     "output_type": "execute_result"
    }
   ],
   "source": [
    "data[2:4,1: ]"
   ]
  },
  {
   "cell_type": "code",
   "execution_count": 78,
   "id": "cce8cbea-2349-4c62-957f-69c7b7dbaebc",
   "metadata": {},
   "outputs": [
    {
     "data": {
      "text/plain": [
       "array([[0, 5, 2],\n",
       "       [0, 4, 2]])"
      ]
     },
     "execution_count": 78,
     "metadata": {},
     "output_type": "execute_result"
    }
   ],
   "source": [
    "data [2:4,1: ]"
   ]
  },
  {
   "cell_type": "code",
   "execution_count": 79,
   "id": "ef56a0c5-071f-4e06-b5bc-87deacc3f57c",
   "metadata": {},
   "outputs": [
    {
     "name": "stdout",
     "output_type": "stream",
     "text": [
      "[ 1 23 24]\n"
     ]
    }
   ],
   "source": [
    "#Numpy\n",
    "\n",
    "#1 D array:\n",
    "\n",
    "import numpy as np\n",
    "a=np.array([1,23,24])\n",
    "print(a)"
   ]
  },
  {
   "cell_type": "code",
   "execution_count": 80,
   "id": "8cd5b0ef-1441-4f9d-8c81-a5f9d2706109",
   "metadata": {},
   "outputs": [
    {
     "name": "stdout",
     "output_type": "stream",
     "text": [
      "[2 3 4]\n"
     ]
    }
   ],
   "source": [
    "import numpy as np\n",
    "\n",
    "#1D array\n",
    "a =np.array([2,3,4])\n",
    "print(a)"
   ]
  },
  {
   "cell_type": "code",
   "execution_count": 81,
   "id": "1628236b-1c8f-4371-ac7f-190a685cd5df",
   "metadata": {},
   "outputs": [
    {
     "name": "stdout",
     "output_type": "stream",
     "text": [
      "(array([[ 2,  4,  6],\n",
      "       [ 8, 10, 12],\n",
      "       [ 5,  6,  7]]), [[1, 7, 3], [5, 5, 6], [5, 8, 7]])\n"
     ]
    }
   ],
   "source": [
    "#2D array\n",
    "\n",
    "b=np.array([[2,4,6],[8,10,12],[5,6,7]]),([[1,7,3],[5,5,6],[5,8,7]])\n",
    "print(b)"
   ]
  },
  {
   "cell_type": "code",
   "execution_count": 82,
   "id": "e501eb06-b341-447b-9b45-e3560577575c",
   "metadata": {},
   "outputs": [
    {
     "name": "stdout",
     "output_type": "stream",
     "text": [
      "[[ 2  4  6]\n",
      " [ 8 10 12]\n",
      " [ 5  3  4]]\n"
     ]
    }
   ],
   "source": [
    "#2D array\n",
    "\n",
    "c=np.array([[2,4,6],[8,10,12],[5,3,4]])\n",
    "print(c)"
   ]
  },
  {
   "cell_type": "code",
   "execution_count": 83,
   "id": "d11488a3-0a34-458c-993a-453e51c856f7",
   "metadata": {},
   "outputs": [
    {
     "data": {
      "text/plain": [
       "array([[0., 0., 0.],\n",
       "       [0., 0., 0.]])"
      ]
     },
     "execution_count": 83,
     "metadata": {},
     "output_type": "execute_result"
    }
   ],
   "source": [
    "#Initialize Numpy arrays\n",
    "\n",
    "#initialize 'x X y' dimensions with '0' values\n",
    "import numpy as np\n",
    "np.zeros((2,3))"
   ]
  },
  {
   "cell_type": "code",
   "execution_count": 5,
   "id": "4e360528-66bb-4994-84f9-8509b9c40f15",
   "metadata": {},
   "outputs": [
    {
     "data": {
      "text/plain": [
       "array([[1., 1., 1.],\n",
       "       [1., 1., 1.],\n",
       "       [1., 1., 1.],\n",
       "       [1., 1., 1.]])"
      ]
     },
     "execution_count": 5,
     "metadata": {},
     "output_type": "execute_result"
    }
   ],
   "source": [
    "import numpy as np\n",
    "np.ones((4,3))"
   ]
  },
  {
   "cell_type": "code",
   "execution_count": 8,
   "id": "cb3faddf-ac16-411d-8a9f-c0b161056c1b",
   "metadata": {},
   "outputs": [
    {
     "data": {
      "text/plain": [
       "array([[0, 0, 0, 0],\n",
       "       [0, 0, 0, 0],\n",
       "       [0, 0, 0, 0],\n",
       "       [0, 0, 0, 0]])"
      ]
     },
     "execution_count": 8,
     "metadata": {},
     "output_type": "execute_result"
    }
   ],
   "source": [
    "import numpy as np\n",
    "\n",
    "#full array with -6 values\n",
    "np.full((4,4),0)"
   ]
  },
  {
   "cell_type": "code",
   "execution_count": 86,
   "id": "dc0e0426-c2b6-4141-a19a-a779811654f8",
   "metadata": {},
   "outputs": [
    {
     "name": "stdout",
     "output_type": "stream",
     "text": [
      "[1 2 3]\n"
     ]
    }
   ],
   "source": [
    "#1D Array\n",
    "\n",
    "a=np.array([1,2,3])\n",
    "print(a)"
   ]
  },
  {
   "cell_type": "code",
   "execution_count": 87,
   "id": "891295e1-5a5e-429a-9654-109ff9bd9105",
   "metadata": {},
   "outputs": [
    {
     "name": "stdout",
     "output_type": "stream",
     "text": [
      "[[2 4 6]\n",
      " [4 5 6]\n",
      " [6 5 7]]\n",
      "<class 'numpy.ndarray'>\n"
     ]
    },
    {
     "data": {
      "text/plain": [
       "2"
      ]
     },
     "execution_count": 87,
     "metadata": {},
     "output_type": "execute_result"
    }
   ],
   "source": [
    "\n",
    "# 2d array\n",
    "a =np.array([[2,4,6],[4,5,6],[6,5,7]])\n",
    "\n",
    "print(a)\n",
    "print(type(a))\n",
    "a.ndim"
   ]
  },
  {
   "cell_type": "code",
   "execution_count": 88,
   "id": "41cfbca9-a3ab-4887-99ed-340ac80348ea",
   "metadata": {},
   "outputs": [
    {
     "name": "stdout",
     "output_type": "stream",
     "text": [
      "[[[1 2 3]\n",
      "  [4 5 6]\n",
      "  [5 6 7]]\n",
      "\n",
      " [[4 5 6]\n",
      "  [8 8 7]\n",
      "  [8 9 7]]]\n",
      "<class 'numpy.ndarray'>\n"
     ]
    },
    {
     "data": {
      "text/plain": [
       "3"
      ]
     },
     "execution_count": 88,
     "metadata": {},
     "output_type": "execute_result"
    }
   ],
   "source": [
    "#3d  array \n",
    "x= np.array([[[1,2,3], [4,5,6],[5,6,7]], [[4,5,6],[8,8,7],[8,9,7]]])\n",
    "print(x)\n",
    "\n",
    "print(type(x))\n",
    "x.ndim"
   ]
  },
  {
   "cell_type": "code",
   "execution_count": 89,
   "id": "c95e42c1-4013-449d-8176-4f0424ec053e",
   "metadata": {},
   "outputs": [
    {
     "data": {
      "text/plain": [
       "array([[0., 0., 0., 0.],\n",
       "       [0., 0., 0., 0.],\n",
       "       [0., 0., 0., 0.]])"
      ]
     },
     "execution_count": 89,
     "metadata": {},
     "output_type": "execute_result"
    }
   ],
   "source": [
    "#Initialize Array:\n",
    "\n",
    "#Initilize an array of 'x' X 'y' dimensions with 0\n",
    "\n",
    "np.zeros((3,4))"
   ]
  },
  {
   "cell_type": "code",
   "execution_count": 90,
   "id": "b00d161b-f6ca-489f-a0ba-d4d41750bd5d",
   "metadata": {},
   "outputs": [
    {
     "name": "stdout",
     "output_type": "stream",
     "text": [
      "[[1. 1. 1. 1.]\n",
      " [1. 1. 1. 1.]\n",
      " [1. 1. 1. 1.]]\n"
     ]
    }
   ],
   "source": [
    "#Initilize an array of 'x' X 'y' dimensions with 1\n",
    "\n",
    "b=np.ones((3,4))\n",
    "print(b)"
   ]
  },
  {
   "cell_type": "code",
   "execution_count": 91,
   "id": "f4dfa7ab-7712-4751-a386-fa18ec47a114",
   "metadata": {},
   "outputs": [
    {
     "data": {
      "text/plain": [
       "array([  0,  10,  20,  30,  40,  50,  60,  70,  80,  90, 100])"
      ]
     },
     "execution_count": 91,
     "metadata": {},
     "output_type": "execute_result"
    }
   ],
   "source": [
    "#Initilize 'x' and 'y' with an interval of z\n",
    "\n",
    "np.arange(0,101,10) #"
   ]
  },
  {
   "cell_type": "code",
   "execution_count": 92,
   "id": "f63c5365-7f83-4924-a4f9-d99818e73909",
   "metadata": {},
   "outputs": [
    {
     "data": {
      "text/plain": [
       "array([ 1,  2,  3,  4,  5,  6,  7,  8,  9, 10, 11, 12, 13, 14, 15, 16, 17,\n",
       "       18, 19])"
      ]
     },
     "execution_count": 92,
     "metadata": {},
     "output_type": "execute_result"
    }
   ],
   "source": [
    "np.arange(1,20)"
   ]
  },
  {
   "cell_type": "code",
   "execution_count": 93,
   "id": "33e8cb67-8310-4299-b487-9662879a3c4c",
   "metadata": {},
   "outputs": [
    {
     "data": {
      "text/plain": [
       "array([ 0.,  5., 10., 15., 20.])"
      ]
     },
     "execution_count": 93,
     "metadata": {},
     "output_type": "execute_result"
    }
   ],
   "source": [
    "#initialize 'z' numbers between 'x' and 'y'\n",
    "#devide upper and lower limit to equal measures\n",
    "\n",
    "np.linspace(0,20,5)"
   ]
  },
  {
   "cell_type": "code",
   "execution_count": 94,
   "id": "d1c83bdd-436b-406c-b7b3-9db6db898c8d",
   "metadata": {},
   "outputs": [
    {
     "data": {
      "text/plain": [
       "array([ 9., 18., 27., 36., 45., 54., 63., 72., 81., 90.])"
      ]
     },
     "execution_count": 94,
     "metadata": {},
     "output_type": "execute_result"
    }
   ],
   "source": [
    "np.linspace(9,90,10)"
   ]
  },
  {
   "cell_type": "code",
   "execution_count": 95,
   "id": "2a643b50-5f6d-4555-9f91-516a3cbfd562",
   "metadata": {},
   "outputs": [
    {
     "data": {
      "text/plain": [
       "array([ 0. ,  2.5,  5. ,  7.5, 10. ])"
      ]
     },
     "execution_count": 95,
     "metadata": {},
     "output_type": "execute_result"
    }
   ],
   "source": [
    "np.linspace(0,10,5)"
   ]
  },
  {
   "cell_type": "code",
   "execution_count": null,
   "id": "44599c0d-accd-4d4b-85c9-8d32c89b6ce3",
   "metadata": {},
   "outputs": [],
   "source": []
  },
  {
   "cell_type": "code",
   "execution_count": 96,
   "id": "e675910d-9248-4006-9f49-bf944c0c7724",
   "metadata": {},
   "outputs": [
    {
     "data": {
      "text/plain": [
       "array([[1., 0., 0., 0., 0.],\n",
       "       [0., 1., 0., 0., 0.],\n",
       "       [0., 0., 1., 0., 0.],\n",
       "       [0., 0., 0., 1., 0.],\n",
       "       [0., 0., 0., 0., 1.]])"
      ]
     },
     "execution_count": 96,
     "metadata": {},
     "output_type": "execute_result"
    }
   ],
   "source": [
    "np.eye(5)  # eye: refer to identical matrix"
   ]
  },
  {
   "cell_type": "code",
   "execution_count": 97,
   "id": "d35dc782-d427-4b53-9bd7-4254c313968e",
   "metadata": {},
   "outputs": [
    {
     "data": {
      "text/plain": [
       "array([[1., 0., 0.],\n",
       "       [0., 1., 0.],\n",
       "       [0., 0., 1.]])"
      ]
     },
     "execution_count": 97,
     "metadata": {},
     "output_type": "execute_result"
    }
   ],
   "source": [
    "np.eye(3)"
   ]
  },
  {
   "cell_type": "code",
   "execution_count": 98,
   "id": "69d1d031-b916-4dc4-bd54-0df43bf368d4",
   "metadata": {},
   "outputs": [
    {
     "data": {
      "text/plain": [
       "array([[1., 0., 0., 0., 0., 0., 0., 0.],\n",
       "       [0., 1., 0., 0., 0., 0., 0., 0.],\n",
       "       [0., 0., 1., 0., 0., 0., 0., 0.],\n",
       "       [0., 0., 0., 1., 0., 0., 0., 0.],\n",
       "       [0., 0., 0., 0., 1., 0., 0., 0.],\n",
       "       [0., 0., 0., 0., 0., 1., 0., 0.],\n",
       "       [0., 0., 0., 0., 0., 0., 1., 0.],\n",
       "       [0., 0., 0., 0., 0., 0., 0., 1.]])"
      ]
     },
     "execution_count": 98,
     "metadata": {},
     "output_type": "execute_result"
    }
   ],
   "source": [
    "np.eye(8)"
   ]
  },
  {
   "cell_type": "code",
   "execution_count": 99,
   "id": "25c87a08-a74c-495b-b1a7-e008fd9e9392",
   "metadata": {},
   "outputs": [
    {
     "name": "stdout",
     "output_type": "stream",
     "text": [
      "[[ 5  4  0  1]\n",
      " [11  4 10  7]\n",
      " [ 7 10  5  6]\n",
      " [ 7 12 10  4]\n",
      " [ 3  7  3  4]]\n"
     ]
    }
   ],
   "source": [
    "import numpy as np\n",
    "\n",
    "# Create the NumPy array\n",
    "data = np.array([[5, 4, 0, 1],\n",
    "                  [11, 4, 10, 7],\n",
    "                  [7, 10, 5, 6],\n",
    "                  [7, 12, 10, 4],\n",
    "                  [3, 7, 3, 4]])\n",
    "\n",
    "# Print the array\n",
    "print(data)"
   ]
  },
  {
   "cell_type": "code",
   "execution_count": 100,
   "id": "7269db63-f93f-4bf4-9ef3-50c4c849ed36",
   "metadata": {},
   "outputs": [
    {
     "data": {
      "text/plain": [
       "8"
      ]
     },
     "execution_count": 100,
     "metadata": {},
     "output_type": "execute_result"
    }
   ],
   "source": [
    "dt =[1,3,4]\n",
    "sum(dt)"
   ]
  },
  {
   "cell_type": "code",
   "execution_count": 101,
   "id": "837bbb62-aa6e-4f21-88a8-f32265e08919",
   "metadata": {},
   "outputs": [
    {
     "data": {
      "text/plain": [
       "12"
      ]
     },
     "execution_count": 101,
     "metadata": {},
     "output_type": "execute_result"
    }
   ],
   "source": [
    "data.max()"
   ]
  },
  {
   "cell_type": "code",
   "execution_count": 102,
   "id": "c365e396-d064-4295-8741-92907e20c200",
   "metadata": {},
   "outputs": [
    {
     "data": {
      "text/plain": [
       "6.0"
      ]
     },
     "execution_count": 102,
     "metadata": {},
     "output_type": "execute_result"
    }
   ],
   "source": [
    "data.mean()"
   ]
  },
  {
   "cell_type": "code",
   "execution_count": 103,
   "id": "e3e3dfa1-91e6-4240-bbbf-2df059a6627e",
   "metadata": {},
   "outputs": [
    {
     "data": {
      "text/plain": [
       "120"
      ]
     },
     "execution_count": 103,
     "metadata": {},
     "output_type": "execute_result"
    }
   ],
   "source": [
    "data.sum()"
   ]
  },
  {
   "cell_type": "code",
   "execution_count": 104,
   "id": "cdd8aade-9e98-4452-8173-f574e91b0296",
   "metadata": {},
   "outputs": [
    {
     "data": {
      "text/plain": [
       "array([[3, 3, 3, 3, 3],\n",
       "       [3, 3, 3, 3, 3],\n",
       "       [3, 3, 3, 3, 3],\n",
       "       [3, 3, 3, 3, 3]])"
      ]
     },
     "execution_count": 104,
     "metadata": {},
     "output_type": "execute_result"
    }
   ],
   "source": [
    "#Fill SAME numbers in an array of dimensions 'x' X 'y'\n",
    "\n",
    "np.full((4,5),3)"
   ]
  },
  {
   "cell_type": "code",
   "execution_count": 105,
   "id": "677bfa0b-b168-4309-8e18-c069fddeb0c5",
   "metadata": {},
   "outputs": [
    {
     "name": "stdout",
     "output_type": "stream",
     "text": [
      "[[ 2  4  6]\n",
      " [ 5  6  7]\n",
      " [ 8 10 12]]\n",
      "(3, 3)\n"
     ]
    }
   ],
   "source": [
    "#ndarray.shape:\n",
    "\n",
    "a=np.array([[2,4,6],[5,6,7],[8,10,12]])\n",
    "print(a)\n",
    "print(a.shape)"
   ]
  },
  {
   "cell_type": "code",
   "execution_count": 106,
   "id": "eaec64e7-fdc8-4f64-b353-fc994922113b",
   "metadata": {},
   "outputs": [
    {
     "name": "stdout",
     "output_type": "stream",
     "text": [
      "(2, 3)\n"
     ]
    }
   ],
   "source": [
    "b=np.array([[4,5,6],[6,8,10]])\n",
    "print(b.shape)   #2,3"
   ]
  },
  {
   "cell_type": "code",
   "execution_count": 107,
   "id": "efce292d-e3e9-41b0-b02d-3cb558a7e1c9",
   "metadata": {},
   "outputs": [
    {
     "name": "stdout",
     "output_type": "stream",
     "text": [
      "Original Array:\n",
      " [[ 2  4  6  4]\n",
      " [ 5  6  7  8]\n",
      " [ 8 10 12  4]]\n",
      "Changed Array:\n",
      " [[ 2  4]\n",
      " [ 6  4]\n",
      " [ 5  6]\n",
      " [ 7  8]\n",
      " [ 8 10]\n",
      " [12  4]]\n",
      "Changed Array:\n",
      " [[ 2  4  6]\n",
      " [ 4  5  6]\n",
      " [ 7  8  8]\n",
      " [10 12  4]]\n"
     ]
    }
   ],
   "source": [
    "#We can use ndarray.shape function to resize the array:\n",
    "a=np.array([[2,4,6,4],[5,6,7,8],[8,10,12,4]]) #3,4 =12\n",
    "print(\"Original Array:\\n\", a)\n",
    "a.shape=(6,2)   #12 = 1,2,3,4,6,12 (1,12), (2,6),(3,4),(4,3),(6,2)(12,1)\n",
    "print(\"Changed Array:\\n\",a)\n",
    "\n",
    "a.shape=(4,3)\n",
    "print(\"Changed Array:\\n\",a)"
   ]
  },
  {
   "cell_type": "code",
   "execution_count": 108,
   "id": "0a598db0-a3d1-4f8e-9a24-5bb7c61e832f",
   "metadata": {},
   "outputs": [
    {
     "name": "stdout",
     "output_type": "stream",
     "text": [
      "[[[1 2]]\n",
      "\n",
      " [[3 4]]\n",
      "\n",
      " [[5 6]]\n",
      "\n",
      " [[5 8]]\n",
      "\n",
      " [[8 5]]\n",
      "\n",
      " [[6 4]]]\n",
      "3\n"
     ]
    }
   ],
   "source": [
    "b=np.array([[1,2,3],[4,5,6],[5,8,8],[5,6,4]])\n",
    "b.shape=(6,1,2)  # 12= 1*12,2*6,3*4, 4*3,6*2,1*12\n",
    "print(b)\n",
    "#print(b.size)\n",
    "print(b.ndim)"
   ]
  },
  {
   "cell_type": "code",
   "execution_count": 109,
   "id": "1ab31c0e-4278-45cd-8e84-967a4b752d52",
   "metadata": {},
   "outputs": [
    {
     "name": "stdout",
     "output_type": "stream",
     "text": [
      "[ 0  1  2  3  4  5  6  7  8  9 10 11 12 13 14 15 16 17 18 19 20 21 22 23]\n",
      "[[[ 0  1  2  3]\n",
      "  [ 4  5  6  7]\n",
      "  [ 8  9 10 11]]\n",
      "\n",
      " [[12 13 14 15]\n",
      "  [16 17 18 19]\n",
      "  [20 21 22 23]]]\n",
      "3\n"
     ]
    }
   ],
   "source": [
    "z=np.arange(24)\n",
    "print(z)\n",
    "#1D array[0,1,2,3,.....,23]  # 1*24\n",
    "#print(z)     #24 =1,2,3,4,6,8,12,24(1,24)(2,12),(3,8)\n",
    "# For reshaping into 3D Array (2,6,2) (4,2,3)\n",
    "z.shape=(2,3,4)  #4,3,2\n",
    "#3 dimensional\n",
    "print(z)\n",
    "print(z.ndim)  #.ndim= no of dimenssions in that array"
   ]
  },
  {
   "cell_type": "code",
   "execution_count": 110,
   "id": "46024cc8-29bf-4ef9-9bf5-4811df0a6ba9",
   "metadata": {},
   "outputs": [
    {
     "name": "stdout",
     "output_type": "stream",
     "text": [
      "[[[ 0  1  2]\n",
      "  [ 3  4  5]\n",
      "  [ 6  7  8]\n",
      "  [ 9 10 11]\n",
      "  [12 13 14]\n",
      "  [15 16 17]\n",
      "  [18 19 20]\n",
      "  [21 22 23]\n",
      "  [24 25 26]\n",
      "  [27 28 29]]]\n",
      "3\n"
     ]
    }
   ],
   "source": [
    "z=np.arange(30)\n",
    "#print(z)\n",
    "#1D array[0,1,2,3,.....,23]  # 1*24\n",
    "#print(z)     #24 =1,2,3,4,6,8,12,24(1,24)(2,12),(3,8)\n",
    "# For reshaping into 3D Array (2,5,3),(3,5,2),(1,10,3)\n",
    "z.shape=(1,10,3)  #2,2,2,3\n",
    "#3 dimensional\n",
    "print(z)\n",
    "print(z.ndim)"
   ]
  },
  {
   "cell_type": "code",
   "execution_count": 111,
   "id": "90605e98-2327-4bff-bbed-ebdfd0b36599",
   "metadata": {},
   "outputs": [
    {
     "name": "stdout",
     "output_type": "stream",
     "text": [
      "[[[[  0   1   2   3   4]\n",
      "   [  5   6   7   8   9]\n",
      "   [ 10  11  12  13  14]\n",
      "   [ 15  16  17  18  19]\n",
      "   [ 20  21  22  23  24]]\n",
      "\n",
      "  [[ 25  26  27  28  29]\n",
      "   [ 30  31  32  33  34]\n",
      "   [ 35  36  37  38  39]\n",
      "   [ 40  41  42  43  44]\n",
      "   [ 45  46  47  48  49]]]\n",
      "\n",
      "\n",
      " [[[ 50  51  52  53  54]\n",
      "   [ 55  56  57  58  59]\n",
      "   [ 60  61  62  63  64]\n",
      "   [ 65  66  67  68  69]\n",
      "   [ 70  71  72  73  74]]\n",
      "\n",
      "  [[ 75  76  77  78  79]\n",
      "   [ 80  81  82  83  84]\n",
      "   [ 85  86  87  88  89]\n",
      "   [ 90  91  92  93  94]\n",
      "   [ 95  96  97  98  99]]]\n",
      "\n",
      "\n",
      " [[[100 101 102 103 104]\n",
      "   [105 106 107 108 109]\n",
      "   [110 111 112 113 114]\n",
      "   [115 116 117 118 119]\n",
      "   [120 121 122 123 124]]\n",
      "\n",
      "  [[125 126 127 128 129]\n",
      "   [130 131 132 133 134]\n",
      "   [135 136 137 138 139]\n",
      "   [140 141 142 143 144]\n",
      "   [145 146 147 148 149]]]\n",
      "\n",
      "\n",
      " [[[150 151 152 153 154]\n",
      "   [155 156 157 158 159]\n",
      "   [160 161 162 163 164]\n",
      "   [165 166 167 168 169]\n",
      "   [170 171 172 173 174]]\n",
      "\n",
      "  [[175 176 177 178 179]\n",
      "   [180 181 182 183 184]\n",
      "   [185 186 187 188 189]\n",
      "   [190 191 192 193 194]\n",
      "   [195 196 197 198 199]]]]\n",
      "4\n"
     ]
    }
   ],
   "source": [
    "Y =np.arange(200)  #0,1,.......,199\n",
    "#print(Y)\n",
    "#print(Y.size)    #200 =100*2 =50*2*2=25*2*2*2=5*5*2*2*2\n",
    "\n",
    "\n",
    "Y.shape=(4,2,5,5) #5*5*4*2\n",
    "print(Y)\n",
    "print(Y.ndim)"
   ]
  },
  {
   "cell_type": "code",
   "execution_count": 112,
   "id": "095aaa33-337a-49aa-b415-424780850d0a",
   "metadata": {},
   "outputs": [
    {
     "name": "stdout",
     "output_type": "stream",
     "text": [
      "(2, 3)\n",
      "2\n",
      "[[ 4  5]\n",
      " [ 6  6]\n",
      " [ 8 10]]\n"
     ]
    }
   ],
   "source": [
    "import numpy as np\n",
    "b=np.array([[4,5,6],[6,8,10]])\n",
    "print(b.shape)\n",
    "print(b.ndim)\n",
    "#Convert above array into 2D and 3D array\n",
    "b.shape=(3,2)\n",
    "\n",
    "print(b)#6=1,2,3,6"
   ]
  },
  {
   "cell_type": "code",
   "execution_count": 113,
   "id": "9eedac36-8058-4cd9-89d0-314c5ef1fc8f",
   "metadata": {},
   "outputs": [
    {
     "data": {
      "text/plain": [
       "200"
      ]
     },
     "execution_count": 113,
     "metadata": {},
     "output_type": "execute_result"
    }
   ],
   "source": [
    "#Addition Using numpy Function\n",
    "\n",
    "np.multiply(10,20)"
   ]
  },
  {
   "cell_type": "code",
   "execution_count": 114,
   "id": "71ad5828-e01a-4aa4-ac23-cb163dc18d88",
   "metadata": {},
   "outputs": [
    {
     "data": {
      "text/plain": [
       "33"
      ]
     },
     "execution_count": 114,
     "metadata": {},
     "output_type": "execute_result"
    }
   ],
   "source": [
    "np.sum([20,10,3])"
   ]
  },
  {
   "cell_type": "code",
   "execution_count": 115,
   "id": "88d2ec74-3f4d-4bd1-a565-33407a5d2dfc",
   "metadata": {},
   "outputs": [
    {
     "data": {
      "text/plain": [
       "array([1, 5, 8])"
      ]
     },
     "execution_count": 115,
     "metadata": {},
     "output_type": "execute_result"
    }
   ],
   "source": [
    "#Add the arrays\n",
    "#axis=0 will add numbers by Columns\n",
    "#axis =1 will add numbers by rows\n",
    "np.sum([[0,1],[0,5],[3,5]],axis = 0)\n",
    "np.sum([[0,1],[0,5],[3,5]],axis = 1)"
   ]
  },
  {
   "cell_type": "code",
   "execution_count": null,
   "id": "42d8d8a3-ef13-4951-b1fa-8588883b061a",
   "metadata": {},
   "outputs": [],
   "source": []
  },
  {
   "cell_type": "code",
   "execution_count": 116,
   "id": "25999545-2504-4b49-a112-59dc600f528c",
   "metadata": {},
   "outputs": [
    {
     "data": {
      "text/plain": [
       "array([1, 5, 8])"
      ]
     },
     "execution_count": 116,
     "metadata": {},
     "output_type": "execute_result"
    }
   ],
   "source": [
    "#axis=1 will add numbers by rows\n",
    "\n",
    "np.sum([[0,1],[0,5],[3,5]],axis = 1)"
   ]
  },
  {
   "cell_type": "code",
   "execution_count": 117,
   "id": "263e4ba7-402f-45a7-8f3e-b60484d8824d",
   "metadata": {},
   "outputs": [
    {
     "data": {
      "text/plain": [
       "array([[ 5,  4,  0,  1],\n",
       "       [11,  4, 10,  7],\n",
       "       [ 7, 10,  5,  6],\n",
       "       [ 7, 12, 10,  4],\n",
       "       [ 3,  7,  3,  4]])"
      ]
     },
     "execution_count": 117,
     "metadata": {},
     "output_type": "execute_result"
    }
   ],
   "source": [
    "data"
   ]
  },
  {
   "cell_type": "code",
   "execution_count": 118,
   "id": "d0334109-3080-40bc-9444-a3b7dc178244",
   "metadata": {},
   "outputs": [
    {
     "data": {
      "text/plain": [
       "array([10, 32, 28, 33, 17])"
      ]
     },
     "execution_count": 118,
     "metadata": {},
     "output_type": "execute_result"
    }
   ],
   "source": [
    "data.sum(axis=1)"
   ]
  },
  {
   "cell_type": "code",
   "execution_count": 119,
   "id": "b44ad5c5-f942-4886-8e57-2ff2584d7949",
   "metadata": {},
   "outputs": [
    {
     "data": {
      "text/plain": [
       "array([33, 37, 28, 22])"
      ]
     },
     "execution_count": 119,
     "metadata": {},
     "output_type": "execute_result"
    }
   ],
   "source": [
    "data.sum(axis=0)"
   ]
  },
  {
   "cell_type": "code",
   "execution_count": 120,
   "id": "c8f4cef3-7fcb-4882-b740-8a7d0e620172",
   "metadata": {},
   "outputs": [
    {
     "data": {
      "text/plain": [
       "array([3, 4, 0, 1])"
      ]
     },
     "execution_count": 120,
     "metadata": {},
     "output_type": "execute_result"
    }
   ],
   "source": [
    "data.min(axis=0)"
   ]
  },
  {
   "cell_type": "code",
   "execution_count": 121,
   "id": "5013f828-83a8-4f51-854d-8dca30efaa6a",
   "metadata": {},
   "outputs": [
    {
     "data": {
      "text/plain": [
       "array([4, 0, 0, 0], dtype=int64)"
      ]
     },
     "execution_count": 121,
     "metadata": {},
     "output_type": "execute_result"
    }
   ],
   "source": [
    "data.argmin(axis=0)"
   ]
  },
  {
   "cell_type": "code",
   "execution_count": 122,
   "id": "11543ea7-7ba3-46e7-b9cd-5380a8eb369f",
   "metadata": {},
   "outputs": [
    {
     "data": {
      "text/plain": [
       "array([ 5, 11, 10, 12,  7])"
      ]
     },
     "execution_count": 122,
     "metadata": {},
     "output_type": "execute_result"
    }
   ],
   "source": [
    "data.max(axis=1)"
   ]
  },
  {
   "cell_type": "code",
   "execution_count": 123,
   "id": "a1ce728f-ae76-4a33-ab0a-47d2456c16f2",
   "metadata": {},
   "outputs": [
    {
     "data": {
      "text/plain": [
       "6.0"
      ]
     },
     "execution_count": 123,
     "metadata": {},
     "output_type": "execute_result"
    }
   ],
   "source": [
    "data.mean()"
   ]
  },
  {
   "cell_type": "code",
   "execution_count": null,
   "id": "e22a8663-9bbf-497e-b1d2-0c53e64878c4",
   "metadata": {},
   "outputs": [],
   "source": []
  },
  {
   "cell_type": "code",
   "execution_count": null,
   "id": "ddf4bbc0-54ef-4b3d-aa8f-ba13240b6696",
   "metadata": {},
   "outputs": [],
   "source": []
  },
  {
   "cell_type": "code",
   "execution_count": null,
   "id": "aabf4ebb-37fb-4dab-b6ae-7f4d1d3c4319",
   "metadata": {},
   "outputs": [],
   "source": []
  },
  {
   "cell_type": "code",
   "execution_count": null,
   "id": "1418645b-c113-49b7-acfb-b8a9af8e541e",
   "metadata": {},
   "outputs": [],
   "source": []
  }
 ],
 "metadata": {
  "kernelspec": {
   "display_name": "Python 3 (ipykernel)",
   "language": "python",
   "name": "python3"
  },
  "language_info": {
   "codemirror_mode": {
    "name": "ipython",
    "version": 3
   },
   "file_extension": ".py",
   "mimetype": "text/x-python",
   "name": "python",
   "nbconvert_exporter": "python",
   "pygments_lexer": "ipython3",
   "version": "3.12.7"
  }
 },
 "nbformat": 4,
 "nbformat_minor": 5
}
