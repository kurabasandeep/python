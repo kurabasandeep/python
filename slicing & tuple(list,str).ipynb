{
 "cells": [
  {
   "cell_type": "code",
   "execution_count": null,
   "id": "f62ddb22-2a49-412c-b4ca-432a44c6cc75",
   "metadata": {},
   "outputs": [],
   "source": [
    "#  -11-10-9-8-7-6-5-4-3-2-1  # native index slicing\n",
    "#   i  a m  s a n d e e p\n",
    "#   1 2 3 4 5 6 7 8 91011   #positive index slicing"
   ]
  },
  {
   "cell_type": "code",
   "execution_count": 2,
   "id": "ee370233-4b8f-4d13-9d06-b178cefdf943",
   "metadata": {},
   "outputs": [
    {
     "data": {
      "text/plain": [
       "str"
      ]
     },
     "execution_count": 2,
     "metadata": {},
     "output_type": "execute_result"
    }
   ],
   "source": [
    "a=\"i am sandeep\"\n",
    "type(a)"
   ]
  },
  {
   "cell_type": "code",
   "execution_count": 3,
   "id": "e3080b6c-45cd-49b9-bf88-3975e1e4ad4e",
   "metadata": {},
   "outputs": [
    {
     "name": "stdout",
     "output_type": "stream",
     "text": [
      "i am sandeep\n",
      "i\n",
      " \n",
      "a\n",
      "m\n",
      "d\n",
      "i am sandeep\n",
      "i am \n",
      "sandeep\n",
      "i am sandeep\n"
     ]
    },
    {
     "data": {
      "text/plain": [
       "str"
      ]
     },
     "execution_count": 3,
     "metadata": {},
     "output_type": "execute_result"
    }
   ],
   "source": [
    "s=a[:]\n",
    "print(s)\n",
    "s=a[0]\n",
    "print(s)\n",
    "s=a[1]\n",
    "print(s)\n",
    "s=a[2]\n",
    "print(s)\n",
    "s=a[3]\n",
    "print(s)\n",
    "s=a[8]\n",
    "print(s)\n",
    "s=a[0:]\n",
    "print(s)\n",
    "s=a[0:5]\n",
    "print(s)\n",
    "s=a[5:12]\n",
    "print(s)\n",
    "s=a[:12]\n",
    "print(s)\n",
    "type(s)\n"
   ]
  },
  {
   "cell_type": "code",
   "execution_count": null,
   "id": "6b524658-ad9d-4419-886d-86a0f13fec8b",
   "metadata": {},
   "outputs": [],
   "source": []
  },
  {
   "cell_type": "code",
   "execution_count": null,
   "id": "c3e68d40-bfe6-449a-8951-5597f77de329",
   "metadata": {},
   "outputs": [],
   "source": []
  },
  {
   "cell_type": "code",
   "execution_count": null,
   "id": "63fbd7ab-277b-441b-824e-140b8c417634",
   "metadata": {},
   "outputs": [],
   "source": []
  },
  {
   "cell_type": "code",
   "execution_count": null,
   "id": "6232dd1a-fc1c-4fee-b126-37a8ef916fa8",
   "metadata": {},
   "outputs": [],
   "source": []
  },
  {
   "cell_type": "code",
   "execution_count": 4,
   "id": "74b08ba7-1b88-4486-81a3-c523e480a586",
   "metadata": {},
   "outputs": [],
   "source": [
    "#slicing\n",
    "#index number given {left to right start 0} {right to left start -1}\n",
    "#spaces will also count index number and dot[.] also count as slicing index number"
   ]
  },
  {
   "cell_type": "code",
   "execution_count": 5,
   "id": "408ee2c2-6498-4064-a780-19dd7560b504",
   "metadata": {},
   "outputs": [
    {
     "name": "stdout",
     "output_type": "stream",
     "text": [
      "dat\n"
     ]
    },
    {
     "data": {
      "text/plain": [
       "str"
      ]
     },
     "execution_count": 5,
     "metadata": {},
     "output_type": "execute_result"
    }
   ],
   "source": [
    "x=\"data science\" \n",
    "y= x[ :3]\n",
    "\n",
    "print(y)\n",
    "type(x)"
   ]
  },
  {
   "cell_type": "code",
   "execution_count": 6,
   "id": "a3573a33-fb8f-4bf7-a500-1bd97b527d48",
   "metadata": {},
   "outputs": [
    {
     "name": "stdout",
     "output_type": "stream",
     "text": [
      "dat\n"
     ]
    },
    {
     "data": {
      "text/plain": [
       "str"
      ]
     },
     "execution_count": 6,
     "metadata": {},
     "output_type": "execute_result"
    }
   ],
   "source": [
    "z=x[0:3]\n",
    "print(z)\n",
    "type(z)"
   ]
  },
  {
   "cell_type": "code",
   "execution_count": 7,
   "id": "8edced55-a84f-4f8a-a287-f77c49fe02c7",
   "metadata": {},
   "outputs": [
    {
     "name": "stdout",
     "output_type": "stream",
     "text": [
      "data s\n"
     ]
    }
   ],
   "source": [
    "z=x[0:6]\n",
    "\n",
    "print(z)"
   ]
  },
  {
   "cell_type": "code",
   "execution_count": 8,
   "id": "e321339a-e415-412d-b515-afcb454e854e",
   "metadata": {},
   "outputs": [
    {
     "name": "stdout",
     "output_type": "stream",
     "text": [
      "data \n"
     ]
    }
   ],
   "source": [
    "z=x[ :5]\n",
    "\n",
    "print(z)"
   ]
  },
  {
   "cell_type": "code",
   "execution_count": 9,
   "id": "07513f24-93e4-4eaf-afb9-93d143cd4786",
   "metadata": {},
   "outputs": [
    {
     "name": "stdout",
     "output_type": "stream",
     "text": [
      "data science\n"
     ]
    }
   ],
   "source": [
    "z=x[ : ]\n",
    "\n",
    "print(z)"
   ]
  },
  {
   "cell_type": "code",
   "execution_count": 10,
   "id": "dd866ffe-8154-45ed-be78-b44d46c69095",
   "metadata": {},
   "outputs": [
    {
     "name": "stdout",
     "output_type": "stream",
     "text": [
      "data science\n"
     ]
    }
   ],
   "source": [
    "z=x[ :12]\n",
    "print(z)"
   ]
  },
  {
   "cell_type": "code",
   "execution_count": 11,
   "id": "d3441149-3e15-4893-8969-2af9bba43799",
   "metadata": {},
   "outputs": [
    {
     "name": "stdout",
     "output_type": "stream",
     "text": [
      "DASC\n"
     ]
    }
   ],
   "source": [
    "z=x[ :2].upper()+x[5:7].upper()\n",
    "print(z)"
   ]
  },
  {
   "cell_type": "code",
   "execution_count": 12,
   "id": "b3fabbc8-5f0d-49e4-a565-c7a9df0346d9",
   "metadata": {},
   "outputs": [
    {
     "name": "stdout",
     "output_type": "stream",
     "text": [
      "dasc\n"
     ]
    }
   ],
   "source": [
    "z=x[ :2]+x[5:7]\n",
    "print(z)"
   ]
  },
  {
   "cell_type": "code",
   "execution_count": 13,
   "id": "75bbfa8c-cd7e-4052-ad7f-9b33574abf50",
   "metadata": {},
   "outputs": [
    {
     "name": "stdout",
     "output_type": "stream",
     "text": [
      "a s\n"
     ]
    }
   ],
   "source": [
    "z=x[3:5]+x[5:6] #or \n",
    "print(z)"
   ]
  },
  {
   "cell_type": "code",
   "execution_count": 14,
   "id": "0224539c-3329-4c91-8169-dc46f5f845c0",
   "metadata": {},
   "outputs": [
    {
     "name": "stdout",
     "output_type": "stream",
     "text": [
      "a s\n"
     ]
    }
   ],
   "source": [
    "z=x[3:6]\n",
    "print(z)"
   ]
  },
  {
   "cell_type": "code",
   "execution_count": 15,
   "id": "eec5b541-2261-42f8-be79-d337e36be0cf",
   "metadata": {},
   "outputs": [
    {
     "name": "stdout",
     "output_type": "stream",
     "text": [
      "tace\n"
     ]
    }
   ],
   "source": [
    "z=x[ 2:4]+x[10:12]\n",
    "print(z)"
   ]
  },
  {
   "cell_type": "code",
   "execution_count": 16,
   "id": "dd25d736-5529-4338-aa35-5dbd49aed5ec",
   "metadata": {},
   "outputs": [
    {
     "name": "stdout",
     "output_type": "stream",
     "text": [
      "TACE\n"
     ]
    }
   ],
   "source": [
    "z=x[ 2:4].upper()+x[10:12].upper()\n",
    "print(z)"
   ]
  },
  {
   "cell_type": "code",
   "execution_count": 17,
   "id": "438ef0a4-03a6-450c-9840-468a5bd01ae4",
   "metadata": {},
   "outputs": [
    {
     "name": "stdout",
     "output_type": "stream",
     "text": [
      "DATA SCIENCE\n"
     ]
    }
   ],
   "source": [
    "z=x[0: ].upper()\n",
    "print(z)"
   ]
  },
  {
   "cell_type": "code",
   "execution_count": null,
   "id": "9734359f-24fb-4c21-9718-ac218eb2a2e6",
   "metadata": {},
   "outputs": [],
   "source": []
  },
  {
   "cell_type": "code",
   "execution_count": 18,
   "id": "d8410ac6-7146-4cff-88ee-a0dcbe547dde",
   "metadata": {},
   "outputs": [
    {
     "data": {
      "text/plain": [
       "list"
      ]
     },
     "execution_count": 18,
     "metadata": {},
     "output_type": "execute_result"
    }
   ],
   "source": [
    "student=[{'math':['algebra','statics','geomentary']},\n",
    "         {'science':['physics','chemistary','biolagy']},\n",
    "         {'technology':['artificial','ai','programming']}]\n",
    "\n",
    "type(student)"
   ]
  },
  {
   "cell_type": "code",
   "execution_count": 19,
   "id": "fe2212f1-f28b-4620-9e53-cf75ebd75919",
   "metadata": {},
   "outputs": [
    {
     "name": "stdout",
     "output_type": "stream",
     "text": [
      "[{'math': ['algebra', 'statics', 'geomentary']}, {'science': ['physics', 'chemistary', 'biolagy']}, {'technology': ['artificial', 'ai', 'programming']}]\n"
     ]
    },
    {
     "data": {
      "text/plain": [
       "list"
      ]
     },
     "execution_count": 19,
     "metadata": {},
     "output_type": "execute_result"
    }
   ],
   "source": [
    "a=student[: ]\n",
    "print(a)\n",
    "type(a)"
   ]
  },
  {
   "cell_type": "code",
   "execution_count": 20,
   "id": "7878eb05-e9aa-4c45-951d-2b83e5ede946",
   "metadata": {},
   "outputs": [
    {
     "name": "stdout",
     "output_type": "stream",
     "text": [
      "{'math': ['algebra', 'statics', 'geomentary']}\n"
     ]
    }
   ],
   "source": [
    "a=student[ 0 ]\n",
    "print(a)"
   ]
  },
  {
   "cell_type": "code",
   "execution_count": 21,
   "id": "60c14b96-20e7-4143-9be6-a87e2df2ef59",
   "metadata": {},
   "outputs": [
    {
     "name": "stdout",
     "output_type": "stream",
     "text": [
      "{'science': ['physics', 'chemistary', 'biolagy']}\n"
     ]
    }
   ],
   "source": [
    "a=student[ 1 ]\n",
    "print(a)"
   ]
  },
  {
   "cell_type": "code",
   "execution_count": 22,
   "id": "80b73934-39f9-4988-b87a-56da55e94623",
   "metadata": {},
   "outputs": [
    {
     "name": "stdout",
     "output_type": "stream",
     "text": [
      "{'technology': ['artificial', 'ai', 'programming']}\n"
     ]
    }
   ],
   "source": [
    "a=student[ 2 ] \n",
    "print(a)"
   ]
  },
  {
   "cell_type": "code",
   "execution_count": 23,
   "id": "f215cab3-cc23-4476-8579-124a08ce1f6a",
   "metadata": {},
   "outputs": [
    {
     "name": "stdout",
     "output_type": "stream",
     "text": [
      "[{'math': ['algebra', 'statics', 'geomentary']}, {'science': ['physics', 'chemistary', 'biolagy']}, {'technology': ['artificial', 'ai', 'programming']}]\n"
     ]
    }
   ],
   "source": [
    "a=student[ :4]\n",
    "print(a)"
   ]
  },
  {
   "cell_type": "code",
   "execution_count": 24,
   "id": "0e79fb19-1e1b-44a2-812a-6e2c07f54fcf",
   "metadata": {},
   "outputs": [
    {
     "name": "stdout",
     "output_type": "stream",
     "text": [
      "[{'math': ['algebra', 'statics', 'geomentary']}, {'science': ['physics', 'chemistary', 'biolagy']}]\n"
     ]
    },
    {
     "data": {
      "text/plain": [
       "list"
      ]
     },
     "execution_count": 24,
     "metadata": {},
     "output_type": "execute_result"
    }
   ],
   "source": [
    "b=student[:2]\n",
    "print(b)\n",
    "type(b)"
   ]
  },
  {
   "cell_type": "code",
   "execution_count": 25,
   "id": "81097ca4-9057-485b-9a79-16d2096abe36",
   "metadata": {},
   "outputs": [
    {
     "name": "stdout",
     "output_type": "stream",
     "text": [
      "statics\n"
     ]
    }
   ],
   "source": [
    "b=student[0]['math'][1]\n",
    "print(b)"
   ]
  },
  {
   "cell_type": "code",
   "execution_count": 26,
   "id": "6bed9c5f-ee5a-4173-b270-3260577a0e96",
   "metadata": {},
   "outputs": [
    {
     "name": "stdout",
     "output_type": "stream",
     "text": [
      "geomentary\n"
     ]
    }
   ],
   "source": [
    "b=student[0]['math'][2]\n",
    "print(b)"
   ]
  },
  {
   "cell_type": "code",
   "execution_count": 27,
   "id": "cf5b59ea-39c3-4eb3-b993-ab5793419ca9",
   "metadata": {},
   "outputs": [
    {
     "name": "stdout",
     "output_type": "stream",
     "text": [
      "g\n"
     ]
    }
   ],
   "source": [
    "b=student[0]['math'][2][0]\n",
    "print(b)"
   ]
  },
  {
   "cell_type": "code",
   "execution_count": 28,
   "id": "5c1ffb47-4d1b-49a8-b4fb-ad293171729e",
   "metadata": {},
   "outputs": [
    {
     "name": "stdout",
     "output_type": "stream",
     "text": [
      "geo\n"
     ]
    }
   ],
   "source": [
    "b=student[0]['math'][2][0:3]\n",
    "print(b)"
   ]
  },
  {
   "cell_type": "code",
   "execution_count": 29,
   "id": "cf6a509b-0687-4092-9779-fb00152de540",
   "metadata": {},
   "outputs": [
    {
     "name": "stdout",
     "output_type": "stream",
     "text": [
      "geobiopro\n"
     ]
    }
   ],
   "source": [
    "b=student[0]['math'][2][0:3]+student[1]['science'][2][0:3]+student[2]['technology'][2][0:3]\n",
    "print(b)"
   ]
  },
  {
   "cell_type": "code",
   "execution_count": 30,
   "id": "37cc7c34-c10f-4978-90df-d8010edb1e5b",
   "metadata": {},
   "outputs": [
    {
     "name": "stdout",
     "output_type": "stream",
     "text": [
      "geo   bio   pro\n"
     ]
    }
   ],
   "source": [
    "b=student[0]['math'][2][0:3]+\"   \"+student[1]['science'][2][0:3]+\"   \"+student[2]['technology'][2][0:3]\n",
    "print(b)"
   ]
  },
  {
   "cell_type": "code",
   "execution_count": 31,
   "id": "6db400f9-cacd-4b14-9b86-02611cff0c47",
   "metadata": {},
   "outputs": [
    {
     "data": {
      "text/plain": [
       "list"
      ]
     },
     "execution_count": 31,
     "metadata": {},
     "output_type": "execute_result"
    }
   ],
   "source": [
    "s= [['math',['algebra','statics','geomentary']],\n",
    "    ['science',['physics','chemistary','biolagy']],\n",
    "    ['technology',['artificial','ai','programming']]]\n",
    "\n",
    "\n",
    "    \n",
    "type(s)         \n",
    "         "
   ]
  },
  {
   "cell_type": "code",
   "execution_count": 32,
   "id": "b6ca5166-5b41-4d0b-bdeb-7380a7e69042",
   "metadata": {},
   "outputs": [
    {
     "data": {
      "text/plain": [
       "['math', ['algebra', 'statics', 'geomentary']]"
      ]
     },
     "execution_count": 32,
     "metadata": {},
     "output_type": "execute_result"
    }
   ],
   "source": [
    "s[0]"
   ]
  },
  {
   "cell_type": "code",
   "execution_count": 33,
   "id": "3b008b19-7193-4894-a9f2-559c30f8046e",
   "metadata": {},
   "outputs": [
    {
     "data": {
      "text/plain": [
       "['science', ['physics', 'chemistary', 'biolagy']]"
      ]
     },
     "execution_count": 33,
     "metadata": {},
     "output_type": "execute_result"
    }
   ],
   "source": [
    "s[1]"
   ]
  },
  {
   "cell_type": "code",
   "execution_count": 34,
   "id": "862f3690-e4a6-48e0-9392-d1732c28c7ac",
   "metadata": {},
   "outputs": [
    {
     "data": {
      "text/plain": [
       "['technology', ['artificial', 'ai', 'programming']]"
      ]
     },
     "execution_count": 34,
     "metadata": {},
     "output_type": "execute_result"
    }
   ],
   "source": [
    "s[2]"
   ]
  },
  {
   "cell_type": "code",
   "execution_count": 35,
   "id": "cf3d5205-1148-4c1c-94e0-ddcd055faa13",
   "metadata": {},
   "outputs": [
    {
     "data": {
      "text/plain": [
       "'math'"
      ]
     },
     "execution_count": 35,
     "metadata": {},
     "output_type": "execute_result"
    }
   ],
   "source": [
    "s[0][0]\n"
   ]
  },
  {
   "cell_type": "code",
   "execution_count": 36,
   "id": "fdb7aca5-931e-4eac-b951-e9666526ca13",
   "metadata": {},
   "outputs": [
    {
     "data": {
      "text/plain": [
       "['math', ['algebra', 'statics', 'geomentary']]"
      ]
     },
     "execution_count": 36,
     "metadata": {},
     "output_type": "execute_result"
    }
   ],
   "source": [
    "s[0][:]"
   ]
  },
  {
   "cell_type": "code",
   "execution_count": 37,
   "id": "5e837270-61ca-49fe-a5ed-887f9ed4d0f1",
   "metadata": {},
   "outputs": [
    {
     "data": {
      "text/plain": [
       "['algebra', 'statics', 'geomentary']"
      ]
     },
     "execution_count": 37,
     "metadata": {},
     "output_type": "execute_result"
    }
   ],
   "source": [
    "s[0][1]"
   ]
  },
  {
   "cell_type": "code",
   "execution_count": 38,
   "id": "d5438b8e-371a-4457-bb87-2a0b4466f14b",
   "metadata": {},
   "outputs": [
    {
     "data": {
      "text/plain": [
       "'statics'"
      ]
     },
     "execution_count": 38,
     "metadata": {},
     "output_type": "execute_result"
    }
   ],
   "source": [
    "s[0][1][1]"
   ]
  },
  {
   "cell_type": "code",
   "execution_count": 39,
   "id": "7279e0d0-e2da-431d-86dd-52053be83999",
   "metadata": {},
   "outputs": [
    {
     "data": {
      "text/plain": [
       "'geomentary'"
      ]
     },
     "execution_count": 39,
     "metadata": {},
     "output_type": "execute_result"
    }
   ],
   "source": [
    "s[0][1][2]"
   ]
  },
  {
   "cell_type": "code",
   "execution_count": 40,
   "id": "503e967a-f876-4890-9412-1adcd6dfa105",
   "metadata": {},
   "outputs": [
    {
     "data": {
      "text/plain": [
       "'geo'"
      ]
     },
     "execution_count": 40,
     "metadata": {},
     "output_type": "execute_result"
    }
   ],
   "source": [
    "s[0][1][2][0:3]"
   ]
  },
  {
   "cell_type": "code",
   "execution_count": 41,
   "id": "d6743caf-1107-4b95-8d88-195a2e4ae3bf",
   "metadata": {},
   "outputs": [
    {
     "data": {
      "text/plain": [
       "'GEO'"
      ]
     },
     "execution_count": 41,
     "metadata": {},
     "output_type": "execute_result"
    }
   ],
   "source": [
    "s[0][1][2][:3].upper()"
   ]
  },
  {
   "cell_type": "code",
   "execution_count": 42,
   "id": "ded5ca4d-0995-41de-86a9-cb6607d52f2f",
   "metadata": {},
   "outputs": [
    {
     "data": {
      "text/plain": [
       "'bio'"
      ]
     },
     "execution_count": 42,
     "metadata": {},
     "output_type": "execute_result"
    }
   ],
   "source": [
    "s[1][1][2][0:3]"
   ]
  },
  {
   "cell_type": "code",
   "execution_count": 43,
   "id": "091b9c1b-8729-4908-898c-86ee580ea9df",
   "metadata": {},
   "outputs": [
    {
     "data": {
      "text/plain": [
       "'biolagy'"
      ]
     },
     "execution_count": 43,
     "metadata": {},
     "output_type": "execute_result"
    }
   ],
   "source": [
    "s[1][1][2]"
   ]
  },
  {
   "cell_type": "code",
   "execution_count": 44,
   "id": "299562ce-5cb1-4ff3-bfaf-a9761d1d7339",
   "metadata": {},
   "outputs": [
    {
     "data": {
      "text/plain": [
       "'GEOBIOPRO'"
      ]
     },
     "execution_count": 44,
     "metadata": {},
     "output_type": "execute_result"
    }
   ],
   "source": [
    "s[0][1][2][0:3].upper()+s[1][1][2][0:3].upper()+s[2][1][2][0:3].upper()"
   ]
  },
  {
   "cell_type": "code",
   "execution_count": 45,
   "id": "210372b9-8ec5-455c-a820-d14a54066fb1",
   "metadata": {},
   "outputs": [
    {
     "data": {
      "text/plain": [
       "'GEO  BIO  PRO'"
      ]
     },
     "execution_count": 45,
     "metadata": {},
     "output_type": "execute_result"
    }
   ],
   "source": [
    "s[0][1][2][0:3].upper()+\"  \"+s[1][1][2][0:3].upper()+\"  \"+s[2][1][2][0:3].upper()"
   ]
  },
  {
   "cell_type": "code",
   "execution_count": 46,
   "id": "0a6f4e60-d77c-47d1-be7a-b62d1b215e11",
   "metadata": {},
   "outputs": [
    {
     "data": {
      "text/plain": [
       "'GEO  ,BIO , PRO'"
      ]
     },
     "execution_count": 46,
     "metadata": {},
     "output_type": "execute_result"
    }
   ],
   "source": [
    "s[0][1][2][0:3].upper()+\"  ,\"+s[1][1][2][0:3].upper()+\" , \"+s[2][1][2][0:3].upper()\n"
   ]
  },
  {
   "cell_type": "code",
   "execution_count": 47,
   "id": "93856671-ef3a-4fe6-99ca-066f72035728",
   "metadata": {},
   "outputs": [
    {
     "name": "stdout",
     "output_type": "stream",
     "text": [
      "[['math', ['algebra', 'statics', 'geomentary']], ['science', ['physics', 'chemistary', 'biolagy']], ['technology', ['artificial', 'ai', 'programming']]]\n"
     ]
    },
    {
     "data": {
      "text/plain": [
       "list"
      ]
     },
     "execution_count": 47,
     "metadata": {},
     "output_type": "execute_result"
    }
   ],
   "source": [
    "s= [['math',['algebra','statics','geomentary']],\n",
    "    ['science',['physics','chemistary','biolagy']],\n",
    "    ['technology',['artificial','ai','programming']]]\n",
    "l=s\n",
    "print (l)\n",
    "type(s)"
   ]
  },
  {
   "cell_type": "code",
   "execution_count": null,
   "id": "47ee9cfa-8d0f-4ea3-bf1e-556b52f662fb",
   "metadata": {},
   "outputs": [],
   "source": []
  },
  {
   "cell_type": "code",
   "execution_count": 48,
   "id": "dd86733b-679d-4a4b-b067-a7b39da2e46f",
   "metadata": {},
   "outputs": [
    {
     "name": "stdout",
     "output_type": "stream",
     "text": [
      "G,E,O, , ,B,I,O, , ,P,R,O\n"
     ]
    },
    {
     "data": {
      "text/plain": [
       "str"
      ]
     },
     "execution_count": 48,
     "metadata": {},
     "output_type": "execute_result"
    }
   ],
   "source": [
    "k=s[0][1][2][0:3].upper()+\"  \"+s[1][1][2][0:3].upper()+\"  \"+s[2][1][2][0:3].upper()\n",
    "print(\",\".join(k))\n",
    "type(k)"
   ]
  },
  {
   "cell_type": "code",
   "execution_count": null,
   "id": "0983b5f2-b6fa-4b21-8b3c-a30f6cd79b60",
   "metadata": {},
   "outputs": [],
   "source": []
  },
  {
   "cell_type": "code",
   "execution_count": 49,
   "id": "07f75981-e4d3-4aac-bf40-ef064a9b6d5b",
   "metadata": {},
   "outputs": [],
   "source": [
    "#tuple: immutable data type enclosed by ()\n",
    "\n",
    "weekdays=('sun','mon','tue','wed','thu','fri','sat')"
   ]
  },
  {
   "cell_type": "code",
   "execution_count": 50,
   "id": "d2f67893-043a-4583-9a42-f3eba1b3b73b",
   "metadata": {},
   "outputs": [
    {
     "data": {
      "text/plain": [
       "tuple"
      ]
     },
     "execution_count": 50,
     "metadata": {},
     "output_type": "execute_result"
    }
   ],
   "source": [
    "type(weekdays)"
   ]
  },
  {
   "cell_type": "code",
   "execution_count": 63,
   "id": "5c8d78e7-ca49-48f5-9d5b-b405887ada54",
   "metadata": {},
   "outputs": [
    {
     "data": {
      "text/plain": [
       "('sun', 'mon', 'tue', 'wed', 'thu', 'fri', 'sat')"
      ]
     },
     "execution_count": 63,
     "metadata": {},
     "output_type": "execute_result"
    }
   ],
   "source": [
    "weekdays[:]"
   ]
  },
  {
   "cell_type": "code",
   "execution_count": 64,
   "id": "75cf421a-989d-46f6-a473-1ebc10bed877",
   "metadata": {},
   "outputs": [
    {
     "data": {
      "text/plain": [
       "('sun', 'mon', 'tue', 'wed')"
      ]
     },
     "execution_count": 64,
     "metadata": {},
     "output_type": "execute_result"
    }
   ],
   "source": [
    "weekdays[0:4]"
   ]
  },
  {
   "cell_type": "code",
   "execution_count": 65,
   "id": "3d1afeab-460f-4fdc-892c-c06264168428",
   "metadata": {},
   "outputs": [
    {
     "data": {
      "text/plain": [
       "'sun'"
      ]
     },
     "execution_count": 65,
     "metadata": {},
     "output_type": "execute_result"
    }
   ],
   "source": [
    "weekdays[0]"
   ]
  },
  {
   "cell_type": "code",
   "execution_count": 66,
   "id": "0fb43023-3258-469c-919c-0b55cef89a11",
   "metadata": {},
   "outputs": [
    {
     "data": {
      "text/plain": [
       "'sat'"
      ]
     },
     "execution_count": 66,
     "metadata": {},
     "output_type": "execute_result"
    }
   ],
   "source": [
    "weekdays[6]"
   ]
  },
  {
   "cell_type": "code",
   "execution_count": 67,
   "id": "db9eb8fb-b9b1-4660-bb53-0c665ed830ae",
   "metadata": {},
   "outputs": [
    {
     "data": {
      "text/plain": [
       "('tue', 'wed')"
      ]
     },
     "execution_count": 67,
     "metadata": {},
     "output_type": "execute_result"
    }
   ],
   "source": [
    "weekdays[2:4]"
   ]
  },
  {
   "cell_type": "code",
   "execution_count": 68,
   "id": "d2505f83-4bd3-4ac8-8049-825156654186",
   "metadata": {},
   "outputs": [
    {
     "data": {
      "text/plain": [
       "str"
      ]
     },
     "execution_count": 68,
     "metadata": {},
     "output_type": "execute_result"
    }
   ],
   "source": [
    "type(z)"
   ]
  },
  {
   "cell_type": "code",
   "execution_count": 69,
   "id": "5d78c7db-6e2d-4e67-90ee-8d47567df4e1",
   "metadata": {},
   "outputs": [
    {
     "data": {
      "text/plain": [
       "list"
      ]
     },
     "execution_count": 69,
     "metadata": {},
     "output_type": "execute_result"
    }
   ],
   "source": [
    "type(s)"
   ]
  },
  {
   "cell_type": "code",
   "execution_count": null,
   "id": "0a475401-641d-4468-a340-668bdf42f308",
   "metadata": {},
   "outputs": [],
   "source": []
  }
 ],
 "metadata": {
  "kernelspec": {
   "display_name": "Python 3 (ipykernel)",
   "language": "python",
   "name": "python3"
  },
  "language_info": {
   "codemirror_mode": {
    "name": "ipython",
    "version": 3
   },
   "file_extension": ".py",
   "mimetype": "text/x-python",
   "name": "python",
   "nbconvert_exporter": "python",
   "pygments_lexer": "ipython3",
   "version": "3.12.7"
  }
 },
 "nbformat": 4,
 "nbformat_minor": 5
}
